{
 "cells": [
  {
   "cell_type": "markdown",
   "id": "64e0d04004259c9c",
   "metadata": {},
   "source": [
    "# some examples how to use the eo_processing `AOI_tiler` for splitting a given AOI into tiles for direct use in the JobManager"
   ]
  },
  {
   "cell_type": "markdown",
   "id": "ac72825d6125bbb2",
   "metadata": {},
   "source": [
    "AOI can be: GeoPandas GeoDataFrame; openEO BoundingBox dictionary; GeoJSON dictionary; Path to a local GeoJSON, geoparquet of other vector file or a shapely Polygon\n",
    "\n",
    "tiling grid can be supplied as: GeoPandas GeoDataFrame; URL link to a geoparquet file; Path to a local geoparquet file, GeoJSON file or any other vector format Geopandas can open (shapefile, geopackage,...); or the string `EU` or `global`\n",
    "\n",
    "Note: the string `global` can be only used when you supply a `storage` object with GDrive credentials to the WEED GDrive\n",
    "\n",
    "merge_columns: that are columns in the AOI dataset you want to take over to the job_dataframe\n"
   ]
  },
  {
   "cell_type": "code",
   "id": "61af9c39eec7b16c",
   "metadata": {
    "ExecuteTime": {
     "end_time": "2025-03-19T18:00:31.588536Z",
     "start_time": "2025-03-19T18:00:29.923074Z"
    }
   },
   "source": [
    "from eo_processing.utils.geoprocessing import AOI_tiler\n",
    "from eo_processing.utils.storage import WEED_storage\n",
    "import geopandas as gpd"
   ],
   "outputs": [],
   "execution_count": 1
  },
  {
   "cell_type": "markdown",
   "id": "9c2940ba-0c04-416f-87a8-c15055cc4d2f",
   "metadata": {},
   "source": [
    "#### create all the possibilities of the AOI input (GeoDataFrame, openEO BBOX, GeoJson object, path to local GeoJSON file, shapely polygon)"
   ]
  },
  {
   "cell_type": "code",
   "id": "2db9b4ae738f6604",
   "metadata": {
    "ExecuteTime": {
     "end_time": "2025-03-19T18:00:34.355005Z",
     "start_time": "2025-03-19T18:00:34.274993Z"
    }
   },
   "source": [
    "AOI_1 = gpd.read_file(r'C:\\Users\\BUCHHORM\\Downloads\\aoi_Obsgession_pilots\\Obsgession_sites_data-processing-timeseries.gpkg')\n",
    "AOI_2 = {'west': 6.778564, 'south': 52.175195, 'east': 6.888428, 'north': 52.243358, 'crs': 'EPSG:4326'}\n",
    "AOI_3 = {\n",
    "  \"type\": \"FeatureCollection\",\n",
    "  \"features\": [\n",
    "    {\n",
    "      \"type\": \"Feature\",\n",
    "      \"properties\": {},\n",
    "      \"geometry\": {\n",
    "        \"coordinates\": [\n",
    "          [\n",
    "            [\n",
    "              4.607220091160656,\n",
    "              50.897136941952056\n",
    "            ],\n",
    "            [\n",
    "              4.607220091160656,\n",
    "              50.7245813883882\n",
    "            ],\n",
    "            [\n",
    "              5.019776099292727,\n",
    "              50.7245813883882\n",
    "            ],\n",
    "            [\n",
    "              5.019776099292727,\n",
    "              50.897136941952056\n",
    "            ],\n",
    "            [\n",
    "              4.607220091160656,\n",
    "              50.897136941952056\n",
    "            ]\n",
    "          ]\n",
    "        ],\n",
    "        \"type\": \"Polygon\"\n",
    "      }\n",
    "    }\n",
    "  ]\n",
    "}\n",
    "AOI_4 = r'C:\\Users\\BUCHHORM\\Downloads\\map.geojson'\n",
    "AOI_5 = r'C:\\Users\\BUCHHORM\\Downloads\\aoi_Obsgession_pilots\\Obsgession_sites_data-processing-timeseries.gpkg'\n",
    "AOI_6 = r'C:\\Users\\BUCHHORM\\Downloads\\map.parquet'\n",
    "\n",
    "from shapely.geometry import shape\n",
    "shapely_objects = []\n",
    "for feature in AOI_3[\"features\"]:\n",
    "    geometry = feature[\"geometry\"]  # Extract geometry\n",
    "    shapely_obj = shape(geometry)  # Convert to Shapely object\n",
    "    shapely_objects.append(shapely_obj)\n",
    "\n",
    "AOI_7 =  shapely_objects[0]"
   ],
   "outputs": [],
   "execution_count": 2
  },
  {
   "cell_type": "markdown",
   "id": "f6be24d3-6005-4911-b3a6-da6c8575c9ee",
   "metadata": {
    "ExecuteTime": {
     "end_time": "2025-03-19T16:11:32.424221Z",
     "start_time": "2025-03-19T16:11:32.411765Z"
    }
   },
   "source": "#### create all the possibilities the tiling grid can be (GeoDataFrame, link to geoparquet (artifactory upload), path to local geoparquet, path to local geopackage file (or shapefile), path to loacal geojson file, keyword EU for WEED EU resources, keyword global for WEED global 20x20km grid saved on GDrive )"
  },
  {
   "cell_type": "code",
   "id": "2ba4a38b0ed90732",
   "metadata": {
    "ExecuteTime": {
     "end_time": "2025-03-19T18:00:48.616961Z",
     "start_time": "2025-03-19T18:00:36.118367Z"
    }
   },
   "source": [
    "grid_1 = gpd.read_file(r'\\\\netapp03.vgt.vito.be\\habitat\\ancillary\\global_terrestrial_UTM20k_grid_v2.gpkg')\n",
    "grid_2 = r'https://artifactory.vgt.vito.be/artifactory/auxdata-public/gfmap/s2grid_voronoi_4326.parquet'\n",
    "grid_3 = r'C:\\Users\\BUCHHORM\\Downloads\\s2grid_voronoi_4326.parquet'\n",
    "grid_4 = r'\\\\netapp03.vgt.vito.be\\habitat\\ancillary\\global_terrestrial_UTM20k_grid_v2.gpkg'\n",
    "grid_5 = r'C:\\Users\\BUCHHORM\\Downloads\\s2grid_voronoi_4326.geojson'\n",
    "grid_6 = 'EU'\n",
    "grid_7 = 'global'\n",
    "grid_8 = 'should_not_work'\n",
    "grid_7_storage = WEED_storage(username='buchhornm')"
   ],
   "outputs": [],
   "execution_count": 3
  },
  {
   "metadata": {},
   "cell_type": "markdown",
   "source": "### Tests",
   "id": "4d82dd15cc270e1c"
  },
  {
   "metadata": {
    "ExecuteTime": {
     "end_time": "2025-03-19T18:04:32.855810Z",
     "start_time": "2025-03-19T18:04:21.572844Z"
    }
   },
   "cell_type": "code",
   "source": [
    "# all versus GDF\n",
    "result_1 = AOI_tiler(AOI=AOI_1, tiling_grid=grid_1, merge_columns=None, storage=None)\n",
    "result_2 = AOI_tiler(AOI=AOI_2, tiling_grid=grid_1, merge_columns=None, storage=None)\n",
    "result_3 = AOI_tiler(AOI=AOI_3, tiling_grid=grid_1, merge_columns=None, storage=None)\n",
    "result_4 = AOI_tiler(AOI=AOI_4, tiling_grid=grid_1, merge_columns=None, storage=None)\n",
    "result_5 = AOI_tiler(AOI=AOI_5, tiling_grid=grid_1, merge_columns=None, storage=None)\n",
    "result_6 = AOI_tiler(AOI=AOI_6, tiling_grid=grid_1, merge_columns=None, storage=None)\n",
    "result_7 = AOI_tiler(AOI=AOI_7, tiling_grid=grid_1, merge_columns=None, storage=None)"
   ],
   "id": "d9fbce904f50eeb5",
   "outputs": [],
   "execution_count": 7
  },
  {
   "metadata": {
    "ExecuteTime": {
     "end_time": "2025-03-19T17:47:17.988420Z",
     "start_time": "2025-03-19T17:47:06.248672Z"
    }
   },
   "cell_type": "code",
   "source": [
    "# all against a tiling grid given by URL (http or https)\n",
    "result_8 = AOI_tiler(AOI=AOI_1, tiling_grid=grid_2, merge_columns=None, storage=None)\n",
    "result_9 = AOI_tiler(AOI=AOI_2, tiling_grid=grid_2, merge_columns=None, storage=None)\n",
    "result_10 = AOI_tiler(AOI=AOI_3, tiling_grid=grid_2, merge_columns=None, storage=None)\n",
    "result_11 = AOI_tiler(AOI=AOI_4, tiling_grid=grid_2, merge_columns=None, storage=None)\n",
    "result_12 = AOI_tiler(AOI=AOI_5, tiling_grid=grid_2, merge_columns=None, storage=None)\n",
    "result_13 = AOI_tiler(AOI=AOI_6, tiling_grid=grid_2, merge_columns=None, storage=None)\n",
    "result_14 = AOI_tiler(AOI=AOI_7, tiling_grid=grid_2, merge_columns=None, storage=None)"
   ],
   "id": "8ccf36536d42b2d5",
   "outputs": [
    {
     "name": "stdout",
     "output_type": "stream",
     "text": [
      "WARNING: the column \"grid20id\" or \"name\" was not found in the tiling grid. slower workflow for intersection is used.\n",
      "WARNING: the column \"bbox_dict\" was not found in the tiling grid. Automatic spatial extent generation in the job_function of the JobManager will be not possible\n",
      "WARNING: the column \"grid20id\" or \"name\" was not found in the tiling grid. slower workflow for intersection is used.\n",
      "WARNING: the column \"bbox_dict\" was not found in the tiling grid. Automatic spatial extent generation in the job_function of the JobManager will be not possible\n",
      "WARNING: the column \"grid20id\" or \"name\" was not found in the tiling grid. slower workflow for intersection is used.\n",
      "WARNING: the column \"bbox_dict\" was not found in the tiling grid. Automatic spatial extent generation in the job_function of the JobManager will be not possible\n",
      "WARNING: the column \"grid20id\" or \"name\" was not found in the tiling grid. slower workflow for intersection is used.\n",
      "WARNING: the column \"bbox_dict\" was not found in the tiling grid. Automatic spatial extent generation in the job_function of the JobManager will be not possible\n",
      "WARNING: the column \"grid20id\" or \"name\" was not found in the tiling grid. slower workflow for intersection is used.\n",
      "WARNING: the column \"bbox_dict\" was not found in the tiling grid. Automatic spatial extent generation in the job_function of the JobManager will be not possible\n",
      "WARNING: the column \"grid20id\" or \"name\" was not found in the tiling grid. slower workflow for intersection is used.\n",
      "WARNING: the column \"bbox_dict\" was not found in the tiling grid. Automatic spatial extent generation in the job_function of the JobManager will be not possible\n",
      "WARNING: the column \"grid20id\" or \"name\" was not found in the tiling grid. slower workflow for intersection is used.\n",
      "WARNING: the column \"bbox_dict\" was not found in the tiling grid. Automatic spatial extent generation in the job_function of the JobManager will be not possible\n"
     ]
    }
   ],
   "execution_count": 7
  },
  {
   "metadata": {
    "ExecuteTime": {
     "end_time": "2025-03-19T17:49:06.372540Z",
     "start_time": "2025-03-19T17:48:55.512137Z"
    }
   },
   "cell_type": "code",
   "source": [
    "# all against a tiling_grid loaded from a local geoparquet file\n",
    "result_15 = AOI_tiler(AOI=AOI_1, tiling_grid=grid_3, merge_columns=None, storage=None)\n",
    "result_16 = AOI_tiler(AOI=AOI_2, tiling_grid=grid_3, merge_columns=None, storage=None)\n",
    "result_17 = AOI_tiler(AOI=AOI_3, tiling_grid=grid_3, merge_columns=None, storage=None)\n",
    "result_18 = AOI_tiler(AOI=AOI_4, tiling_grid=grid_3, merge_columns=None, storage=None)\n",
    "result_19 = AOI_tiler(AOI=AOI_5, tiling_grid=grid_3, merge_columns=None, storage=None)\n",
    "result_20 = AOI_tiler(AOI=AOI_6, tiling_grid=grid_3, merge_columns=None, storage=None)\n",
    "result_21 = AOI_tiler(AOI=AOI_7, tiling_grid=grid_3, merge_columns=None, storage=None)"
   ],
   "id": "aef6de7f81753af3",
   "outputs": [
    {
     "name": "stdout",
     "output_type": "stream",
     "text": [
      "WARNING: the column \"grid20id\" or \"name\" was not found in the tiling grid. slower workflow for intersection is used.\n",
      "WARNING: the column \"bbox_dict\" was not found in the tiling grid. Automatic spatial extent generation in the job_function of the JobManager will be not possible\n",
      "WARNING: the column \"grid20id\" or \"name\" was not found in the tiling grid. slower workflow for intersection is used.\n",
      "WARNING: the column \"bbox_dict\" was not found in the tiling grid. Automatic spatial extent generation in the job_function of the JobManager will be not possible\n",
      "WARNING: the column \"grid20id\" or \"name\" was not found in the tiling grid. slower workflow for intersection is used.\n",
      "WARNING: the column \"bbox_dict\" was not found in the tiling grid. Automatic spatial extent generation in the job_function of the JobManager will be not possible\n",
      "WARNING: the column \"grid20id\" or \"name\" was not found in the tiling grid. slower workflow for intersection is used.\n",
      "WARNING: the column \"bbox_dict\" was not found in the tiling grid. Automatic spatial extent generation in the job_function of the JobManager will be not possible\n",
      "WARNING: the column \"grid20id\" or \"name\" was not found in the tiling grid. slower workflow for intersection is used.\n",
      "WARNING: the column \"bbox_dict\" was not found in the tiling grid. Automatic spatial extent generation in the job_function of the JobManager will be not possible\n",
      "WARNING: the column \"grid20id\" or \"name\" was not found in the tiling grid. slower workflow for intersection is used.\n",
      "WARNING: the column \"bbox_dict\" was not found in the tiling grid. Automatic spatial extent generation in the job_function of the JobManager will be not possible\n",
      "WARNING: the column \"grid20id\" or \"name\" was not found in the tiling grid. slower workflow for intersection is used.\n",
      "WARNING: the column \"bbox_dict\" was not found in the tiling grid. Automatic spatial extent generation in the job_function of the JobManager will be not possible\n"
     ]
    }
   ],
   "execution_count": 8
  },
  {
   "metadata": {
    "ExecuteTime": {
     "end_time": "2025-03-19T17:51:20.145311Z",
     "start_time": "2025-03-19T17:50:47.908366Z"
    }
   },
   "cell_type": "code",
   "source": [
    "# all against a tiling_grid load from a local geopackage (could be also a shapefile or all other formats geopandas read_file() supports)\n",
    "result_22 = AOI_tiler(AOI=AOI_1, tiling_grid=grid_4, merge_columns=None, storage=None)\n",
    "result_23 = AOI_tiler(AOI=AOI_2, tiling_grid=grid_4, merge_columns=None, storage=None)\n",
    "result_24 = AOI_tiler(AOI=AOI_3, tiling_grid=grid_4, merge_columns=None, storage=None)\n",
    "result_25 = AOI_tiler(AOI=AOI_4, tiling_grid=grid_4, merge_columns=None, storage=None)\n",
    "result_26 = AOI_tiler(AOI=AOI_5, tiling_grid=grid_4, merge_columns=None, storage=None)\n",
    "result_27 = AOI_tiler(AOI=AOI_6, tiling_grid=grid_4, merge_columns=None, storage=None)\n",
    "result_28 = AOI_tiler(AOI=AOI_7, tiling_grid=grid_4, merge_columns=None, storage=None)"
   ],
   "id": "c40712d85bfa7861",
   "outputs": [],
   "execution_count": 9
  },
  {
   "metadata": {
    "ExecuteTime": {
     "end_time": "2025-03-19T17:52:42.502016Z",
     "start_time": "2025-03-19T17:52:15.211330Z"
    }
   },
   "cell_type": "code",
   "source": [
    "# all against a tiling_grid loaded from a local geoJSON\n",
    "result_29 = AOI_tiler(AOI=AOI_1, tiling_grid=grid_5, merge_columns=None, storage=None)\n",
    "result_30 = AOI_tiler(AOI=AOI_2, tiling_grid=grid_5, merge_columns=None, storage=None)\n",
    "result_31 = AOI_tiler(AOI=AOI_3, tiling_grid=grid_5, merge_columns=None, storage=None)\n",
    "result_32 = AOI_tiler(AOI=AOI_4, tiling_grid=grid_5, merge_columns=None, storage=None)\n",
    "result_33 = AOI_tiler(AOI=AOI_5, tiling_grid=grid_5, merge_columns=None, storage=None)\n",
    "result_34 = AOI_tiler(AOI=AOI_6, tiling_grid=grid_5, merge_columns=None, storage=None)\n",
    "result_35 = AOI_tiler(AOI=AOI_7, tiling_grid=grid_5, merge_columns=None, storage=None)"
   ],
   "id": "1f010d12e32ca9b6",
   "outputs": [
    {
     "name": "stdout",
     "output_type": "stream",
     "text": [
      "WARNING: the column \"grid20id\" or \"name\" was not found in the tiling grid. slower workflow for intersection is used.\n",
      "WARNING: the column \"bbox_dict\" was not found in the tiling grid. Automatic spatial extent generation in the job_function of the JobManager will be not possible\n",
      "WARNING: the column \"grid20id\" or \"name\" was not found in the tiling grid. slower workflow for intersection is used.\n",
      "WARNING: the column \"bbox_dict\" was not found in the tiling grid. Automatic spatial extent generation in the job_function of the JobManager will be not possible\n",
      "WARNING: the column \"grid20id\" or \"name\" was not found in the tiling grid. slower workflow for intersection is used.\n",
      "WARNING: the column \"bbox_dict\" was not found in the tiling grid. Automatic spatial extent generation in the job_function of the JobManager will be not possible\n",
      "WARNING: the column \"grid20id\" or \"name\" was not found in the tiling grid. slower workflow for intersection is used.\n",
      "WARNING: the column \"bbox_dict\" was not found in the tiling grid. Automatic spatial extent generation in the job_function of the JobManager will be not possible\n",
      "WARNING: the column \"grid20id\" or \"name\" was not found in the tiling grid. slower workflow for intersection is used.\n",
      "WARNING: the column \"bbox_dict\" was not found in the tiling grid. Automatic spatial extent generation in the job_function of the JobManager will be not possible\n",
      "WARNING: the column \"grid20id\" or \"name\" was not found in the tiling grid. slower workflow for intersection is used.\n",
      "WARNING: the column \"bbox_dict\" was not found in the tiling grid. Automatic spatial extent generation in the job_function of the JobManager will be not possible\n",
      "WARNING: the column \"grid20id\" or \"name\" was not found in the tiling grid. slower workflow for intersection is used.\n",
      "WARNING: the column \"bbox_dict\" was not found in the tiling grid. Automatic spatial extent generation in the job_function of the JobManager will be not possible\n"
     ]
    }
   ],
   "execution_count": 10
  },
  {
   "metadata": {
    "ExecuteTime": {
     "end_time": "2025-03-19T18:01:04.778749Z",
     "start_time": "2025-03-19T18:00:54.688710Z"
    }
   },
   "cell_type": "code",
   "source": [
    "# all against a tiling_grid defined by the keyword \"EU\" (load from eo_processing package resources)\n",
    "result_36 = AOI_tiler(AOI=AOI_1, tiling_grid=grid_6, merge_columns=None, storage=None)\n",
    "result_37 = AOI_tiler(AOI=AOI_2, tiling_grid=grid_6, merge_columns=None, storage=None)\n",
    "result_38 = AOI_tiler(AOI=AOI_3, tiling_grid=grid_6, merge_columns=None, storage=None)\n",
    "result_39 = AOI_tiler(AOI=AOI_4, tiling_grid=grid_6, merge_columns=None, storage=None)\n",
    "result_40 = AOI_tiler(AOI=AOI_5, tiling_grid=grid_6, merge_columns=None, storage=None)\n",
    "result_41 = AOI_tiler(AOI=AOI_6, tiling_grid=grid_6, merge_columns=None, storage=None)\n",
    "result_42 = AOI_tiler(AOI=AOI_7, tiling_grid=grid_6, merge_columns=None, storage=None)"
   ],
   "id": "29f5b1212e0cd5cb",
   "outputs": [
    {
     "name": "stdout",
     "output_type": "stream",
     "text": [
      "WARNING: the column \"bbox_dict\" was not found in the tiling grid. Automatic spatial extent generation in the job_function of the JobManager will be not possible\n",
      "WARNING: the column \"bbox_dict\" was not found in the tiling grid. Automatic spatial extent generation in the job_function of the JobManager will be not possible\n",
      "WARNING: the column \"bbox_dict\" was not found in the tiling grid. Automatic spatial extent generation in the job_function of the JobManager will be not possible\n",
      "WARNING: the column \"bbox_dict\" was not found in the tiling grid. Automatic spatial extent generation in the job_function of the JobManager will be not possible\n",
      "WARNING: the column \"bbox_dict\" was not found in the tiling grid. Automatic spatial extent generation in the job_function of the JobManager will be not possible\n",
      "WARNING: the column \"bbox_dict\" was not found in the tiling grid. Automatic spatial extent generation in the job_function of the JobManager will be not possible\n",
      "WARNING: the column \"bbox_dict\" was not found in the tiling grid. Automatic spatial extent generation in the job_function of the JobManager will be not possible\n"
     ]
    }
   ],
   "execution_count": 4
  },
  {
   "metadata": {
    "ExecuteTime": {
     "end_time": "2025-03-19T18:03:54.044803Z",
     "start_time": "2025-03-19T18:02:52.499756Z"
    }
   },
   "cell_type": "code",
   "source": [
    "# all against a tiling_gird defined by keyword \"global\" (load from WEED storage and needs storage object with GDRIVE credentials)\n",
    "result_43 = AOI_tiler(AOI=AOI_1, tiling_grid=grid_7, merge_columns=None, storage=grid_7_storage)\n",
    "result_44 = AOI_tiler(AOI=AOI_2, tiling_grid=grid_7, merge_columns=None, storage=grid_7_storage)\n",
    "result_45 = AOI_tiler(AOI=AOI_3, tiling_grid=grid_7, merge_columns=None, storage=grid_7_storage)\n",
    "result_46 = AOI_tiler(AOI=AOI_4, tiling_grid=grid_7, merge_columns=None, storage=grid_7_storage)\n",
    "result_47 = AOI_tiler(AOI=AOI_5, tiling_grid=grid_7, merge_columns=None, storage=grid_7_storage)\n",
    "result_48 = AOI_tiler(AOI=AOI_6, tiling_grid=grid_7, merge_columns=None, storage=grid_7_storage)\n",
    "result_49 = AOI_tiler(AOI=AOI_7, tiling_grid=grid_7, merge_columns=None, storage=grid_7_storage)"
   ],
   "id": "d733daf21d1d971d",
   "outputs": [],
   "execution_count": 5
  },
  {
   "metadata": {
    "ExecuteTime": {
     "end_time": "2025-03-19T18:03:58.122093Z",
     "start_time": "2025-03-19T18:03:57.331835Z"
    }
   },
   "cell_type": "code",
   "source": [
    "# conter test which should not work\n",
    "result_50 = AOI_tiler(AOI=AOI_1, tiling_grid=grid_8, merge_columns=None, storage=None)"
   ],
   "id": "1e4079d1c75fd93d",
   "outputs": [
    {
     "ename": "ValueError",
     "evalue": "If a path to a local file was supplied, it must be either a geoparquet or geopandas file or a geoJSON file. ",
     "output_type": "error",
     "traceback": [
      "\u001B[1;31m---------------------------------------------------------------------------\u001B[0m",
      "\u001B[1;31mDataSourceError\u001B[0m                           Traceback (most recent call last)",
      "File \u001B[1;32m~\\PycharmProjects\\eo_processing\\src\\eo_processing\\utils\\geoprocessing.py:146\u001B[0m, in \u001B[0;36mAOI_tiler\u001B[1;34m(AOI, tiling_grid, merge_columns, storage)\u001B[0m\n\u001B[0;32m    145\u001B[0m \u001B[38;5;28;01mtry\u001B[39;00m:\n\u001B[1;32m--> 146\u001B[0m     tiling_grid_gdf \u001B[38;5;241m=\u001B[39m \u001B[43mgpd\u001B[49m\u001B[38;5;241;43m.\u001B[39;49m\u001B[43mread_file\u001B[49m\u001B[43m(\u001B[49m\u001B[43mtiling_grid\u001B[49m\u001B[43m)\u001B[49m\n\u001B[0;32m    147\u001B[0m     tiling_grid_gdf \u001B[38;5;241m=\u001B[39m tiling_grid_gdf\u001B[38;5;241m.\u001B[39mto_crs(\u001B[38;5;124m'\u001B[39m\u001B[38;5;124mEPSG:4326\u001B[39m\u001B[38;5;124m'\u001B[39m)\n",
      "File \u001B[1;32m~\\Anaconda3\\envs\\weed\\Lib\\site-packages\\geopandas\\io\\file.py:294\u001B[0m, in \u001B[0;36m_read_file\u001B[1;34m(filename, bbox, mask, columns, rows, engine, **kwargs)\u001B[0m\n\u001B[0;32m    293\u001B[0m \u001B[38;5;28;01mif\u001B[39;00m engine \u001B[38;5;241m==\u001B[39m \u001B[38;5;124m\"\u001B[39m\u001B[38;5;124mpyogrio\u001B[39m\u001B[38;5;124m\"\u001B[39m:\n\u001B[1;32m--> 294\u001B[0m     \u001B[38;5;28;01mreturn\u001B[39;00m \u001B[43m_read_file_pyogrio\u001B[49m\u001B[43m(\u001B[49m\n\u001B[0;32m    295\u001B[0m \u001B[43m        \u001B[49m\u001B[43mfilename\u001B[49m\u001B[43m,\u001B[49m\u001B[43m \u001B[49m\u001B[43mbbox\u001B[49m\u001B[38;5;241;43m=\u001B[39;49m\u001B[43mbbox\u001B[49m\u001B[43m,\u001B[49m\u001B[43m \u001B[49m\u001B[43mmask\u001B[49m\u001B[38;5;241;43m=\u001B[39;49m\u001B[43mmask\u001B[49m\u001B[43m,\u001B[49m\u001B[43m \u001B[49m\u001B[43mcolumns\u001B[49m\u001B[38;5;241;43m=\u001B[39;49m\u001B[43mcolumns\u001B[49m\u001B[43m,\u001B[49m\u001B[43m \u001B[49m\u001B[43mrows\u001B[49m\u001B[38;5;241;43m=\u001B[39;49m\u001B[43mrows\u001B[49m\u001B[43m,\u001B[49m\u001B[43m \u001B[49m\u001B[38;5;241;43m*\u001B[39;49m\u001B[38;5;241;43m*\u001B[39;49m\u001B[43mkwargs\u001B[49m\n\u001B[0;32m    296\u001B[0m \u001B[43m    \u001B[49m\u001B[43m)\u001B[49m\n\u001B[0;32m    298\u001B[0m \u001B[38;5;28;01melif\u001B[39;00m engine \u001B[38;5;241m==\u001B[39m \u001B[38;5;124m\"\u001B[39m\u001B[38;5;124mfiona\u001B[39m\u001B[38;5;124m\"\u001B[39m:\n",
      "File \u001B[1;32m~\\Anaconda3\\envs\\weed\\Lib\\site-packages\\geopandas\\io\\file.py:547\u001B[0m, in \u001B[0;36m_read_file_pyogrio\u001B[1;34m(path_or_bytes, bbox, mask, rows, **kwargs)\u001B[0m\n\u001B[0;32m    545\u001B[0m     kwargs[\u001B[38;5;124m\"\u001B[39m\u001B[38;5;124mcolumns\u001B[39m\u001B[38;5;124m\"\u001B[39m] \u001B[38;5;241m=\u001B[39m kwargs\u001B[38;5;241m.\u001B[39mpop(\u001B[38;5;124m\"\u001B[39m\u001B[38;5;124minclude_fields\u001B[39m\u001B[38;5;124m\"\u001B[39m)\n\u001B[1;32m--> 547\u001B[0m \u001B[38;5;28;01mreturn\u001B[39;00m \u001B[43mpyogrio\u001B[49m\u001B[38;5;241;43m.\u001B[39;49m\u001B[43mread_dataframe\u001B[49m\u001B[43m(\u001B[49m\u001B[43mpath_or_bytes\u001B[49m\u001B[43m,\u001B[49m\u001B[43m \u001B[49m\u001B[43mbbox\u001B[49m\u001B[38;5;241;43m=\u001B[39;49m\u001B[43mbbox\u001B[49m\u001B[43m,\u001B[49m\u001B[43m \u001B[49m\u001B[38;5;241;43m*\u001B[39;49m\u001B[38;5;241;43m*\u001B[39;49m\u001B[43mkwargs\u001B[49m\u001B[43m)\u001B[49m\n",
      "File \u001B[1;32m~\\Anaconda3\\envs\\weed\\Lib\\site-packages\\pyogrio\\geopandas.py:261\u001B[0m, in \u001B[0;36mread_dataframe\u001B[1;34m(path_or_buffer, layer, encoding, columns, read_geometry, force_2d, skip_features, max_features, where, bbox, mask, fids, sql, sql_dialect, fid_as_index, use_arrow, on_invalid, arrow_to_pandas_kwargs, **kwargs)\u001B[0m\n\u001B[0;32m    260\u001B[0m     kwargs[\u001B[38;5;124m\"\u001B[39m\u001B[38;5;124mdatetime_as_string\u001B[39m\u001B[38;5;124m\"\u001B[39m] \u001B[38;5;241m=\u001B[39m \u001B[38;5;28;01mTrue\u001B[39;00m\n\u001B[1;32m--> 261\u001B[0m result \u001B[38;5;241m=\u001B[39m \u001B[43mread_func\u001B[49m\u001B[43m(\u001B[49m\n\u001B[0;32m    262\u001B[0m \u001B[43m    \u001B[49m\u001B[43mpath_or_buffer\u001B[49m\u001B[43m,\u001B[49m\n\u001B[0;32m    263\u001B[0m \u001B[43m    \u001B[49m\u001B[43mlayer\u001B[49m\u001B[38;5;241;43m=\u001B[39;49m\u001B[43mlayer\u001B[49m\u001B[43m,\u001B[49m\n\u001B[0;32m    264\u001B[0m \u001B[43m    \u001B[49m\u001B[43mencoding\u001B[49m\u001B[38;5;241;43m=\u001B[39;49m\u001B[43mencoding\u001B[49m\u001B[43m,\u001B[49m\n\u001B[0;32m    265\u001B[0m \u001B[43m    \u001B[49m\u001B[43mcolumns\u001B[49m\u001B[38;5;241;43m=\u001B[39;49m\u001B[43mcolumns\u001B[49m\u001B[43m,\u001B[49m\n\u001B[0;32m    266\u001B[0m \u001B[43m    \u001B[49m\u001B[43mread_geometry\u001B[49m\u001B[38;5;241;43m=\u001B[39;49m\u001B[43mread_geometry\u001B[49m\u001B[43m,\u001B[49m\n\u001B[0;32m    267\u001B[0m \u001B[43m    \u001B[49m\u001B[43mforce_2d\u001B[49m\u001B[38;5;241;43m=\u001B[39;49m\u001B[43mgdal_force_2d\u001B[49m\u001B[43m,\u001B[49m\n\u001B[0;32m    268\u001B[0m \u001B[43m    \u001B[49m\u001B[43mskip_features\u001B[49m\u001B[38;5;241;43m=\u001B[39;49m\u001B[43mskip_features\u001B[49m\u001B[43m,\u001B[49m\n\u001B[0;32m    269\u001B[0m \u001B[43m    \u001B[49m\u001B[43mmax_features\u001B[49m\u001B[38;5;241;43m=\u001B[39;49m\u001B[43mmax_features\u001B[49m\u001B[43m,\u001B[49m\n\u001B[0;32m    270\u001B[0m \u001B[43m    \u001B[49m\u001B[43mwhere\u001B[49m\u001B[38;5;241;43m=\u001B[39;49m\u001B[43mwhere\u001B[49m\u001B[43m,\u001B[49m\n\u001B[0;32m    271\u001B[0m \u001B[43m    \u001B[49m\u001B[43mbbox\u001B[49m\u001B[38;5;241;43m=\u001B[39;49m\u001B[43mbbox\u001B[49m\u001B[43m,\u001B[49m\n\u001B[0;32m    272\u001B[0m \u001B[43m    \u001B[49m\u001B[43mmask\u001B[49m\u001B[38;5;241;43m=\u001B[39;49m\u001B[43mmask\u001B[49m\u001B[43m,\u001B[49m\n\u001B[0;32m    273\u001B[0m \u001B[43m    \u001B[49m\u001B[43mfids\u001B[49m\u001B[38;5;241;43m=\u001B[39;49m\u001B[43mfids\u001B[49m\u001B[43m,\u001B[49m\n\u001B[0;32m    274\u001B[0m \u001B[43m    \u001B[49m\u001B[43msql\u001B[49m\u001B[38;5;241;43m=\u001B[39;49m\u001B[43msql\u001B[49m\u001B[43m,\u001B[49m\n\u001B[0;32m    275\u001B[0m \u001B[43m    \u001B[49m\u001B[43msql_dialect\u001B[49m\u001B[38;5;241;43m=\u001B[39;49m\u001B[43msql_dialect\u001B[49m\u001B[43m,\u001B[49m\n\u001B[0;32m    276\u001B[0m \u001B[43m    \u001B[49m\u001B[43mreturn_fids\u001B[49m\u001B[38;5;241;43m=\u001B[39;49m\u001B[43mfid_as_index\u001B[49m\u001B[43m,\u001B[49m\n\u001B[0;32m    277\u001B[0m \u001B[43m    \u001B[49m\u001B[38;5;241;43m*\u001B[39;49m\u001B[38;5;241;43m*\u001B[39;49m\u001B[43mkwargs\u001B[49m\u001B[43m,\u001B[49m\n\u001B[0;32m    278\u001B[0m \u001B[43m\u001B[49m\u001B[43m)\u001B[49m\n\u001B[0;32m    280\u001B[0m \u001B[38;5;28;01mif\u001B[39;00m use_arrow:\n",
      "File \u001B[1;32m~\\Anaconda3\\envs\\weed\\Lib\\site-packages\\pyogrio\\raw.py:196\u001B[0m, in \u001B[0;36mread\u001B[1;34m(path_or_buffer, layer, encoding, columns, read_geometry, force_2d, skip_features, max_features, where, bbox, mask, fids, sql, sql_dialect, return_fids, datetime_as_string, **kwargs)\u001B[0m\n\u001B[0;32m    194\u001B[0m dataset_kwargs \u001B[38;5;241m=\u001B[39m _preprocess_options_key_value(kwargs) \u001B[38;5;28;01mif\u001B[39;00m kwargs \u001B[38;5;28;01melse\u001B[39;00m {}\n\u001B[1;32m--> 196\u001B[0m \u001B[38;5;28;01mreturn\u001B[39;00m \u001B[43mogr_read\u001B[49m\u001B[43m(\u001B[49m\n\u001B[0;32m    197\u001B[0m \u001B[43m    \u001B[49m\u001B[43mget_vsi_path_or_buffer\u001B[49m\u001B[43m(\u001B[49m\u001B[43mpath_or_buffer\u001B[49m\u001B[43m)\u001B[49m\u001B[43m,\u001B[49m\n\u001B[0;32m    198\u001B[0m \u001B[43m    \u001B[49m\u001B[43mlayer\u001B[49m\u001B[38;5;241;43m=\u001B[39;49m\u001B[43mlayer\u001B[49m\u001B[43m,\u001B[49m\n\u001B[0;32m    199\u001B[0m \u001B[43m    \u001B[49m\u001B[43mencoding\u001B[49m\u001B[38;5;241;43m=\u001B[39;49m\u001B[43mencoding\u001B[49m\u001B[43m,\u001B[49m\n\u001B[0;32m    200\u001B[0m \u001B[43m    \u001B[49m\u001B[43mcolumns\u001B[49m\u001B[38;5;241;43m=\u001B[39;49m\u001B[43mcolumns\u001B[49m\u001B[43m,\u001B[49m\n\u001B[0;32m    201\u001B[0m \u001B[43m    \u001B[49m\u001B[43mread_geometry\u001B[49m\u001B[38;5;241;43m=\u001B[39;49m\u001B[43mread_geometry\u001B[49m\u001B[43m,\u001B[49m\n\u001B[0;32m    202\u001B[0m \u001B[43m    \u001B[49m\u001B[43mforce_2d\u001B[49m\u001B[38;5;241;43m=\u001B[39;49m\u001B[43mforce_2d\u001B[49m\u001B[43m,\u001B[49m\n\u001B[0;32m    203\u001B[0m \u001B[43m    \u001B[49m\u001B[43mskip_features\u001B[49m\u001B[38;5;241;43m=\u001B[39;49m\u001B[43mskip_features\u001B[49m\u001B[43m,\u001B[49m\n\u001B[0;32m    204\u001B[0m \u001B[43m    \u001B[49m\u001B[43mmax_features\u001B[49m\u001B[38;5;241;43m=\u001B[39;49m\u001B[43mmax_features\u001B[49m\u001B[43m \u001B[49m\u001B[38;5;129;43;01mor\u001B[39;49;00m\u001B[43m \u001B[49m\u001B[38;5;241;43m0\u001B[39;49m\u001B[43m,\u001B[49m\n\u001B[0;32m    205\u001B[0m \u001B[43m    \u001B[49m\u001B[43mwhere\u001B[49m\u001B[38;5;241;43m=\u001B[39;49m\u001B[43mwhere\u001B[49m\u001B[43m,\u001B[49m\n\u001B[0;32m    206\u001B[0m \u001B[43m    \u001B[49m\u001B[43mbbox\u001B[49m\u001B[38;5;241;43m=\u001B[39;49m\u001B[43mbbox\u001B[49m\u001B[43m,\u001B[49m\n\u001B[0;32m    207\u001B[0m \u001B[43m    \u001B[49m\u001B[43mmask\u001B[49m\u001B[38;5;241;43m=\u001B[39;49m\u001B[43m_mask_to_wkb\u001B[49m\u001B[43m(\u001B[49m\u001B[43mmask\u001B[49m\u001B[43m)\u001B[49m\u001B[43m,\u001B[49m\n\u001B[0;32m    208\u001B[0m \u001B[43m    \u001B[49m\u001B[43mfids\u001B[49m\u001B[38;5;241;43m=\u001B[39;49m\u001B[43mfids\u001B[49m\u001B[43m,\u001B[49m\n\u001B[0;32m    209\u001B[0m \u001B[43m    \u001B[49m\u001B[43msql\u001B[49m\u001B[38;5;241;43m=\u001B[39;49m\u001B[43msql\u001B[49m\u001B[43m,\u001B[49m\n\u001B[0;32m    210\u001B[0m \u001B[43m    \u001B[49m\u001B[43msql_dialect\u001B[49m\u001B[38;5;241;43m=\u001B[39;49m\u001B[43msql_dialect\u001B[49m\u001B[43m,\u001B[49m\n\u001B[0;32m    211\u001B[0m \u001B[43m    \u001B[49m\u001B[43mreturn_fids\u001B[49m\u001B[38;5;241;43m=\u001B[39;49m\u001B[43mreturn_fids\u001B[49m\u001B[43m,\u001B[49m\n\u001B[0;32m    212\u001B[0m \u001B[43m    \u001B[49m\u001B[43mdataset_kwargs\u001B[49m\u001B[38;5;241;43m=\u001B[39;49m\u001B[43mdataset_kwargs\u001B[49m\u001B[43m,\u001B[49m\n\u001B[0;32m    213\u001B[0m \u001B[43m    \u001B[49m\u001B[43mdatetime_as_string\u001B[49m\u001B[38;5;241;43m=\u001B[39;49m\u001B[43mdatetime_as_string\u001B[49m\u001B[43m,\u001B[49m\n\u001B[0;32m    214\u001B[0m \u001B[43m\u001B[49m\u001B[43m)\u001B[49m\n",
      "File \u001B[1;32m~\\Anaconda3\\envs\\weed\\Lib\\site-packages\\pyogrio\\_io.pyx:1239\u001B[0m, in \u001B[0;36mpyogrio._io.ogr_read\u001B[1;34m()\u001B[0m\n",
      "File \u001B[1;32m~\\Anaconda3\\envs\\weed\\Lib\\site-packages\\pyogrio\\_io.pyx:219\u001B[0m, in \u001B[0;36mpyogrio._io.ogr_open\u001B[1;34m()\u001B[0m\n",
      "\u001B[1;31mDataSourceError\u001B[0m: should_not_work: No such file or directory",
      "\nDuring handling of the above exception, another exception occurred:\n",
      "\u001B[1;31mValueError\u001B[0m                                Traceback (most recent call last)",
      "Cell \u001B[1;32mIn[6], line 2\u001B[0m\n\u001B[0;32m      1\u001B[0m \u001B[38;5;66;03m# conter test which should not work\u001B[39;00m\n\u001B[1;32m----> 2\u001B[0m result_50 \u001B[38;5;241m=\u001B[39m \u001B[43mAOI_tiler\u001B[49m\u001B[43m(\u001B[49m\u001B[43mAOI\u001B[49m\u001B[38;5;241;43m=\u001B[39;49m\u001B[43mAOI_1\u001B[49m\u001B[43m,\u001B[49m\u001B[43m \u001B[49m\u001B[43mtiling_grid\u001B[49m\u001B[38;5;241;43m=\u001B[39;49m\u001B[43mgrid_8\u001B[49m\u001B[43m,\u001B[49m\u001B[43m \u001B[49m\u001B[43mmerge_columns\u001B[49m\u001B[38;5;241;43m=\u001B[39;49m\u001B[38;5;28;43;01mNone\u001B[39;49;00m\u001B[43m,\u001B[49m\u001B[43m \u001B[49m\u001B[43mstorage\u001B[49m\u001B[38;5;241;43m=\u001B[39;49m\u001B[38;5;28;43;01mNone\u001B[39;49;00m\u001B[43m)\u001B[49m\n",
      "File \u001B[1;32m~\\PycharmProjects\\eo_processing\\src\\eo_processing\\utils\\geoprocessing.py:150\u001B[0m, in \u001B[0;36mAOI_tiler\u001B[1;34m(AOI, tiling_grid, merge_columns, storage)\u001B[0m\n\u001B[0;32m    148\u001B[0m             tiling_grid_gdf \u001B[38;5;241m=\u001B[39m tiling_grid_gdf[tiling_grid_gdf\u001B[38;5;241m.\u001B[39mgeometry\u001B[38;5;241m.\u001B[39mintersects(bbox_polygon)]\n\u001B[0;32m    149\u001B[0m         \u001B[38;5;28;01mexcept\u001B[39;00m:\n\u001B[1;32m--> 150\u001B[0m             \u001B[38;5;28;01mraise\u001B[39;00m \u001B[38;5;167;01mValueError\u001B[39;00m(\u001B[38;5;124m'\u001B[39m\u001B[38;5;124mIf a path to a local file was supplied, it must be either a geoparquet or \u001B[39m\u001B[38;5;124m'\u001B[39m\n\u001B[0;32m    151\u001B[0m                              \u001B[38;5;124m'\u001B[39m\u001B[38;5;124mgeopandas file or a geoJSON file. \u001B[39m\u001B[38;5;124m'\u001B[39m)\n\u001B[0;32m    152\u001B[0m \u001B[38;5;28;01melse\u001B[39;00m:\n\u001B[0;32m    153\u001B[0m     \u001B[38;5;28;01mraise\u001B[39;00m \u001B[38;5;167;01mValueError\u001B[39;00m(\u001B[38;5;124m'\u001B[39m\u001B[38;5;124mtiling grid must be a valid URL to geoparquet file or a path to local geoparquet, \u001B[39m\u001B[38;5;124m'\u001B[39m\n\u001B[0;32m    154\u001B[0m                      \u001B[38;5;124m'\u001B[39m\u001B[38;5;124mgeoparquet or geoJSON file.\u001B[39m\u001B[38;5;124m'\u001B[39m)\n",
      "\u001B[1;31mValueError\u001B[0m: If a path to a local file was supplied, it must be either a geoparquet or geopandas file or a geoJSON file. "
     ]
    }
   ],
   "execution_count": 6
  },
  {
   "metadata": {},
   "cell_type": "code",
   "outputs": [],
   "execution_count": null,
   "source": "",
   "id": "56fe5e70e4eb8559"
  }
 ],
 "metadata": {
  "kernelspec": {
   "display_name": "weed",
   "language": "python",
   "name": "weed"
  },
  "language_info": {
   "codemirror_mode": {
    "name": "ipython",
    "version": 3
   },
   "file_extension": ".py",
   "mimetype": "text/x-python",
   "name": "python",
   "nbconvert_exporter": "python",
   "pygments_lexer": "ipython3",
   "version": "3.12.5"
  }
 },
 "nbformat": 4,
 "nbformat_minor": 5
}
