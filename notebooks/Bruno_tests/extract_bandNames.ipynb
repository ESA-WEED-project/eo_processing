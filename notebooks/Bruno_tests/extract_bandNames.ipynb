{
 "cells": [
  {
   "cell_type": "code",
   "execution_count": 11,
   "id": "ef949612-b78b-4ed7-bae6-c85128f8c495",
   "metadata": {},
   "outputs": [],
   "source": [
    "from osgeo import gdal\n",
    "import pandas as pd"
   ]
  },
  {
   "cell_type": "code",
   "execution_count": 9,
   "id": "9ed366de-41ba-4830-9635-29b489866f30",
   "metadata": {},
   "outputs": [],
   "source": [
    "file = '/data/habitat/czechrepublic/openEO_tests/alpha-1/3_datacubes_forest-change/cz_test_change_forest_feature-cube_year2018_E474N292.tif'\n",
    "csv_file = '/data/habitat/czechrepublic/openEO_tests/alpha-1/3_datacubes_forest-change/feature-cube_band-names.csv'"
   ]
  },
  {
   "cell_type": "code",
   "execution_count": 5,
   "id": "ece098ae-4213-4156-8a05-47eea805b445",
   "metadata": {},
   "outputs": [
    {
     "name": "stderr",
     "output_type": "stream",
     "text": [
      "Warning 1: /data/habitat/czechrepublic/openEO_tests/alpha-1/3_datacubes_forest-change/cz_test_change_forest_feature-cube_year2018_E474N292.tif: TIFFReadDirectory:Sum of Photometric type-related color channels and ExtraSamples doesn't match SamplesPerPixel. Defining non-color channels as ExtraSamples.\n"
     ]
    }
   ],
   "source": [
    "raster = gdal.Open(file, gdal.GA_ReadOnly)\n",
    "bands = {raster.GetRasterBand(i).GetDescription():i for i in range(1, raster.RasterCount + 1)}"
   ]
  },
  {
   "cell_type": "code",
   "execution_count": 15,
   "id": "10f57de8-4435-4e8b-83e1-acbffdebb218",
   "metadata": {},
   "outputs": [],
   "source": [
    "df = pd.DataFrame.from_dict(bands, orient = 'index')"
   ]
  },
  {
   "cell_type": "code",
   "execution_count": 19,
   "id": "d50b39cc-92c2-4d18-b385-8c12cc044a51",
   "metadata": {},
   "outputs": [],
   "source": [
    "df.to_csv(csv_file)"
   ]
  }
 ],
 "metadata": {
  "kernelspec": {
   "display_name": "Python 3 (ipykernel)",
   "language": "python",
   "name": "python3"
  },
  "language_info": {
   "codemirror_mode": {
    "name": "ipython",
    "version": 3
   },
   "file_extension": ".py",
   "mimetype": "text/x-python",
   "name": "python",
   "nbconvert_exporter": "python",
   "pygments_lexer": "ipython3",
   "version": "3.12.7"
  }
 },
 "nbformat": 4,
 "nbformat_minor": 5
}
