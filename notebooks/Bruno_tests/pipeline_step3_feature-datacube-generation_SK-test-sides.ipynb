{
 "cells": [
  {
   "cell_type": "markdown",
   "id": "7bda3949f48f6336",
   "metadata": {},
   "source": [
    "# Generation of full feature datacubes for the alpha-1 test sites via client-side block processing\n",
    "In this notebook we generate the feature datacubes for the year 2021 which will be used to run the offline inference test to compare the results to the openEO inference run. Moreover, these datacubes will be used to validate the openEO SK training data pipeline results. <br><br>\n",
    "Note: since all test sites are in the EU we use the developed openEO EU 20x20km processing grid which includes optimizes Sentinel-2 tile filters to reduce processing costs. Nevertheless, the approach also works globally by using the openEO global 20x20km processing grid."
   ]
  },
  {
   "cell_type": "code",
   "execution_count": 2,
   "id": "initial_id",
   "metadata": {
    "ExecuteTime": {
     "end_time": "2024-11-27T08:18:36.895020Z",
     "start_time": "2024-11-27T08:18:36.891078Z"
    }
   },
   "outputs": [],
   "source": [
    "import openeo\n",
    "from openeo.extra.job_management import CsvJobDatabase\n",
    "from eo_processing.utils import laea20km_id_to_extent, reproj_bbox_to_ll\n",
    "from eo_processing.utils.helper import init_connection, location_visu\n",
    "from eo_processing.utils.jobmanager import WeedJobManager\n",
    "from eo_processing.utils.storage import get_gdrive_gdf, print_gdrive_overview, WEED_GDRIVE_Access\n",
    "from eo_processing.openeo.processing import generate_master_feature_cube\n",
    "from eo_processing.config import get_job_options, get_collection_options, get_standard_processing_options\n",
    "import eo_processing.resources\n",
    "import importlib.resources as importlib_resources\n",
    "import geopandas as gpd\n",
    "import pandas as pd\n",
    "import os\n",
    "from typing import Optional\n",
    "import platform"
   ]
  },
  {
   "cell_type": "code",
   "execution_count": 1,
   "id": "6a471884-2307-4749-9095-3c56952ba59a",
   "metadata": {},
   "outputs": [],
   "source": [
    "import os, sys\n",
    "sys.path.append('/home/smetsb/PycharmProjects/eo_processing/src')"
   ]
  },
  {
   "cell_type": "markdown",
   "id": "7c7ea1550cc5bfb8",
   "metadata": {},
   "source": [
    "### get the alpha-1 test sites from the GDrive (SK and CZ)"
   ]
  },
  {
   "cell_type": "code",
   "execution_count": 3,
   "id": "850cd0e395b74298",
   "metadata": {
    "ExecuteTime": {
     "end_time": "2024-11-27T07:28:18.578702Z",
     "start_time": "2024-11-27T07:28:08.092042Z"
    }
   },
   "outputs": [
    {
     "name": "stdin",
     "output_type": "stream",
     "text": [
      "Please enter your password for the Terrascope VAULT:  ········\n"
     ]
    }
   ],
   "source": [
    "# init the GDRIVE access\n",
    "gdrive = WEED_GDRIVE_Access(username='smetsb', entry_point=\"1k27bitdRp41AtHq1xupyqwKaTLzrMUMu\")"
   ]
  },
  {
   "cell_type": "code",
   "execution_count": 4,
   "id": "972c27f688e09a63",
   "metadata": {
    "ExecuteTime": {
     "end_time": "2024-11-27T07:28:23.286326Z",
     "start_time": "2024-11-27T07:28:21.797998Z"
    }
   },
   "outputs": [
    {
     "name": "stdout",
     "output_type": "stream",
     "text": [
      "Found directory: 1k27bitdRp41AtHq1xupyqwKaTLzrMUMu\n",
      "\tCZ_test-sites_alpha1_EPSG4326.gpkg\n",
      "\tSK_test-sites_alpha1_EPSG4326.gpkg\n",
      "\tEuropean_terrestrial_LAEA20km_grid.gpkg\n",
      "\tglobal_terrestrial_UTM20k_grid.gpkg\n",
      "\tSK_v5_reference-points_EUNIS2012.csv\n",
      "\tglobal_terrestrial_UTM100k_grid.gpkg\n"
     ]
    }
   ],
   "source": [
    "# get an overview of the folder structure\n",
    "print_gdrive_overview(gdrive)"
   ]
  },
  {
   "cell_type": "code",
   "execution_count": 5,
   "id": "2dc24586450ac5ee",
   "metadata": {
    "ExecuteTime": {
     "end_time": "2024-11-27T07:28:33.980827Z",
     "start_time": "2024-11-27T07:28:30.514415Z"
    }
   },
   "outputs": [],
   "source": [
    "# load the test sides into a GeoPandas GeoDataFrame\n",
    "path_SK = gdrive.root + \"/\" + 'SK_test-sites_alpha1_EPSG4326.gpkg'\n",
    "path_CZ = gdrive.root + \"/\" + 'CZ_test-sites_alpha1_EPSG4326.gpkg'\n",
    "# use helper function to load the GDrive file directly\n",
    "gdf_sites = [get_gdrive_gdf(gdrive, path_file) for path_file in [path_SK, path_CZ]]\n",
    "gdf_sites = gpd.GeoDataFrame(pd.concat(gdf_sites, ignore_index=True))"
   ]
  },
  {
   "cell_type": "markdown",
   "id": "1cbb545b156e7f7e",
   "metadata": {},
   "source": [
    "### specify space context for the openEO run\n",
    "The space context is set by intersecting the test sites (AOIs) with the openEO EU 20x20km tiling grid. Since the tiling grid has a smaller file size, it was also stored in the resources of the eo_processing package as well as on the GDrive folder. <br>"
   ]
  },
  {
   "cell_type": "code",
   "execution_count": 6,
   "id": "3d6f5f38656eebe7",
   "metadata": {
    "ExecuteTime": {
     "end_time": "2024-11-27T07:30:50.437636Z",
     "start_time": "2024-11-27T07:30:50.113630Z"
    }
   },
   "outputs": [],
   "source": [
    "# get the LAEA-20km grid saved as EPSG:4326 vector\n",
    "grid = importlib_resources.files(eo_processing.resources).joinpath('LAEA-20km.gpkg')\n",
    "gdf_grid = gpd.read_file(os.path.normpath(grid))"
   ]
  },
  {
   "cell_type": "code",
   "execution_count": 7,
   "id": "e66c7872-6805-487b-97b9-619716dbe9c5",
   "metadata": {},
   "outputs": [
    {
     "data": {
      "text/html": [
       "<div>\n",
       "<style scoped>\n",
       "    .dataframe tbody tr th:only-of-type {\n",
       "        vertical-align: middle;\n",
       "    }\n",
       "\n",
       "    .dataframe tbody tr th {\n",
       "        vertical-align: top;\n",
       "    }\n",
       "\n",
       "    .dataframe thead th {\n",
       "        text-align: right;\n",
       "    }\n",
       "</style>\n",
       "<table border=\"1\" class=\"dataframe\">\n",
       "  <thead>\n",
       "    <tr style=\"text-align: right;\">\n",
       "      <th></th>\n",
       "      <th>name</th>\n",
       "      <th>geometry</th>\n",
       "    </tr>\n",
       "  </thead>\n",
       "  <tbody>\n",
       "    <tr>\n",
       "      <th>10781</th>\n",
       "      <td>E474N292</td>\n",
       "      <td>MULTIPOLYGON (((15.76 49.245, 15.781 49.425, 1...</td>\n",
       "    </tr>\n",
       "  </tbody>\n",
       "</table>\n",
       "</div>"
      ],
      "text/plain": [
       "           name                                           geometry\n",
       "10781  E474N292  MULTIPOLYGON (((15.76 49.245, 15.781 49.425, 1..."
      ]
     },
     "execution_count": 7,
     "metadata": {},
     "output_type": "execute_result"
    }
   ],
   "source": [
    "#gdf_aoi = gdf_grid[(gdf_grid.name == 'E396N312') | (gdf_grid.name == 'E398N312')]\n",
    "gdf_aoi = gdf_grid[(gdf_grid.name == 'E474N292')]\n",
    "gdf_aoi"
   ]
  },
  {
   "cell_type": "code",
   "execution_count": 9,
   "id": "43b5a31f2852795c",
   "metadata": {
    "ExecuteTime": {
     "end_time": "2024-11-27T07:31:01.338684Z",
     "start_time": "2024-11-27T07:31:01.312844Z"
    }
   },
   "outputs": [],
   "source": [
    "# spatial intersect and retrieve the tile_ID's of the LAEA-20km grid (convert AOI to EPSG:4326 if needed)\n",
    "gdf_aoi = gdf_grid[gdf_grid.intersects(gdf_sites.union_all())]"
   ]
  },
  {
   "cell_type": "code",
   "execution_count": 8,
   "id": "203ccb9ef1d82179",
   "metadata": {
    "ExecuteTime": {
     "end_time": "2024-11-27T07:31:07.112867Z",
     "start_time": "2024-11-27T07:31:05.851261Z"
    }
   },
   "outputs": [
    {
     "data": {
      "image/png": "[encoded data removed]",
      "text/plain": [
       "<Figure size 640x480 with 1 Axes>"
      ]
     },
     "metadata": {},
     "output_type": "display_data"
    }
   ],
   "source": [
    "# visualization of the selected- tiles in the tiling grid which needs to be processed to cover the AOI\n",
    "location_visu(gdf_aoi, zoom=True, region='EU', label=True)"
   ]
  },
  {
   "cell_type": "markdown",
   "id": "e4f666f3f7e93844",
   "metadata": {},
   "source": [
    "### Integration of the MultiBackendJobManager\n"
   ]
  },
  {
   "cell_type": "markdown",
   "id": "2bc0ae8f58a1d562",
   "metadata": {},
   "source": [
    "#### creating the jobs dataframe\n",
    "The `MultiBackendJobManager` uses a jobs database to set-up, start and monitor all desired jobs. We are using Pandas/GeoPandas to create a DataFrame storing the job and all parameters which should adapted for each job.\n",
    "\n",
    "In this example we can directly use the GeoDataFrame of the tiling grid since after the intersection with the AOI is contains only the remaining block extents to process."
   ]
  },
  {
   "cell_type": "code",
   "execution_count": 9,
   "id": "d9b1acbe8569bf6",
   "metadata": {
    "ExecuteTime": {
     "end_time": "2024-11-27T08:02:58.381705Z",
     "start_time": "2024-11-27T08:02:58.376137Z"
    }
   },
   "outputs": [],
   "source": [
    "def create_job_dataframe(gdf: gpd.GeoDataFrame, year: int, file_name_base: str, target_crs: Optional[int] = None) -> gpd.GeoDataFrame:\n",
    "\n",
    "    columns = ['name', 'target_epsg', 'file_prefix', 'start_date', 'end_date', 'geometry']\n",
    "    dtypes = {'name': 'string', 'target_epsg': 'UInt16', 'file_prefix': 'string', 'start_date': 'string', 'end_date': 'string', 'geometry': 'geometry'}\n",
    "\n",
    "    job_df = gdf.copy()\n",
    "\n",
    "    # the time context is given by start and end date\n",
    "    job_df['start_date'] = f'{year}-01-01'\n",
    "    job_df['end_date'] = f'{year+1}-01-01'  # the end is always exclusive\n",
    "\n",
    "    # adding the output file name pre-fix\n",
    "    job_df['file_prefix'] = job_df.apply(lambda row: f'{file_name_base}_feature-cube_year{year}_{row['name']}', axis=1)\n",
    "\n",
    "    # set the target epsg\n",
    "    if target_crs is None:\n",
    "        job_df['target_epsg'] = 3035\n",
    "    else:\n",
    "        raise NotImplementedError('target_crs is not yet implemented')\n",
    "\n",
    "    return job_df.astype(dtypes)"
   ]
  },
  {
   "cell_type": "code",
   "execution_count": 10,
   "id": "e11535b55186070d",
   "metadata": {
    "ExecuteTime": {
     "end_time": "2024-11-27T08:03:01.047622Z",
     "start_time": "2024-11-27T08:03:01.039803Z"
    }
   },
   "outputs": [],
   "source": [
    "# we set here also the time context (processing year)\n",
    "job_df = create_job_dataframe(gdf_aoi, 2017, 'forest_change')"
   ]
  },
  {
   "cell_type": "code",
   "execution_count": 11,
   "id": "5d05016c63d228cd",
   "metadata": {
    "ExecuteTime": {
     "end_time": "2024-11-27T08:04:21.742808Z",
     "start_time": "2024-11-27T08:04:21.733554Z"
    }
   },
   "outputs": [
    {
     "data": {
      "text/html": [
       "<div>\n",
       "<style scoped>\n",
       "    .dataframe tbody tr th:only-of-type {\n",
       "        vertical-align: middle;\n",
       "    }\n",
       "\n",
       "    .dataframe tbody tr th {\n",
       "        vertical-align: top;\n",
       "    }\n",
       "\n",
       "    .dataframe thead th {\n",
       "        text-align: right;\n",
       "    }\n",
       "</style>\n",
       "<table border=\"1\" class=\"dataframe\">\n",
       "  <thead>\n",
       "    <tr style=\"text-align: right;\">\n",
       "      <th></th>\n",
       "      <th>name</th>\n",
       "      <th>geometry</th>\n",
       "      <th>start_date</th>\n",
       "      <th>end_date</th>\n",
       "      <th>file_prefix</th>\n",
       "      <th>target_epsg</th>\n",
       "    </tr>\n",
       "  </thead>\n",
       "  <tbody>\n",
       "    <tr>\n",
       "      <th>10781</th>\n",
       "      <td>E474N292</td>\n",
       "      <td>MULTIPOLYGON (((15.76 49.245, 15.781 49.425, 1...</td>\n",
       "      <td>2017-01-01</td>\n",
       "      <td>2018-01-01</td>\n",
       "      <td>forest_change_feature-cube_year2017_E474N292</td>\n",
       "      <td>3035</td>\n",
       "    </tr>\n",
       "  </tbody>\n",
       "</table>\n",
       "</div>"
      ],
      "text/plain": [
       "           name                                           geometry  \\\n",
       "10781  E474N292  MULTIPOLYGON (((15.76 49.245, 15.781 49.425, 1...   \n",
       "\n",
       "       start_date    end_date                                   file_prefix  \\\n",
       "10781  2017-01-01  2018-01-01  forest_change_feature-cube_year2017_E474N292   \n",
       "\n",
       "       target_epsg  \n",
       "10781         3035  "
      ]
     },
     "execution_count": 11,
     "metadata": {},
     "output_type": "execute_result"
    }
   ],
   "source": [
    "# show the jobs_database before conversion into a JobDatabaseInterface\n",
    "job_df.head()"
   ]
  },
  {
   "cell_type": "markdown",
   "id": "be4f55f43460ae03",
   "metadata": {},
   "source": [
    "#### creating the job `start_job` function\n",
    "The next step is to define a `start_job` function. This function will instruct the `MultiBackendJobManager` on how to initiate a new job on the selected backend. The `start_job` functionality should adhere to the following structure _start_job(row: pd.Series, connection: openeo.Connection, **kwargs)_."
   ]
  },
  {
   "cell_type": "code",
   "execution_count": 12,
   "id": "5064d71173ae5adc",
   "metadata": {
    "ExecuteTime": {
     "end_time": "2024-11-27T08:21:20.744383Z",
     "start_time": "2024-11-27T08:21:20.737289Z"
    }
   },
   "outputs": [],
   "source": [
    "def featurecube_generation(row: gpd.GeoSeries, connection: openeo.Connection, provider: str , **kwgs) -> openeo.BatchJob:\n",
    "    \"\"\"Start a new job using the specified row out of the jobs GeoDataFrame and connection.\"\"\"\n",
    "\n",
    "    # Get the variable parameters from the dataframe\n",
    "    tileID = row[\"name\"]\n",
    "    start = row[\"start_date\"]\n",
    "    end = row[\"end_date\"]\n",
    "    file_name = row[\"file_prefix\"]\n",
    "    epsg = int(row[\"target_epsg\"])\n",
    "\n",
    "    # convert the row name into a openEO bbox dict giving the spatial extent of the job\n",
    "    processing_extent = laea20km_id_to_extent(tileID)\n",
    "\n",
    "    # define job_options, processing_options,  and collection_options\n",
    "    job_options = get_job_options(provider=provider)\n",
    "    collection_options = get_collection_options(provider=provider)\n",
    "    processing_options = get_standard_processing_options(provider=provider, task='feature_generation')\n",
    "\n",
    "    # adapt the epsg to the processing grid\n",
    "    processing_options.update(target_crs = epsg)\n",
    "\n",
    "    #create the progress graph for the feature cube\n",
    "    # define the S1/S2 processed feature cube (Note: do not set spatial extent since we had it over in the end)\n",
    "    data_cube = generate_master_feature_cube(connection,\n",
    "                                             None,\n",
    "                                             start,\n",
    "                                             end,\n",
    "                                             **collection_options,\n",
    "                                             **processing_options)\n",
    "\n",
    "    # now we merge in the NON ON-DEMAND processed features (DEM and WENR features)\n",
    "    # load the DEM from a CDSE collection\n",
    "    DEM = connection.load_collection(\n",
    "        \"COPERNICUS_30\",\n",
    "        bands=[\"DEM\"])\n",
    "    # reduce the temporal domain since copernicus_30 collection is \"special\" and feature only are one time stamp\n",
    "    DEM = DEM.reduce_dimension(dimension='t', reducer=lambda x: x.last(ignore_nodata=True))\n",
    "    # resample the cube to 10m and EPSG of corresponding 20x20km grid tile\n",
    "    DEM = DEM.resample_spatial(projection=processing_options['target_crs'], \n",
    "                               resolution=processing_options['resolution'],\n",
    "                               method=\"bilinear\")\n",
    "    # merge into the S1/S2 data cube\n",
    "    data_cube = data_cube.merge_cubes(DEM)\n",
    "\n",
    "    # load the WERN features from public STAC\n",
    "    WENR = connection.load_stac(\"https://stac.openeo.vito.be/collections/wenr_features\")\n",
    "    # resample the cube to 10m and EPSG of corresponding 20x20km grid tile\n",
    "    WENR = WENR.resample_spatial(projection=processing_options['target_crs'],\n",
    "                                 resolution=processing_options['resolution'],\n",
    "                                 method=\"near\")\n",
    "    # drop the time dimension\n",
    "    try:\n",
    "        WENR = WENR.drop_dimension('t')\n",
    "    except:\n",
    "        # workaround if we still have the client issues with the time dimensions for STAC dataset with only one time stamp\n",
    "        WENR.metadata = WENR.metadata.add_dimension(\"t\", label=None, type=\"temporal\")\n",
    "        WENR = WENR.drop_dimension('t')\n",
    "    # merge into the S1/S2 data cube\n",
    "    data_cube = data_cube.merge_cubes(WENR)\n",
    "\n",
    "    # filter spatial the whole cube\n",
    "    data_cube = data_cube.filter_bbox(processing_extent)\n",
    "\n",
    "    # create the job progress graph\n",
    "    job = data_cube.create_job(title=file_name,\n",
    "                               description=f'generation of full feature data cube for tile {tileID}',\n",
    "                               out_format='GTiff',\n",
    "                               job_options=job_options,\n",
    "                               filename_prefix=file_name,\n",
    "                               )\n",
    "    return job"
   ]
  },
  {
   "cell_type": "markdown",
   "id": "6a466e47a35823f4",
   "metadata": {},
   "source": [
    "#### set the root output folder"
   ]
  },
  {
   "cell_type": "code",
   "execution_count": 13,
   "id": "93975748b4865d90",
   "metadata": {
    "ExecuteTime": {
     "end_time": "2024-11-27T08:18:41.761411Z",
     "start_time": "2024-11-27T08:18:41.472697Z"
    }
   },
   "outputs": [],
   "source": [
    "# define the output folder (make sure you adapt this to your folder structure)\n",
    "if platform.system() == 'Windows':\n",
    "    out_root = os.path.normpath(r'\\\\netapp03.vgt.vito.be\\habitat\\slovakia\\openEO_tests\\alpha-1\\3_datacubes_test-sides')\n",
    "else:\n",
    "    out_root = os.path.normpath(r'/data/habitat/czechrepublic/openEO_tests/alpha-1/3_datacubes_forest-change')\n",
    "    #out_root = os.path.normpath(r'/data/habitat/sibelco/openEO_tests/alpha-1/test_featurecube')\n",
    "os.makedirs(out_root, exist_ok=True)"
   ]
  },
  {
   "cell_type": "markdown",
   "id": "75d9c1509c807125",
   "metadata": {},
   "source": [
    "#### run the jobs\n",
    "With our jobs database and job definition set up, we can now run the jobs using the `MultiBackendJobManager`. This involves defining a path to where we will store the job tracker which contains the job statuses and metadata.\n",
    "<br> <br>\n",
    "Note: If the specified job tracker path, points to an existing jobs database (either a .csv or .parquet file), that file will be used as the job tracker, and the input jobs database will be disregarded."
   ]
  },
  {
   "cell_type": "code",
   "execution_count": 14,
   "id": "94c2aabb2b2a4c95",
   "metadata": {
    "ExecuteTime": {
     "end_time": "2024-10-03T19:22:47.747913Z",
     "start_time": "2024-10-03T19:22:47.744850Z"
    }
   },
   "outputs": [],
   "source": [
    "# generate a unique name for the job tracker database (here: CSV file)\n",
    "job_tracker = os.path.normpath(os.path.join(out_root, 'job_tracker_feature-cube-generation.csv'))"
   ]
  },
  {
   "cell_type": "code",
   "execution_count": 15,
   "id": "3b22502ffb3e60c5",
   "metadata": {
    "ExecuteTime": {
     "end_time": "2024-10-03T19:22:48.900742Z",
     "start_time": "2024-10-03T19:22:48.897434Z"
    }
   },
   "outputs": [],
   "source": [
    "# init of MultiBackendJobManager (A viz switch has been added to enable vizualization of status)\n",
    "manager = WeedJobManager(root_dir=out_root, poll_sleep=30, viz=True)"
   ]
  },
  {
   "cell_type": "code",
   "execution_count": 16,
   "id": "3f0430ac478cef24",
   "metadata": {
    "ExecuteTime": {
     "end_time": "2024-10-03T19:22:50.707387Z",
     "start_time": "2024-10-03T19:22:49.913738Z"
    }
   },
   "outputs": [
    {
     "name": "stdout",
     "output_type": "stream",
     "text": [
      "Authenticated using refresh token.\n"
     ]
    }
   ],
   "source": [
    "# create a connection to backend and add this active backend to the jobmanager\n",
    "backend = 'cdse'  # also possible: cdse-stagging, terrascope, development, creodias, sentinelhub\n",
    "connection = init_connection(backend)\n",
    "manager.add_backend(backend, connection=connection, parallel_jobs=6)"
   ]
  },
  {
   "cell_type": "code",
   "execution_count": 17,
   "id": "d6b5b66f1ade2ff3",
   "metadata": {
    "ExecuteTime": {
     "end_time": "2024-10-03T19:22:55.799408Z",
     "start_time": "2024-10-03T19:22:54.837972Z"
    }
   },
   "outputs": [
    {
     "data": {
      "image/png": "[encoded data removed]",
      "text/plain": [
       "<Figure size 2000x2000 with 1 Axes>"
      ]
     },
     "metadata": {},
     "output_type": "display_data"
    },
    {
     "data": {
      "text/plain": [
       "defaultdict(int,\n",
       "            {'job_db persist': 56,\n",
       "             'track_statuses': 55,\n",
       "             'job_db get_by_status': 1,\n",
       "             'start_job call': 1,\n",
       "             'job get status': 2,\n",
       "             'job start': 1,\n",
       "             'job launch': 1,\n",
       "             'run_jobs loop': 55,\n",
       "             'sleep': 55,\n",
       "             'job describe': 54,\n",
       "             'job started running': 1,\n",
       "             'job finished': 1})"
      ]
     },
     "execution_count": 17,
     "metadata": {},
     "output_type": "execute_result"
    }
   ],
   "source": [
    "# due to a bug in the JobManager class we first have to create the CSVJobDatabase by ourself and write it to disk so that we get all custom columns!\n",
    "job_db = CsvJobDatabase(path=job_tracker)\n",
    "if job_db.exists():\n",
    "    print(f\"Resuming `run_jobs` from existing {job_db}\")\n",
    "else:\n",
    "    df = manager._normalize_df(job_df)\n",
    "    job_db.persist(df)\n",
    "\n",
    "manager.run_jobs(start_job=featurecube_generation, job_db=job_db)"
   ]
  },
  {
   "cell_type": "markdown",
   "id": "89d352d2ef361d0d",
   "metadata": {},
   "source": [
    "### validate that all needed feature data cubes are generated"
   ]
  },
  {
   "cell_type": "code",
   "execution_count": 134,
   "id": "cbc06d9853968bde",
   "metadata": {},
   "outputs": [],
   "source": [
    "# load the job_tracker file into a pandas DataFrame\n",
    "df_tracker = pd.read_csv(job_tracker)"
   ]
  },
  {
   "cell_type": "code",
   "execution_count": 135,
   "id": "b0e1b68875a74663",
   "metadata": {},
   "outputs": [
    {
     "name": "stdout",
     "output_type": "stream",
     "text": [
      "All jobs are finished.\n"
     ]
    }
   ],
   "source": [
    "# Check if all values in column \"status\" have the value \"finished\"\n",
    "all_finished = df_tracker['status'].eq('finished').all()\n",
    "if all_finished:\n",
    "    print(\"All jobs are finished.\")\n",
    "else:\n",
    "    print(\"Some jobs are not finished. Reset the non finished status rows to 'not_started' flag and restart the manager.run_jobs() line manually.\")"
   ]
  },
  {
   "cell_type": "code",
   "execution_count": 136,
   "id": "e15558d08ba987be",
   "metadata": {
    "ExecuteTime": {
     "end_time": "2024-11-27T08:23:50.549052Z",
     "start_time": "2024-11-27T08:23:50.534212Z"
    }
   },
   "outputs": [
    {
     "name": "stdout",
     "output_type": "stream",
     "text": [
      "The feature datacube generation 2 20x20km tiles has cost overall 79 credits (0.79 EURO). \n"
     ]
    }
   ],
   "source": [
    "# print the costs of the full job\n",
    "print(f'The feature datacube generation {df_tracker.shape[0]} 20x20km tiles has cost overall {df_tracker.cost.sum()} credits ({df_tracker.cost.sum() * 0.01} EURO). ')"
   ]
  },
  {
   "cell_type": "code",
   "execution_count": 137,
   "id": "6c1e98862ed31aef",
   "metadata": {},
   "outputs": [],
   "source": [
    "# get the list of links to the GeoTif files\n",
    "df_tracker['path_result'] = df_tracker['file_prefix'].apply(lambda x: os.path.normpath(os.path.join(out_root, f'{x}.tif')))\n",
    "path_Results = df_tracker['path_result'].tolist()"
   ]
  },
  {
   "cell_type": "code",
   "execution_count": 138,
   "id": "6443f8fac4d4542b",
   "metadata": {},
   "outputs": [],
   "source": [
    "# Verify that all GeoTIFF files in path_Results exist\n",
    "for file_path in path_Results:\n",
    "    assert os.path.exists(file_path), f\"File not found: {file_path}\""
   ]
  },
  {
   "cell_type": "code",
   "execution_count": null,
   "id": "3ee95e0c-cc3e-4f9b-bac3-4cd24ac008fc",
   "metadata": {},
   "outputs": [],
   "source": []
  }
 ],
 "metadata": {
  "kernelspec": {
   "display_name": "weed",
   "language": "python",
   "name": "weed"
  },
  "language_info": {
   "codemirror_mode": {
    "name": "ipython",
    "version": 3
   },
   "file_extension": ".py",
   "mimetype": "text/x-python",
   "name": "python",
   "nbconvert_exporter": "python",
   "pygments_lexer": "ipython3",
   "version": "3.12.7"
  }
 },
 "nbformat": 4,
 "nbformat_minor": 5
}
