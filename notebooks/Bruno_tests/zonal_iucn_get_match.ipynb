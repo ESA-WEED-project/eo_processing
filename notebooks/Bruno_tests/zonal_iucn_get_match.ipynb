{
 "cells": [
  {
   "cell_type": "code",
   "execution_count": 33,
   "id": "ef949612-b78b-4ed7-bae6-c85128f8c495",
   "metadata": {},
   "outputs": [],
   "source": [
    "import os\n",
    "from osgeo import gdal\n",
    "import rasterio\n",
    "from rasterio.mask import mask\n",
    "import pandas as pd\n",
    "import geopandas as gpd\n",
    "import numpy as np\n",
    "import matplotlib.pyplot as plt"
   ]
  },
  {
   "cell_type": "code",
   "execution_count": 34,
   "id": "9ed366de-41ba-4830-9635-29b489866f30",
   "metadata": {},
   "outputs": [],
   "source": [
    "raster_file_base = '/data/nca/ancillary/IUCN/GET/all-maps-raster-geotiff'\n",
    "raster_file = '/data/nca/ancillary/IUCN/GET/all-maps-raster-geotiff/T2_2_Deciduous_temperate_forests.tif'\n",
    "stats_file_base = '/data/nca/test/Bruno/WEED'"
   ]
  },
  {
   "cell_type": "code",
   "execution_count": 35,
   "id": "2dc3ebe4-0eca-4212-91a4-4fdb42bb284c",
   "metadata": {},
   "outputs": [],
   "source": [
    "#Czech Republic\n",
    "zonal_file = '/data/nca/weed/CU_testSites/priorityareasCZ_4326_singleShape.gpkg'\n",
    "stats_summary_file =  os.path.join(stats_file_base,'priorityareasCZ_GET.csv')"
   ]
  },
  {
   "cell_type": "code",
   "execution_count": 232,
   "id": "62dadea4-454a-4054-9549-7bf308926b87",
   "metadata": {},
   "outputs": [],
   "source": [
    "#Norway\n",
    "zonal_file = '/data/nca/weed/CU_testSites/priorityareasNO_4326.gpkg'\n",
    "stats_summary_file =  os.path.join(stats_file_base,'priorityareasNO_GET.csv')"
   ]
  },
  {
   "cell_type": "code",
   "execution_count": 244,
   "id": "92e56edf-444d-4d6d-8c3c-ecf68d7280f0",
   "metadata": {},
   "outputs": [],
   "source": [
    "#Greece\n",
    "zonal_file = '/data/nca/weed/CU_testSites/priorityareasEL_4326.gpkg'\n",
    "stats_summary_file =  os.path.join(stats_file_base,'priorityareasEL_GET.csv')"
   ]
  },
  {
   "cell_type": "code",
   "execution_count": 263,
   "id": "3242f090-15e5-4405-8f44-87b493be1c81",
   "metadata": {},
   "outputs": [],
   "source": [
    "#Colombia\n",
    "zonal_file = '/data/nca/weed/CU_testSites/priorityareasCO_4326.gpkg'\n",
    "stats_summary_file =  os.path.join(stats_file_base,'priorityareasCO_GET.csv')"
   ]
  },
  {
   "cell_type": "code",
   "execution_count": 25,
   "id": "a370aea4-d2a7-4542-8aba-f166adbae069",
   "metadata": {},
   "outputs": [],
   "source": [
    "#South-Africa\n",
    "zonal_file = '/data/nca/weed/CU_testSites/priorityareasSA_4326.gpkg'\n",
    "stats_summary_file =  os.path.join(stats_file_base,'priorityareasSA_GET.csv')"
   ]
  },
  {
   "cell_type": "code",
   "execution_count": 3,
   "id": "1126572a-5507-48b5-890c-b78e31646095",
   "metadata": {},
   "outputs": [],
   "source": [
    "#Vietnam\n",
    "zonal_file = '/data/nca/weed/CU_testSites/priorityareasVN_4326.gpkg'\n",
    "stats_summary_file =  os.path.join(stats_file_base,'priorityareasVN_GET.csv')"
   ]
  },
  {
   "cell_type": "code",
   "execution_count": 4,
   "id": "9cc66701-e11c-4ae7-b278-10c6bd2cfa53",
   "metadata": {},
   "outputs": [
    {
     "name": "stdout",
     "output_type": "stream",
     "text": [
      "F1_1_Perm_upland_streams.tif\n"
     ]
    },
    {
     "ename": "AttributeError",
     "evalue": "'str' object has no attribute 'startwith'",
     "output_type": "error",
     "traceback": [
      "\u001b[0;31m---------------------------------------------------------------------------\u001b[0m",
      "\u001b[0;31mAttributeError\u001b[0m                            Traceback (most recent call last)",
      "Cell \u001b[0;32mIn[4], line 7\u001b[0m\n\u001b[1;32m      5\u001b[0m e \u001b[38;5;241m=\u001b[39m \u001b[38;5;241m4\u001b[39m\n\u001b[1;32m      6\u001b[0m \u001b[38;5;28;01mif\u001b[39;00m \u001b[38;5;129;01mnot\u001b[39;00m file\u001b[38;5;241m.\u001b[39mendswith(\u001b[38;5;124m'\u001b[39m\u001b[38;5;124m.tif\u001b[39m\u001b[38;5;124m'\u001b[39m): \u001b[38;5;28;01mcontinue\u001b[39;00m\n\u001b[0;32m----> 7\u001b[0m \u001b[38;5;28;01mif\u001b[39;00m (file\u001b[38;5;241m.\u001b[39mstartswith(\u001b[38;5;124m'\u001b[39m\u001b[38;5;124mFM\u001b[39m\u001b[38;5;124m'\u001b[39m)) \u001b[38;5;129;01mor\u001b[39;00m (file\u001b[38;5;241m.\u001b[39mstartwith(\u001b[38;5;124m'\u001b[39m\u001b[38;5;124mMT\u001b[39m\u001b[38;5;124m'\u001b[39m)) \u001b[38;5;129;01mor\u001b[39;00m (file\u001b[38;5;241m.\u001b[39mstartswith(\u001b[38;5;124m'\u001b[39m\u001b[38;5;124mSF\u001b[39m\u001b[38;5;124m'\u001b[39m)) \u001b[38;5;129;01mor\u001b[39;00m (file\u001b[38;5;241m.\u001b[39mstartswith(\u001b[38;5;124m'\u001b[39m\u001b[38;5;124mSM\u001b[39m\u001b[38;5;124m'\u001b[39m)) \u001b[38;5;129;01mor\u001b[39;00m (file\u001b[38;5;241m.\u001b[39mstartswith(\u001b[38;5;124m'\u001b[39m\u001b[38;5;124mTF\u001b[39m\u001b[38;5;124m'\u001b[39m)): e \u001b[38;5;241m=\u001b[39m \u001b[38;5;241m5\u001b[39m\n\u001b[1;32m      8\u001b[0m \u001b[38;5;28;01mif\u001b[39;00m file\u001b[38;5;241m.\u001b[39mstrtswith(\u001b[38;5;124m'\u001b[39m\u001b[38;5;124mMTF\u001b[39m\u001b[38;5;124m'\u001b[39m): e \u001b[38;5;241m=\u001b[39m \u001b[38;5;241m6\u001b[39m\n\u001b[1;32m      9\u001b[0m get_list\u001b[38;5;241m.\u001b[39mappend(file[\u001b[38;5;241m0\u001b[39m:e])\n",
      "\u001b[0;31mAttributeError\u001b[0m: 'str' object has no attribute 'startwith'"
     ]
    }
   ],
   "source": [
    "get_files = os.listdir(raster_file_base)\n",
    "get_list=[]\n",
    "for file in get_files:\n",
    "    print(file)\n",
    "    e = 4\n",
    "    if not file.endswith('.tif'): continue\n",
    "    if (file.startswith('FM')) or (file.startwith('MT')) or (file.startswith('SF')) or (file.startswith('SM')) or (file.startswith('TF')): e = 5\n",
    "    if file.strtswith('MTF'): e = 6\n",
    "    get_list.append(file[0:e])\n",
    "        \n",
    "#get_list = [x[0:4] for x in get_files if x.endswith('tif')]"
   ]
  },
  {
   "cell_type": "code",
   "execution_count": 36,
   "id": "c8f7c625-23ca-448e-86b0-e79e07aa33a6",
   "metadata": {},
   "outputs": [],
   "source": [
    "get_files = os.listdir(raster_file_base)\n",
    "get_list = [x[0:6] for x in get_files if x.endswith('tif')]"
   ]
  },
  {
   "cell_type": "code",
   "execution_count": 37,
   "id": "f1bb68ed-bb53-4208-8f00-9c0494f269fc",
   "metadata": {},
   "outputs": [
    {
     "data": {
      "text/plain": [
       "False"
      ]
     },
     "execution_count": 37,
     "metadata": {},
     "output_type": "execute_result"
    }
   ],
   "source": [
    "file.startswith('FM') or file.startswith('MT')"
   ]
  },
  {
   "cell_type": "code",
   "execution_count": 38,
   "id": "10f57de8-4435-4e8b-83e1-acbffdebb218",
   "metadata": {},
   "outputs": [
    {
     "data": {
      "text/html": [
       "<div>\n",
       "<style scoped>\n",
       "    .dataframe tbody tr th:only-of-type {\n",
       "        vertical-align: middle;\n",
       "    }\n",
       "\n",
       "    .dataframe tbody tr th {\n",
       "        vertical-align: top;\n",
       "    }\n",
       "\n",
       "    .dataframe thead th {\n",
       "        text-align: right;\n",
       "    }\n",
       "</style>\n",
       "<table border=\"1\" class=\"dataframe\">\n",
       "  <thead>\n",
       "    <tr style=\"text-align: right;\">\n",
       "      <th></th>\n",
       "      <th>NAZEV</th>\n",
       "      <th>geometry</th>\n",
       "    </tr>\n",
       "  </thead>\n",
       "  <tbody>\n",
       "    <tr>\n",
       "      <th>0</th>\n",
       "      <td>Bílé Karpaty</td>\n",
       "      <td>POLYGON ((17.885 49.157, 17.885 49.157, 17.885...</td>\n",
       "    </tr>\n",
       "    <tr>\n",
       "      <th>1</th>\n",
       "      <td>Krkonošský národní park</td>\n",
       "      <td>POLYGON ((15.45 50.807, 15.451 50.806, 15.451 ...</td>\n",
       "    </tr>\n",
       "    <tr>\n",
       "      <th>2</th>\n",
       "      <td>Podyjí</td>\n",
       "      <td>POLYGON ((15.865 48.916, 15.865 48.916, 15.865...</td>\n",
       "    </tr>\n",
       "  </tbody>\n",
       "</table>\n",
       "</div>"
      ],
      "text/plain": [
       "                     NAZEV                                           geometry\n",
       "0             Bílé Karpaty  POLYGON ((17.885 49.157, 17.885 49.157, 17.885...\n",
       "1  Krkonošský národní park  POLYGON ((15.45 50.807, 15.451 50.806, 15.451 ...\n",
       "2                   Podyjí  POLYGON ((15.865 48.916, 15.865 48.916, 15.865..."
      ]
     },
     "execution_count": 38,
     "metadata": {},
     "output_type": "execute_result"
    }
   ],
   "source": [
    "df_zonal = gpd.read_file(zonal_file)\n",
    "df_zonal"
   ]
  },
  {
   "cell_type": "code",
   "execution_count": 39,
   "id": "f94397fd-022c-4c9e-a964-65cd303182ac",
   "metadata": {},
   "outputs": [
    {
     "data": {
      "image/svg+xml": [
       "<svg xmlns=\"http://www.w3.org/2000/svg\" xmlns:xlink=\"http://www.w3.org/1999/xlink\" width=\"100.0\" height=\"100.0\" viewBox=\"18.913333705247474 -34.01927439678751 0.09832515314563395 0.0737832969269121\" preserveAspectRatio=\"xMinYMin meet\"><g transform=\"matrix(1,0,0,-1,0,-67.96476549664811)\"><g><path fill-rule=\"evenodd\" fill=\"#66cc99\" stroke=\"#555555\" stroke-width=\"0.001966503062912679\" opacity=\"0.6\" d=\"M 18.93165152638047,-33.94913277219933 L 18.92696378470971,-33.96689104905847 L 18.92503510401336,-33.97461971154318 L 18.92285264370928,-33.9829517293903 L 18.9169753775862,-33.98814146344607 L 18.93199158502707,-33.99735535952632 L 18.97538210396102,-34.01563272444878 L 18.99138553693293,-34.00806193311512 L 18.99995434475385,-34.0047618854812 L 19.00801718605438,-33.99630054088337 L 19.00103335850993,-33.98841868559006 L 18.99332363808034,-33.98138853370821 L 18.98863405946657,-33.97210276910551 L 18.97431933243963,-33.97102911589202 L 18.96982587220775,-33.96403492450489 L 18.96133344887049,-33.96145855776063 L 18.95899878371881,-33.96043253089783 L 18.95726595321124,-33.9600894632929 L 18.95440902065745,-33.95762351232153 L 18.94420437244409,-33.95057301414607 L 18.93165152638047,-33.94913277219933 z\" /></g></g></svg>"
      ],
      "text/plain": [
       "<MULTIPOLYGON Z (((18.9 -33.9 0, 18.9 -34 0, 18.9 -34 0, 18.9 -34 0, 18.9 -3...>"
      ]
     },
     "execution_count": 39,
     "metadata": {},
     "output_type": "execute_result"
    }
   ],
   "source": [
    "row.geometry"
   ]
  },
  {
   "cell_type": "code",
   "execution_count": 40,
   "id": "e09b5dea-d930-4f24-8301-d02020355af9",
   "metadata": {},
   "outputs": [],
   "source": [
    "def zonal_statistics(row, raster_file):\n",
    "    Vector = df_zonal[df_zonal.Name ==row.Name]\n",
    "    with rasterio.open(raster_file) as src:\n",
    "        #Vector=Vector.to_csr(src.crs)\n",
    "        out_image, out_transform=mask(src,Vector.geometry, crop=True)\n",
    "        values = np.unique(out_image[0])\n",
    "\n",
    "    result = dict()\n",
    "    for value in values:\n",
    "        #if value == 0 : continue\n",
    "        #print(str(value) + ' = ', end=\"\")\n",
    "        #print(np.count_nonzero(out_image == value))\n",
    "        result[value] = (np.count_nonzero(out_image[0] == value))\n",
    "\n",
    "    return result"
   ]
  },
  {
   "cell_type": "code",
   "execution_count": 31,
   "id": "be4a8bb8-e4d6-473f-97c5-8059a6581480",
   "metadata": {},
   "outputs": [],
   "source": [
    "#plt.imshow(out_image[0])"
   ]
  },
  {
   "cell_type": "code",
   "execution_count": 27,
   "id": "d50b39cc-92c2-4d18-b385-8c12cc044a51",
   "metadata": {},
   "outputs": [
    {
     "name": "stdout",
     "output_type": "stream",
     "text": [
      "processing Cape Point\n",
      "processing Grootbos\n",
      "processing Jonkershoek\n"
     ]
    }
   ],
   "source": [
    "df2 = pd.DataFrame(columns=get_list)\n",
    "for row in df_zonal.itertuples():\n",
    "    print('processing ' + row.Name)\n",
    "    df = pd.DataFrame(columns=range(0,2+1))  #none, most likely, less likely\n",
    "    #Vector = df_zonal[df_zonal.NAZEV ==row.NAZEV]\n",
    "    for file in get_files:\n",
    "        if not file.endswith('.tif'): continue\n",
    "        get_type = file[0:6]\n",
    "        raster_file = os.path.join(raster_file_base, file)\n",
    "        #result = zonal_statistics(df_zonal, getattr(row, 'Index'), raster_file)\n",
    "        result = zonal_statistics(row, raster_file)\n",
    "        df.loc[get_type] = result\n",
    "    #print(df)\n",
    "    stats_file = os.path.join(stats_file_base,row.WEED_site+'.csv')\n",
    "    df.to_csv(stats_file)\n",
    "    #keep only valid types per zone and put in summary table with 1 or 2 values per EFG\n",
    "    if 0 in df.columns: df.drop(columns=0, inplace=True)\n",
    "    df.dropna(axis=0, inplace=True, how = 'all')\n",
    "    df3 = df\n",
    "    s = df3.idxmax(axis=1)\n",
    "    for idx, row2 in s.items():\n",
    "        df2.loc[row.WEED_site,idx] = row2\n",
    "df2.T.to_csv(stats_summary_file)"
   ]
  },
  {
   "cell_type": "code",
   "execution_count": 19,
   "id": "823d4c13-0650-4e56-85b6-b535e3c07e83",
   "metadata": {},
   "outputs": [
    {
     "data": {
      "text/html": [
       "<div>\n",
       "<style scoped>\n",
       "    .dataframe tbody tr th:only-of-type {\n",
       "        vertical-align: middle;\n",
       "    }\n",
       "\n",
       "    .dataframe tbody tr th {\n",
       "        vertical-align: top;\n",
       "    }\n",
       "\n",
       "    .dataframe thead th {\n",
       "        text-align: right;\n",
       "    }\n",
       "</style>\n",
       "<table border=\"1\" class=\"dataframe\">\n",
       "  <thead>\n",
       "    <tr style=\"text-align: right;\">\n",
       "      <th></th>\n",
       "      <th>VN1</th>\n",
       "      <th>VN2</th>\n",
       "      <th>VN3</th>\n",
       "    </tr>\n",
       "  </thead>\n",
       "  <tbody>\n",
       "    <tr>\n",
       "      <th>F1_1_P</th>\n",
       "      <td>2</td>\n",
       "      <td>2</td>\n",
       "      <td>NaN</td>\n",
       "    </tr>\n",
       "    <tr>\n",
       "      <th>F1_2_P</th>\n",
       "      <td>1</td>\n",
       "      <td>NaN</td>\n",
       "      <td>NaN</td>\n",
       "    </tr>\n",
       "    <tr>\n",
       "      <th>F1_3_F</th>\n",
       "      <td>NaN</td>\n",
       "      <td>NaN</td>\n",
       "      <td>NaN</td>\n",
       "    </tr>\n",
       "    <tr>\n",
       "      <th>F1_4_S</th>\n",
       "      <td>1</td>\n",
       "      <td>1</td>\n",
       "      <td>1</td>\n",
       "    </tr>\n",
       "    <tr>\n",
       "      <th>F1_5_S</th>\n",
       "      <td>NaN</td>\n",
       "      <td>2</td>\n",
       "      <td>NaN</td>\n",
       "    </tr>\n",
       "    <tr>\n",
       "      <th>...</th>\n",
       "      <td>...</td>\n",
       "      <td>...</td>\n",
       "      <td>...</td>\n",
       "    </tr>\n",
       "    <tr>\n",
       "      <th>TF1_3_</th>\n",
       "      <td>NaN</td>\n",
       "      <td>NaN</td>\n",
       "      <td>NaN</td>\n",
       "    </tr>\n",
       "    <tr>\n",
       "      <th>TF1_4_</th>\n",
       "      <td>1</td>\n",
       "      <td>NaN</td>\n",
       "      <td>1</td>\n",
       "    </tr>\n",
       "    <tr>\n",
       "      <th>TF1_5_</th>\n",
       "      <td>NaN</td>\n",
       "      <td>NaN</td>\n",
       "      <td>NaN</td>\n",
       "    </tr>\n",
       "    <tr>\n",
       "      <th>TF1_6_</th>\n",
       "      <td>NaN</td>\n",
       "      <td>NaN</td>\n",
       "      <td>NaN</td>\n",
       "    </tr>\n",
       "    <tr>\n",
       "      <th>TF1_7_</th>\n",
       "      <td>NaN</td>\n",
       "      <td>NaN</td>\n",
       "      <td>NaN</td>\n",
       "    </tr>\n",
       "  </tbody>\n",
       "</table>\n",
       "<p>108 rows × 3 columns</p>\n",
       "</div>"
      ],
      "text/plain": [
       "        VN1  VN2  VN3\n",
       "F1_1_P    2    2  NaN\n",
       "F1_2_P    1  NaN  NaN\n",
       "F1_3_F  NaN  NaN  NaN\n",
       "F1_4_S    1    1    1\n",
       "F1_5_S  NaN    2  NaN\n",
       "...     ...  ...  ...\n",
       "TF1_3_  NaN  NaN  NaN\n",
       "TF1_4_    1  NaN    1\n",
       "TF1_5_  NaN  NaN  NaN\n",
       "TF1_6_  NaN  NaN  NaN\n",
       "TF1_7_  NaN  NaN  NaN\n",
       "\n",
       "[108 rows x 3 columns]"
      ]
     },
     "execution_count": 19,
     "metadata": {},
     "output_type": "execute_result"
    }
   ],
   "source": [
    "df2.T"
   ]
  },
  {
   "cell_type": "code",
   "execution_count": 30,
   "id": "59cb987f-1bdc-4ad3-9460-ca4f3ba5bd4c",
   "metadata": {},
   "outputs": [
    {
     "data": {
      "text/plain": [
       "Index(['F1_1_P', 'F1_4_S', 'F1_6_E', 'F3_1_L', 'F3_2_C', 'F3_5_C', 'S1_1_A',\n",
       "       'S1_2_E', 'SF1_1_', 'SF2_1_', 'T3_2_S', 'T7_3_P', 'T7_4_U', 'TF1_2_'],\n",
       "      dtype='object')"
      ]
     },
     "execution_count": 30,
     "metadata": {},
     "output_type": "execute_result"
    }
   ],
   "source": [
    "df2.iloc[2].dropna().index"
   ]
  }
 ],
 "metadata": {
  "kernelspec": {
   "display_name": "Python 3 (ipykernel)",
   "language": "python",
   "name": "python3"
  },
  "language_info": {
   "codemirror_mode": {
    "name": "ipython",
    "version": 3
   },
   "file_extension": ".py",
   "mimetype": "text/x-python",
   "name": "python",
   "nbconvert_exporter": "python",
   "pygments_lexer": "ipython3",
   "version": "3.12.7"
  }
 },
 "nbformat": 4,
 "nbformat_minor": 5
}
