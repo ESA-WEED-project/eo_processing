{
 "cells": [
  {
   "cell_type": "markdown",
   "id": "fd0ba8b4-4c9b-42de-af49-ddcc74092a96",
   "metadata": {},
   "source": [
    "# tests with the MGRS ID to set geographic identifiers for 10m WEED reference data\n",
    "## MGRS_ID10; S2_tile; EPSG; c_lat; c_lon; geometry"
   ]
  },
  {
   "cell_type": "code",
   "execution_count": 10,
   "id": "87453316-1b00-4c27-8725-c28999f4feea",
   "metadata": {},
   "outputs": [],
   "source": [
    "import geopandas as gpd\n",
    "import pandas as pd\n",
    "#import mgrs\n",
    "import os"
   ]
  },
  {
   "cell_type": "code",
   "execution_count": 5,
   "id": "25460cfd-8e0f-4176-95e1-523d4bb0e50d",
   "metadata": {},
   "outputs": [],
   "source": [
    "# init MGRS object\n",
    "m = mgrs.MGRS()"
   ]
  },
  {
   "cell_type": "code",
   "execution_count": 16,
   "id": "8d451010-9a04-4a79-bfc3-a344fc216ca5",
   "metadata": {},
   "outputs": [],
   "source": [
    "# load the SK data for test\n",
    "sk_path = os.path.normpath(r'C:\\Users\\BUCHHORM\\Downloads\\SK_v5_reference-points_EUNIS2012.csv')\n",
    "df_sk = pd.read_csv(sk_path)"
   ]
  },
  {
   "cell_type": "code",
   "execution_count": 18,
   "id": "afac23b9-7aa2-47a0-a0f0-82b06a57ba9b",
   "metadata": {},
   "outputs": [
    {
     "data": {
      "text/html": [
       "<div>\n",
       "<style scoped>\n",
       "    .dataframe tbody tr th:only-of-type {\n",
       "        vertical-align: middle;\n",
       "    }\n",
       "\n",
       "    .dataframe tbody tr th {\n",
       "        vertical-align: top;\n",
       "    }\n",
       "\n",
       "    .dataframe thead th {\n",
       "        text-align: right;\n",
       "    }\n",
       "</style>\n",
       "<table border=\"1\" class=\"dataframe\">\n",
       "  <thead>\n",
       "    <tr style=\"text-align: right;\">\n",
       "      <th></th>\n",
       "      <th>fid</th>\n",
       "      <th>entry</th>\n",
       "      <th>x</th>\n",
       "      <th>y</th>\n",
       "      <th>valid_L1</th>\n",
       "      <th>valid_L2</th>\n",
       "      <th>valid_L3</th>\n",
       "      <th>lat</th>\n",
       "      <th>lon</th>\n",
       "      <th>label_L1</th>\n",
       "      <th>label_L2</th>\n",
       "      <th>label_L3</th>\n",
       "    </tr>\n",
       "  </thead>\n",
       "  <tbody>\n",
       "    <tr>\n",
       "      <th>0</th>\n",
       "      <td>1</td>\n",
       "      <td>P5000001</td>\n",
       "      <td>4.849642e+06</td>\n",
       "      <td>2.811280e+06</td>\n",
       "      <td>True</td>\n",
       "      <td>True</td>\n",
       "      <td>True</td>\n",
       "      <td>17.118680</td>\n",
       "      <td>48.185489</td>\n",
       "      <td>C</td>\n",
       "      <td>C3</td>\n",
       "      <td>C3.4</td>\n",
       "    </tr>\n",
       "    <tr>\n",
       "      <th>1</th>\n",
       "      <td>2</td>\n",
       "      <td>P5000002</td>\n",
       "      <td>4.851750e+06</td>\n",
       "      <td>2.815627e+06</td>\n",
       "      <td>True</td>\n",
       "      <td>True</td>\n",
       "      <td>True</td>\n",
       "      <td>17.152425</td>\n",
       "      <td>48.222568</td>\n",
       "      <td>C</td>\n",
       "      <td>C3</td>\n",
       "      <td>C3.4</td>\n",
       "    </tr>\n",
       "    <tr>\n",
       "      <th>2</th>\n",
       "      <td>3</td>\n",
       "      <td>P5000003</td>\n",
       "      <td>4.854840e+06</td>\n",
       "      <td>2.816960e+06</td>\n",
       "      <td>True</td>\n",
       "      <td>True</td>\n",
       "      <td>True</td>\n",
       "      <td>17.195542</td>\n",
       "      <td>48.231791</td>\n",
       "      <td>C</td>\n",
       "      <td>C3</td>\n",
       "      <td>C3.4</td>\n",
       "    </tr>\n",
       "    <tr>\n",
       "      <th>3</th>\n",
       "      <td>4</td>\n",
       "      <td>P5000004</td>\n",
       "      <td>4.854535e+06</td>\n",
       "      <td>2.819285e+06</td>\n",
       "      <td>True</td>\n",
       "      <td>True</td>\n",
       "      <td>True</td>\n",
       "      <td>17.194425</td>\n",
       "      <td>48.252869</td>\n",
       "      <td>C</td>\n",
       "      <td>C3</td>\n",
       "      <td>C3.4</td>\n",
       "    </tr>\n",
       "    <tr>\n",
       "      <th>4</th>\n",
       "      <td>5</td>\n",
       "      <td>P5000005</td>\n",
       "      <td>4.855180e+06</td>\n",
       "      <td>2.819730e+06</td>\n",
       "      <td>True</td>\n",
       "      <td>True</td>\n",
       "      <td>True</td>\n",
       "      <td>17.203641</td>\n",
       "      <td>48.256284</td>\n",
       "      <td>C</td>\n",
       "      <td>C3</td>\n",
       "      <td>C3.4</td>\n",
       "    </tr>\n",
       "  </tbody>\n",
       "</table>\n",
       "</div>"
      ],
      "text/plain": [
       "   fid     entry             x             y  valid_L1  valid_L2  valid_L3  \\\n",
       "0    1  P5000001  4.849642e+06  2.811280e+06      True      True      True   \n",
       "1    2  P5000002  4.851750e+06  2.815627e+06      True      True      True   \n",
       "2    3  P5000003  4.854840e+06  2.816960e+06      True      True      True   \n",
       "3    4  P5000004  4.854535e+06  2.819285e+06      True      True      True   \n",
       "4    5  P5000005  4.855180e+06  2.819730e+06      True      True      True   \n",
       "\n",
       "         lat        lon label_L1 label_L2 label_L3  \n",
       "0  17.118680  48.185489        C       C3     C3.4  \n",
       "1  17.152425  48.222568        C       C3     C3.4  \n",
       "2  17.195542  48.231791        C       C3     C3.4  \n",
       "3  17.194425  48.252869        C       C3     C3.4  \n",
       "4  17.203641  48.256284        C       C3     C3.4  "
      ]
     },
     "execution_count": 18,
     "metadata": {},
     "output_type": "execute_result"
    }
   ],
   "source": [
    "df_sk.head()"
   ]
  },
  {
   "cell_type": "code",
   "execution_count": 30,
   "id": "61b1f53f-9e96-4a23-9b15-c78a6086ddc5",
   "metadata": {},
   "outputs": [
    {
     "data": {
      "text/plain": [
       "(17.1186803, 48.1854891)"
      ]
     },
     "execution_count": 30,
     "metadata": {},
     "output_type": "execute_result"
    }
   ],
   "source": [
    "# test with first entry\n",
    "test = (*df_sk[['lat','lon']].iloc[0],)\n",
    "test"
   ]
  },
  {
   "cell_type": "code",
   "execution_count": 36,
   "id": "ee337a78-c040-4e57-9c17-dd3f829109ef",
   "metadata": {},
   "outputs": [
    {
     "data": {
      "text/plain": [
       "'39QTU00509485'"
      ]
     },
     "execution_count": 36,
     "metadata": {},
     "output_type": "execute_result"
    }
   ],
   "source": [
    "# convert latLon to MGRS_ID10 direct\n",
    "m.toMGRS(*test, MGRSPrecision=4)"
   ]
  },
  {
   "cell_type": "code",
   "execution_count": 50,
   "id": "1c3962aa-77f8-4046-b716-8d2dc0616c4d",
   "metadata": {},
   "outputs": [
    {
     "data": {
      "text/plain": [
       "(39, 'N', 200503.0, 1894850.0)"
      ]
     },
     "execution_count": 50,
     "metadata": {},
     "output_type": "execute_result"
    }
   ],
   "source": [
    "# convert to UTM via MGRS object  (zone, hemi, easting, northing)\n",
    "m.MGRSToUTM(m.toMGRS(*test, MGRSPrecision=5))"
   ]
  },
  {
   "cell_type": "code",
   "execution_count": 60,
   "id": "33292b2d-07fc-4418-82e6-10e5dc3f5c86",
   "metadata": {},
   "outputs": [
    {
     "data": {
      "text/plain": [
       "(200503.28893616836, 1894850.6240331712, 39, 'Q')"
      ]
     },
     "execution_count": 60,
     "metadata": {},
     "output_type": "execute_result"
    }
   ],
   "source": [
    "# convert to UTM via Marcel's tool  (long = X, lat = Y)\n",
    "from eo_processing.utils.mgrs import LL_2_UTM, LL_2_MGRSid, UTM_2_LL\n",
    "LL_2_UTM(test[1], test[0])"
   ]
  },
  {
   "cell_type": "code",
   "execution_count": 58,
   "id": "f55c7786-3125-46e7-b1f3-0a6f194755d7",
   "metadata": {},
   "outputs": [
    {
     "data": {
      "text/plain": [
       "'39QTU'"
      ]
     },
     "execution_count": 58,
     "metadata": {},
     "output_type": "execute_result"
    }
   ],
   "source": [
    "LL_2_MGRSid(test[1], test[0])"
   ]
  },
  {
   "cell_type": "code",
   "execution_count": 62,
   "id": "c23f0a51-92cf-4b0f-bf9e-929c16f45d80",
   "metadata": {},
   "outputs": [],
   "source": [
    "def get_MGRSid10_center(longitude, latitude):\n",
    "    \"\"\"\n",
    "    :param longitude: Longitude of the location in decimal degrees.\n",
    "    :param latitude: Latitude of the location in decimal degrees.\n",
    "    :return: The center coordinates in latitude and longitude of the nearest MGRS 10-meter grid, after rounding the UTM coordinates to the nearest 5 meters.\n",
    "    \"\"\"\n",
    "    def round_to_nearest_5(value):\n",
    "        \"\"\"\n",
    "        :param value: The value to be rounded.\n",
    "        :return: The value rounded to the nearest 5.\n",
    "        \"\"\"\n",
    "        return (int(value / 10.0) * 10) + 5\n",
    "\n",
    "    easting, northing, zone, band = LL_2_UTM(longitude, latitude)\n",
    "    rounded_easting = round_to_nearest_5(easting)\n",
    "    rounded_northing = round_to_nearest_5(northing)\n",
    "    return UTM_2_LL(rounded_easting, rounded_northing, zone, band)"
   ]
  },
  {
   "cell_type": "code",
   "execution_count": 66,
   "id": "d2be3e8e-9cb7-477a-a890-f5ec17a1cc31",
   "metadata": {},
   "outputs": [
    {
     "name": "stdout",
     "output_type": "stream",
     "text": [
      "(48.18550457096998, 17.118720031874876)\n"
     ]
    }
   ],
   "source": [
    "c_center = get_MGRSid10_center(test[1],test[0])\n",
    "print(c_center)"
   ]
  },
  {
   "cell_type": "code",
   "execution_count": 68,
   "id": "f1a77a03-1113-4bdd-ae79-7b0000bf30ad",
   "metadata": {},
   "outputs": [
    {
     "data": {
      "text/plain": [
       "'39QTU0050594854'"
      ]
     },
     "execution_count": 68,
     "metadata": {},
     "output_type": "execute_result"
    }
   ],
   "source": [
    "m.toMGRS(c_center[1], c_center[0])"
   ]
  },
  {
   "cell_type": "code",
   "execution_count": 108,
   "id": "a857c944-9ff5-491e-982d-de38ac59a23a",
   "metadata": {},
   "outputs": [],
   "source": [
    "# load global test set\n",
    "globe_path = os.path.normpath(r'C:\\Users\\BUCHHORM\\Downloads\\latlon_global_test_set.csv')\n",
    "df = pd.read_csv(globe_path)"
   ]
  },
  {
   "cell_type": "code",
   "execution_count": 110,
   "id": "40264c7f-408a-4829-b3bb-27eb8155d32e",
   "metadata": {},
   "outputs": [
    {
     "data": {
      "text/html": [
       "<div>\n",
       "<style scoped>\n",
       "    .dataframe tbody tr th:only-of-type {\n",
       "        vertical-align: middle;\n",
       "    }\n",
       "\n",
       "    .dataframe tbody tr th {\n",
       "        vertical-align: top;\n",
       "    }\n",
       "\n",
       "    .dataframe thead th {\n",
       "        text-align: right;\n",
       "    }\n",
       "</style>\n",
       "<table border=\"1\" class=\"dataframe\">\n",
       "  <thead>\n",
       "    <tr style=\"text-align: right;\">\n",
       "      <th></th>\n",
       "      <th>country</th>\n",
       "      <th>latitude</th>\n",
       "      <th>longitude</th>\n",
       "      <th>name</th>\n",
       "    </tr>\n",
       "  </thead>\n",
       "  <tbody>\n",
       "    <tr>\n",
       "      <th>0</th>\n",
       "      <td>AD</td>\n",
       "      <td>42.546245</td>\n",
       "      <td>1.601554</td>\n",
       "      <td>Andorra</td>\n",
       "    </tr>\n",
       "    <tr>\n",
       "      <th>1</th>\n",
       "      <td>AE</td>\n",
       "      <td>23.424076</td>\n",
       "      <td>53.847818</td>\n",
       "      <td>United Arab Emirates</td>\n",
       "    </tr>\n",
       "    <tr>\n",
       "      <th>2</th>\n",
       "      <td>AF</td>\n",
       "      <td>33.939110</td>\n",
       "      <td>67.709953</td>\n",
       "      <td>Afghanistan</td>\n",
       "    </tr>\n",
       "    <tr>\n",
       "      <th>3</th>\n",
       "      <td>AG</td>\n",
       "      <td>17.060816</td>\n",
       "      <td>-61.796428</td>\n",
       "      <td>Antigua and Barbuda</td>\n",
       "    </tr>\n",
       "    <tr>\n",
       "      <th>4</th>\n",
       "      <td>AI</td>\n",
       "      <td>18.220554</td>\n",
       "      <td>-63.068615</td>\n",
       "      <td>Anguilla</td>\n",
       "    </tr>\n",
       "  </tbody>\n",
       "</table>\n",
       "</div>"
      ],
      "text/plain": [
       "  country   latitude  longitude                  name\n",
       "0      AD  42.546245   1.601554               Andorra\n",
       "1      AE  23.424076  53.847818  United Arab Emirates\n",
       "2      AF  33.939110  67.709953           Afghanistan\n",
       "3      AG  17.060816 -61.796428   Antigua and Barbuda\n",
       "4      AI  18.220554 -63.068615              Anguilla"
      ]
     },
     "execution_count": 110,
     "metadata": {},
     "output_type": "execute_result"
    }
   ],
   "source": [
    "df.head()"
   ]
  },
  {
   "cell_type": "code",
   "execution_count": 118,
   "id": "12934c26-028c-4b3b-b443-c008a1d7b614",
   "metadata": {},
   "outputs": [
    {
     "name": "stdout",
     "output_type": "stream",
     "text": [
      "31TCH85171137   -  31TCH85171137\n",
      "39QYF91019334   -  39QYF91019334\n",
      "42SUC80775615   -  42SUC80775615\n",
      "20QPD28078667   -  20QPD28078667\n",
      "20QMF92741458   -  20QMF92741458\n",
      "34TDL30215611   -  34TDL30215611\n",
      "38TNK03253542   -  38TNK03253542\n",
      "19PDP93465155   -  19PDP93465155\n",
      "33LZH13866007   -  33LZH13866007\n",
      "30CWB83194633   -  30CWB83194633\n",
      "20HMC46164783   -  20HMC46164783\n",
      "02LNK93602213   -  02LNK93602213\n",
      "33TVN66126263   -  33TVN66126263\n",
      "53JLN76660410   -  53JLN76660410\n",
      "19PCP94788437   -  19PCP94788437\n",
      "38TQK19514682   -  38TQK19514682\n",
      "33TYJ15096601   -  33TYJ15096601\n",
      "21PTQ24345997   -  21PTQ24345997\n",
      "46QBM30392185   -  46QBM30392185\n",
      "31UFR04239568   -  31UFR04239568\n",
      "30PXU56455332   -  30PXU56455332\n",
      "35TLH76053237   -  35TLH76053237\n",
      "39RVJ63726802   -  39RVJ63726802\n",
      "35MRS24382668   -  35MRS24382668\n",
      "31PDL24862894   -  31PDL24862894\n",
      "20SLA34577741   -  20SLA34577741\n",
      "50NKL47860169   -  50NKL47860169\n",
      "20KMG37109887   -  20KMG37109887\n",
      "22LDK00172608   -  22LDK00172608\n",
      "18RTN58217088   -  18RTN58217088\n",
      "46RBR46494600   -  46RBR46494600\n",
      "31FEV26806931   -  31FEV26806931\n",
      "35KKR61532898   -  35KKR61532898\n",
      "35UNV62925165   -  35UNV62925165\n",
      "16QCE40730117   -  16QCE40730117\n",
      "13VDC16292140   -  13VDC16292140\n",
      "47LKG68325438   -  47LKG68325438\n",
      "34MEA84215359   -  34MEA84215359\n",
      "34NDN93303075   -  34NDN93303075\n",
      "33MWV92107479   -  33MWV92107479\n",
      "32TMS41078524   -  32TMS41078524\n",
      "30NTP18913426   -  30NTP18913426\n",
      "04KDB19305145   -  04KDB19305145\n",
      "19HBA69844910   -  19HBA69844910\n",
      "33NTJ07961548   -  33NTJ07961548\n",
      "48SVE27356890   -  48SVE27356890\n",
      "18NWL77940526   -  18NWL77940526\n",
      "17PJL97897888   -  17PJL97897888\n",
      "18QTJ11888246   -  18QTJ11888246\n",
      "26QRC19687146   -  26QRC19687146\n",
      "48LWP75564502   -  48LWP75564502\n",
      "36SWD39168714   -  36SWD39168714\n",
      "33UWR34021844   -  33UWR34021844\n",
      "32UPB01486925   -  32UPB01486925\n",
      "38PKU37440834   -  38PKU37440834\n",
      "32VNH31083556   -  32VNH31083556\n",
      "20PPC74810488   -  20PPC74810488\n",
      "19QCA77437198   -  19QCA77437198\n",
      "31RCM68240168   -  31RCM68240168\n",
      "17MRT13389734   -  17MRT13389734\n",
      "35VLE84559669   -  35VLE84559669\n",
      "36RTQ81596845   -  36RTQ81596845\n",
      "28RGM14707971   -  28RGM14707971\n",
      "37PES84037831   -  37PES84037831\n",
      "30TVK36487949   -  30TVK36487949\n",
      "37PFL63681122   -  37PFL63681122\n",
      "35VMJ34276635   -  35VMJ34276635\n",
      "60KYG57636555   -  60KYG57636555\n",
      "21FUC25985861   -  21FUC25985861\n",
      "56NKP29652153   -  56NKP29652153\n",
      "29VPJ09746398   -  29VPJ09746398\n",
      "31TDM39361964   -  31TDM39361964\n",
      "32MQE90431107   -  32MQE90431107\n",
      "30UVG72373694   -  30UVG72373694\n",
      "20PPU51815600   -  20PPU51815600\n",
      "38TLM64598610   -  38TLM64598610\n",
      "22NBK63953512   -  22NBK63953512\n",
      "30UWV30047930   -  30UWV30047930\n",
      "30NYP17917890   -  30NYP17917890\n",
      "30STF88960177   -  30STF88960177\n",
      "23WNV83905791   -  23WNV83905791\n",
      "28PDV66428616   -  28PDV66428616\n",
      "29PML23639947   -  29PML23639947\n",
      "20QND99247934   -  20QND99247934\n",
      "32NPG41038250   -  32NPG41038250\n",
      "34SEJ71302533   -  34SEJ71302533\n",
      "24FXE56466600   -  24FXE56466600\n",
      "15PYT96704693   -  15PYT96704693\n",
      "55PBQ61128734   -  55PBQ61128734\n",
      "28PDU80340485   -  28PDU80340485\n",
      "21NTF85943754   -  21NTF85943754\n",
      "36RXV24486964   -  36RXV24486964\n",
      "50QKK02387956   -  50QKK02387956\n",
      "43FCB99801758   -  43FCB99801758\n",
      "16PEB81428058   -  16PEB81428058\n",
      "33TWK15739407   -  33TWK15739407\n",
      "18QYF85869984   -  18QYF85869984\n",
      "34TCT86552430   -  34TCT86552430\n",
      "49MHV25181264   -  49MHV25181264\n",
      "29UNV50251847   -  29UNV50251847\n",
      "36RXV76693617   -  36RXV76693617\n",
      "30UUF99101089   -  30UUF99101089\n",
      "44QKH87687850   -  44QKH87687850\n",
      "42MZT18269797   -  42MZT18269797\n",
      "38SLB76937680   -  38SLB76937680\n",
      "39SYR52759104   -  39SYR52759104\n",
      "27WWN93440579   -  27WWN93440579\n",
      "33TTG98123841   -  33TTG98123841\n",
      "30UWV63265165   -  30UWV63265165\n",
      "18QTF56870382   -  18QTF56870382\n",
      "37RBP35178687   -  37RBP35178687\n",
      "54STF53021016   -  54STF53021016\n",
      "37MCV78279739   -  37MCV78279739\n",
      "43TDF80386147   -  43TDF80386147\n",
      "48PVU99018910   -  48PVU99018910\n",
      "02MQB51772717   -  02MQB51772717\n",
      "38LLM77168701   -  38LLM77168701\n",
      "20QNE23051915   -  20QNE23051915\n",
      "52TCK73456654   -  52TCK73456654\n",
      "52SCE88737441   -  52SCE88737441\n",
      "38RQT41034507   -  38RQT41034507\n",
      "17QNB45435770   -  17QNB45435770\n",
      "42UUU45172056   -  42UUU45172056\n",
      "48QTG37719752   -  48QTG37719752\n",
      "36SYC64814973   -  36SYC64814973\n",
      "20PQA18383863   -  20PQA18383863\n",
      "32TNT42092376   -  32TNT42092376\n",
      "44NMP74847027   -  44NMP74847027\n",
      "29NMH52501054   -  29NMH52501054\n",
      "35JPH19442379   -  35JPH19442379\n",
      "34UFG83501743   -  34UFG83501743\n",
      "32UKA93512204   -  32UKA93512204\n",
      "35VLD53940654   -  35VLD53940654\n",
      "33RYK22401471   -  33RYK22401471\n",
      "29RPR80581893   -  29RPR80581893\n",
      "32TLP72214536   -  32TLP72214536\n",
      "35TPN03345181   -  35TPN03345181\n",
      "34TCN66872974   -  34TCN66872974\n",
      "38KPE97022392   -  38KPE97022392\n",
      "59NNH20378828   -  59NNH20378828\n",
      "34TEM62090659   -  34TEM62090659\n",
      "30QUE94284296   -  30QUE94284296\n",
      "46QHK05422624   -  46QHK05422624\n",
      "48TVS12099052   -  48TVS12099052\n",
      "49QGE62275702   -  49QGE62275702\n",
      "55QCV28341687   -  55QCV28341687\n",
      "20PQB12801960   -  20PQB12801960\n",
      "29QKD98272424   -  29QKD98272424\n",
      "20QND86615124   -  20QND86615124\n",
      "33SVV43667719   -  33SVV43667719\n",
      "40KEC57634986   -  40KEC57634986\n",
      "43NCD02285417   -  43NCD02285417\n",
      "36LXL41003437   -  36LXL41003437\n",
      "13QGG49651590   -  13QGG49651590\n",
      "47NRE30386602   -  47NRE30386602\n",
      "36KYE66833427   -  36KYE66833427\n",
      "34KBV42675897   -  34KBV42675897\n",
      "58KEB64278831   -  58KEB64278831\n",
      "32QME02564702   -  32QME02564702\n",
      "58JGN87748388   -  58JGN87748388\n",
      "32PMR64310393   -  32PMR64310393\n",
      "16PFV94542293   -  16PFV94542293\n",
      "31UFT56827826   -  31UFT56827826\n",
      "32VMN70800409   -  32VMN70800409\n",
      "45RTM18194430   -  45RTM18194430\n",
      "58MGE14964218   -  58MGE14964218\n",
      "02KPD19199276   -  02KPD19199276\n",
      "60GUV21937013   -  60GUV21937013\n",
      "40QCJ88477926   -  40QCJ88477926\n",
      "17PNK23974378   -  17PNK23974378\n",
      "18LVQ98338414   -  18LVQ98338414\n",
      "06KTF44684361   -  06KTF44684361\n",
      "54MZU27030104   -  54MZU27030104\n",
      "51PUQ66972415   -  51PUQ66972415\n",
      "42RWU33156042   -  42RWU33156042\n",
      "34UCC72435370   -  34UCC72435370\n",
      "21TWM55479896   -  21TWM55479896\n",
      "09JXN57876697   -  09JXN57876697\n",
      "19QGA54851629   -  19QGA54851629\n",
      "36RYA11063731   -  36RYA11063731\n",
      "29SND66776143   -  29SND66776143\n",
      "53NMJ53943070   -  53NMJ53943070\n",
      "21KUQ52500675   -  21KUQ52500675\n",
      "39RWJ18500425   -  39RWJ18500425\n",
      "40KCB47996440   -  40KCB47996440\n",
      "35TLL42408974   -  35TLL42408974\n",
      "34TEP00467370   -  34TEP00467370\n",
      "48VWP16952119   -  48VWP16952119\n",
      "35MRT19748526   -  35MRT19748526\n",
      "38QNM08054160   -  38QNM08054160\n",
      "57LXK26853354   -  57LXK26853354\n",
      "40MCV32738257   -  40MCV32738257\n",
      "36PSV98002359   -  36PSV98002359\n",
      "34VCM69086801   -  34VCM69086801\n",
      "48NUG68704947   -  48NUG68704947\n",
      "29JLP95272950   -  29JLP95272950\n",
      "33TVM99641085   -  33TVM99641085\n",
      "35XMG19921082   -  35XMG19921082\n",
      "34UDU04219148   -  34UDU04219148\n",
      "29PJK93893630   -  29PJK93893630\n",
      "33TTJ95976861   -  33TTJ95976861\n",
      "28PEB59010280   -  28PEB59010280\n",
      "38NPL32966960   -  38NPL32966960\n",
      "21NXE07933327   -  21NXE07933327\n",
      "32NKF34312061   -  32NKF34312061\n",
      "16PBA94972577   -  16PBA94972577\n",
      "37SDU99705109   -  37SDU99705109\n",
      "36JUR47146553   -  36JUR47146553\n",
      "19QBE10490157   -  19QBE10490157\n",
      "34PBC56660984   -  34PBC56660984\n",
      "42FWL25354131   -  42FWL25354131\n",
      "31PBK60615347   -  31PBK60615347\n",
      "47PQT13355557   -  47PQT13355557\n",
      "42SXJ97480381   -  42SXJ97480381\n",
      "02LMR05910864   -  02LMR05910864\n",
      "51LZL00001795   -  51LZL00001795\n",
      "40SGJ21461652   -  40SGJ21461652\n",
      "32SNC49704974   -  32SNC49704974\n",
      "01KFS87055698   -  01KFS87055698\n",
      "36SXJ94361514   -  36SXJ94361514\n",
      "20PPS94408246   -  20PPS94408246\n",
      "60MWT71701409   -  60MWT71701409\n",
      "51QTG92052225   -  51QTG92052225\n",
      "36MYT08929561   -  36MYT08929561\n",
      "36UUU64166009   -  36UUU64166009\n",
      "36NVG21045180   -  36NVG21045180\n",
      "15STB58870832   -  15STB58870832\n",
      "21HXE15910094   -  21HXE15910094\n",
      "41TPF32568187   -  41TPF32568187\n",
      "33TTG88764213   -  33TTG88764213\n",
      "20PPV85773602   -  20PPV85773602\n",
      "19NGH66601067   -  19NGH66601067\n",
      "20QLF26783751   -  20QLF26783751\n",
      "20QKF99602837   -  20QKF99602837\n",
      "49PBR05935587   -  49PBR05935587\n",
      "58LGH10289905   -  58LGH10289905\n",
      "01LDE83127784   -  01LDE83127784\n",
      "02LLK80587864   -  02LLK80587864\n",
      "34TDN92041669   -  34TDN92041669\n",
      "39PTT33612101   -  39PTT33612101\n",
      "38LNL18048193   -  38LNL18048193\n",
      "34JFM85821761   -  34JFM85821761\n",
      "35LNF92054790   -  35LNF92054790\n",
      "35KQU26819607   -  35KQU26819607\n"
     ]
    }
   ],
   "source": [
    "def process_row(row: pd.Series) -> None:\n",
    "    \"\"\"\n",
    "    :param row: A pandas Series object containing 'longitude' and 'latitude'.\n",
    "    :return: None. Prints out the MGRS id, formatted easting and northing coordinates, and MGRS result, or an error message if processing fails.\n",
    "    \"\"\"\n",
    "    longitude, latitude = row.longitude, row.latitude\n",
    "    try:\n",
    "        mgrs_id = LL_2_MGRSid(longitude, latitude)\n",
    "        easting, northing, zone, band = LL_2_UTM(longitude, latitude)\n",
    "    except Exception as e:\n",
    "        print(f\"Error processing row: {row}\", e)\n",
    "        return\n",
    "    formatted_easting = str(int(easting))[-5:-1]\n",
    "    formatted_northing = str(int(northing))[-5:-1]\n",
    "    mgrs_result = m.toMGRS(latitude, longitude, MGRSPrecision=4)\n",
    "    print(f'{mgrs_id}{formatted_easting}{formatted_northing}   -  {mgrs_result}')\n",
    "\n",
    "for row in df.itertuples():\n",
    "    process_row(row)"
   ]
  },
  {
   "metadata": {},
   "cell_type": "markdown",
   "source": "some tests with the new grid20id for the openEO 20x20km global processing grid. The grid20id functions should assign to each reference point the corresponding 20x20km grid cell so that a faster grouping for openEO processing purposes is possible.",
   "id": "8b8030b0a2d79fca"
  },
  {
   "cell_type": "code",
   "id": "8af3c374-246a-4205-ae34-2240596f05ea",
   "metadata": {
    "ExecuteTime": {
     "end_time": "2024-11-07T06:49:57.611878Z",
     "start_time": "2024-11-07T06:49:56.983837Z"
    }
   },
   "source": "from eo_processing.utils.mgrs import UTM_2_MGRSid, UTM_2_grid20id, LL_2_UTM, LL_2_grid20id, LL_2_MGRSid",
   "outputs": [],
   "execution_count": 1
  },
  {
   "metadata": {
    "ExecuteTime": {
     "end_time": "2024-11-06T10:58:46.878247Z",
     "start_time": "2024-11-06T10:58:46.304054Z"
    }
   },
   "cell_type": "code",
   "source": [
    "# load the shapefile of the global terrestrial 100k grid\n",
    "import eo_processing.resources\n",
    "import importlib.resources as importlib_resources\n",
    "import geopandas as gpd\n",
    "import os\n",
    "#grid = importlib_resources.files(eo_processing.resources).joinpath('global_terrestrial_MGRS100k_grid.gpkg')\n",
    "grid = os.path.normpath(r'C:\\Users\\BUCHHORM\\Downloads\\world_mgrs\\mgrs_region.shp')\n",
    "gdf = gpd.read_file(os.path.normpath(grid))"
   ],
   "id": "69a80434fad8efd0",
   "outputs": [],
   "execution_count": 16
  },
  {
   "metadata": {
    "ExecuteTime": {
     "end_time": "2024-11-06T10:59:17.588477Z",
     "start_time": "2024-11-06T10:59:17.579710Z"
    }
   },
   "cell_type": "code",
   "source": "gdf.head()",
   "id": "5a3089fe68583d8c",
   "outputs": [
    {
     "data": {
      "text/plain": [
       "  GRID1MIL GRID100K  LONGITUDE   LATITUDE  \\\n",
       "0      33L       SC  12.102867 -15.678288   \n",
       "1      33L       TC  12.666855 -15.679626   \n",
       "2      33L       UC  13.599601 -15.684492   \n",
       "3      33L       VC  14.532691 -15.687415   \n",
       "4      33L       WC  15.467309 -15.687415   \n",
       "\n",
       "                                            geometry  \n",
       "0  POLYGON ((12 -16, 12 -15.90909, 12 -15.81818, ...  \n",
       "1  POLYGON ((13.13098 -16, 13.125 -16, 13.03125 -...  \n",
       "2  POLYGON ((14.06538 -16, 14.0625 -16, 13.96875 ...  \n",
       "3  POLYGON ((15 -16, 14.90625 -16, 14.8125 -16, 1...  \n",
       "4  POLYGON ((15.93462 -16, 15.84375 -16, 15.75 -1...  "
      ],
      "text/html": [
       "<div>\n",
       "<style scoped>\n",
       "    .dataframe tbody tr th:only-of-type {\n",
       "        vertical-align: middle;\n",
       "    }\n",
       "\n",
       "    .dataframe tbody tr th {\n",
       "        vertical-align: top;\n",
       "    }\n",
       "\n",
       "    .dataframe thead th {\n",
       "        text-align: right;\n",
       "    }\n",
       "</style>\n",
       "<table border=\"1\" class=\"dataframe\">\n",
       "  <thead>\n",
       "    <tr style=\"text-align: right;\">\n",
       "      <th></th>\n",
       "      <th>GRID1MIL</th>\n",
       "      <th>GRID100K</th>\n",
       "      <th>LONGITUDE</th>\n",
       "      <th>LATITUDE</th>\n",
       "      <th>geometry</th>\n",
       "    </tr>\n",
       "  </thead>\n",
       "  <tbody>\n",
       "    <tr>\n",
       "      <th>0</th>\n",
       "      <td>33L</td>\n",
       "      <td>SC</td>\n",
       "      <td>12.102867</td>\n",
       "      <td>-15.678288</td>\n",
       "      <td>POLYGON ((12 -16, 12 -15.90909, 12 -15.81818, ...</td>\n",
       "    </tr>\n",
       "    <tr>\n",
       "      <th>1</th>\n",
       "      <td>33L</td>\n",
       "      <td>TC</td>\n",
       "      <td>12.666855</td>\n",
       "      <td>-15.679626</td>\n",
       "      <td>POLYGON ((13.13098 -16, 13.125 -16, 13.03125 -...</td>\n",
       "    </tr>\n",
       "    <tr>\n",
       "      <th>2</th>\n",
       "      <td>33L</td>\n",
       "      <td>UC</td>\n",
       "      <td>13.599601</td>\n",
       "      <td>-15.684492</td>\n",
       "      <td>POLYGON ((14.06538 -16, 14.0625 -16, 13.96875 ...</td>\n",
       "    </tr>\n",
       "    <tr>\n",
       "      <th>3</th>\n",
       "      <td>33L</td>\n",
       "      <td>VC</td>\n",
       "      <td>14.532691</td>\n",
       "      <td>-15.687415</td>\n",
       "      <td>POLYGON ((15 -16, 14.90625 -16, 14.8125 -16, 1...</td>\n",
       "    </tr>\n",
       "    <tr>\n",
       "      <th>4</th>\n",
       "      <td>33L</td>\n",
       "      <td>WC</td>\n",
       "      <td>15.467309</td>\n",
       "      <td>-15.687415</td>\n",
       "      <td>POLYGON ((15.93462 -16, 15.84375 -16, 15.75 -1...</td>\n",
       "    </tr>\n",
       "  </tbody>\n",
       "</table>\n",
       "</div>"
      ]
     },
     "execution_count": 17,
     "metadata": {},
     "output_type": "execute_result"
    }
   ],
   "execution_count": 17
  },
  {
   "metadata": {
    "ExecuteTime": {
     "end_time": "2024-11-06T10:59:47.374415Z",
     "start_time": "2024-11-06T10:59:47.370141Z"
    }
   },
   "cell_type": "code",
   "source": [
    "def get_grid20id_center(geometry):\n",
    "    c_center = geometry.centroid\n",
    "    return LL_2_grid20id(c_center.x, c_center.y)[:5]"
   ],
   "id": "c4dd156788424290",
   "outputs": [],
   "execution_count": 18
  },
  {
   "metadata": {
    "ExecuteTime": {
     "end_time": "2024-11-06T11:02:30.883093Z",
     "start_time": "2024-11-06T11:00:02.394250Z"
    }
   },
   "cell_type": "code",
   "source": "gdf['grid100id'] = gdf.apply(lambda row: get_grid20id_center(row['geometry']), axis=1, result_type='expand')",
   "id": "a2376b93e12cd2b",
   "outputs": [],
   "execution_count": 19
  },
  {
   "metadata": {
    "ExecuteTime": {
     "end_time": "2024-11-06T11:09:38.980125Z",
     "start_time": "2024-11-06T11:09:38.970879Z"
    }
   },
   "cell_type": "code",
   "source": "gdf.head()",
   "id": "15b66aa6f1936bd4",
   "outputs": [
    {
     "data": {
      "text/plain": [
       "  GRID1MIL GRID100K  LONGITUDE   LATITUDE  \\\n",
       "0      33L       SC  12.102867 -15.678288   \n",
       "1      33L       TC  12.666855 -15.679626   \n",
       "2      33L       UC  13.599601 -15.684492   \n",
       "3      33L       VC  14.532691 -15.687415   \n",
       "4      33L       WC  15.467309 -15.687415   \n",
       "\n",
       "                                            geometry grid100id  \n",
       "0  POLYGON ((12 -16, 12 -15.90909, 12 -15.81818, ...     33εSC  \n",
       "1  POLYGON ((13.13098 -16, 13.125 -16, 13.03125 -...     33εTC  \n",
       "2  POLYGON ((14.06538 -16, 14.0625 -16, 13.96875 ...     33εUC  \n",
       "3  POLYGON ((15 -16, 14.90625 -16, 14.8125 -16, 1...     33εVC  \n",
       "4  POLYGON ((15.93462 -16, 15.84375 -16, 15.75 -1...     33εWC  "
      ],
      "text/html": [
       "<div>\n",
       "<style scoped>\n",
       "    .dataframe tbody tr th:only-of-type {\n",
       "        vertical-align: middle;\n",
       "    }\n",
       "\n",
       "    .dataframe tbody tr th {\n",
       "        vertical-align: top;\n",
       "    }\n",
       "\n",
       "    .dataframe thead th {\n",
       "        text-align: right;\n",
       "    }\n",
       "</style>\n",
       "<table border=\"1\" class=\"dataframe\">\n",
       "  <thead>\n",
       "    <tr style=\"text-align: right;\">\n",
       "      <th></th>\n",
       "      <th>GRID1MIL</th>\n",
       "      <th>GRID100K</th>\n",
       "      <th>LONGITUDE</th>\n",
       "      <th>LATITUDE</th>\n",
       "      <th>geometry</th>\n",
       "      <th>grid100id</th>\n",
       "    </tr>\n",
       "  </thead>\n",
       "  <tbody>\n",
       "    <tr>\n",
       "      <th>0</th>\n",
       "      <td>33L</td>\n",
       "      <td>SC</td>\n",
       "      <td>12.102867</td>\n",
       "      <td>-15.678288</td>\n",
       "      <td>POLYGON ((12 -16, 12 -15.90909, 12 -15.81818, ...</td>\n",
       "      <td>33εSC</td>\n",
       "    </tr>\n",
       "    <tr>\n",
       "      <th>1</th>\n",
       "      <td>33L</td>\n",
       "      <td>TC</td>\n",
       "      <td>12.666855</td>\n",
       "      <td>-15.679626</td>\n",
       "      <td>POLYGON ((13.13098 -16, 13.125 -16, 13.03125 -...</td>\n",
       "      <td>33εTC</td>\n",
       "    </tr>\n",
       "    <tr>\n",
       "      <th>2</th>\n",
       "      <td>33L</td>\n",
       "      <td>UC</td>\n",
       "      <td>13.599601</td>\n",
       "      <td>-15.684492</td>\n",
       "      <td>POLYGON ((14.06538 -16, 14.0625 -16, 13.96875 ...</td>\n",
       "      <td>33εUC</td>\n",
       "    </tr>\n",
       "    <tr>\n",
       "      <th>3</th>\n",
       "      <td>33L</td>\n",
       "      <td>VC</td>\n",
       "      <td>14.532691</td>\n",
       "      <td>-15.687415</td>\n",
       "      <td>POLYGON ((15 -16, 14.90625 -16, 14.8125 -16, 1...</td>\n",
       "      <td>33εVC</td>\n",
       "    </tr>\n",
       "    <tr>\n",
       "      <th>4</th>\n",
       "      <td>33L</td>\n",
       "      <td>WC</td>\n",
       "      <td>15.467309</td>\n",
       "      <td>-15.687415</td>\n",
       "      <td>POLYGON ((15.93462 -16, 15.84375 -16, 15.75 -1...</td>\n",
       "      <td>33εWC</td>\n",
       "    </tr>\n",
       "  </tbody>\n",
       "</table>\n",
       "</div>"
      ]
     },
     "execution_count": 20,
     "metadata": {},
     "output_type": "execute_result"
    }
   ],
   "execution_count": 20
  },
  {
   "metadata": {
    "ExecuteTime": {
     "end_time": "2024-11-06T11:09:41.769580Z",
     "start_time": "2024-11-06T11:09:41.315409Z"
    }
   },
   "cell_type": "code",
   "source": [
    "# save to disk\n",
    "out_path = os.path.normpath(r'C:\\Users\\BUCHHORM\\Downloads\\global_terrestrial_UTM100k_grid_unfiltered.gpkg')\n",
    "gdf.to_file(out_path, driver='GPKG')"
   ],
   "id": "f79dee4aefcac1cf",
   "outputs": [],
   "execution_count": 21
  },
  {
   "metadata": {
    "ExecuteTime": {
     "end_time": "2024-11-07T06:50:01.927313Z",
     "start_time": "2024-11-07T06:50:01.908858Z"
    }
   },
   "cell_type": "code",
   "source": [
    "# test regarding leading zeros\n",
    "zero = (0,0)\n",
    "LL_2_UTM(*zero)"
   ],
   "id": "d82c98b77ff31d6c",
   "outputs": [
    {
     "data": {
      "text/plain": [
       "(166021.44308054057, 0.0, 31, 'N')"
      ]
     },
     "execution_count": 2,
     "metadata": {},
     "output_type": "execute_result"
    }
   ],
   "execution_count": 2
  },
  {
   "metadata": {
    "ExecuteTime": {
     "end_time": "2024-11-07T06:50:05.158724Z",
     "start_time": "2024-11-07T06:50:05.150615Z"
    }
   },
   "cell_type": "code",
   "source": "LL_2_grid20id(*zero)",
   "id": "a12ae9f82d8dca20",
   "outputs": [
    {
     "data": {
      "text/plain": [
       "'31λAA30'"
      ]
     },
     "execution_count": 3,
     "metadata": {},
     "output_type": "execute_result"
    }
   ],
   "execution_count": 3
  },
  {
   "metadata": {
    "ExecuteTime": {
     "end_time": "2024-11-07T06:50:08.100426Z",
     "start_time": "2024-11-07T06:50:08.093233Z"
    }
   },
   "cell_type": "code",
   "source": "LL_2_MGRSid(*zero)",
   "id": "b93d0b83a41736e2",
   "outputs": [
    {
     "data": {
      "text/plain": [
       "'31NAA'"
      ]
     },
     "execution_count": 4,
     "metadata": {},
     "output_type": "execute_result"
    }
   ],
   "execution_count": 4
  },
  {
   "metadata": {
    "ExecuteTime": {
     "end_time": "2024-11-07T06:50:13.808554Z",
     "start_time": "2024-11-07T06:50:13.804630Z"
    }
   },
   "cell_type": "code",
   "source": "from eo_processing.utils.mgrs import LL_2_grid100id, LL_2_MGRSid10",
   "id": "debdce23fe228b47",
   "outputs": [],
   "execution_count": 5
  },
  {
   "metadata": {
    "ExecuteTime": {
     "end_time": "2024-11-07T06:50:17.172765Z",
     "start_time": "2024-11-07T06:50:17.164482Z"
    }
   },
   "cell_type": "code",
   "source": "LL_2_grid100id(*zero)",
   "id": "b526109c1209d7b7",
   "outputs": [
    {
     "data": {
      "text/plain": [
       "'31λAA'"
      ]
     },
     "execution_count": 6,
     "metadata": {},
     "output_type": "execute_result"
    }
   ],
   "execution_count": 6
  },
  {
   "metadata": {
    "ExecuteTime": {
     "end_time": "2024-11-07T06:50:18.611248Z",
     "start_time": "2024-11-07T06:50:18.602818Z"
    }
   },
   "cell_type": "code",
   "source": "LL_2_MGRSid10(*zero)",
   "id": "56571a26fa74b7c7",
   "outputs": [
    {
     "data": {
      "text/plain": [
       "'31NAA66020000'"
      ]
     },
     "execution_count": 7,
     "metadata": {},
     "output_type": "execute_result"
    }
   ],
   "execution_count": 7
  },
  {
   "metadata": {},
   "cell_type": "code",
   "outputs": [],
   "execution_count": null,
   "source": "",
   "id": "b8523baef02a0daa"
  }
 ],
 "metadata": {
  "kernelspec": {
   "display_name": "weed",
   "language": "python",
   "name": "weed"
  },
  "language_info": {
   "codemirror_mode": {
    "name": "ipython",
    "version": 3
   },
   "file_extension": ".py",
   "mimetype": "text/x-python",
   "name": "python",
   "nbconvert_exporter": "python",
   "pygments_lexer": "ipython3",
   "version": "3.12.5"
  }
 },
 "nbformat": 4,
 "nbformat_minor": 5
}
