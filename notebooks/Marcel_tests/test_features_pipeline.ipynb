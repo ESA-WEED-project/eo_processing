{
 "cells": [
  {
   "cell_type": "markdown",
   "id": "eb7066fd",
   "metadata": {},
   "source": [
    "## test to generatefeatures from S1, S2, Meteo and DEM data <br>"
   ]
  },
  {
   "cell_type": "code",
   "execution_count": 1,
   "id": "7a0aecb4",
   "metadata": {
    "ExecuteTime": {
     "end_time": "2023-07-17T08:29:22.504307300Z",
     "start_time": "2023-07-17T08:29:22.504307300Z"
    }
   },
   "outputs": [
    {
     "name": "stderr",
     "output_type": "stream",
     "text": [
      "C:\\Users\\BUCHHORM\\Anaconda3\\envs\\extent\\lib\\site-packages\\paramiko\\transport.py:219: CryptographyDeprecationWarning: Blowfish has been deprecated\n",
      "  \"class\": algorithms.Blowfish,\n"
     ]
    }
   ],
   "source": [
    "import openeo\n",
    "from extentmapping.openeo.processing import generate_master_feature_cube\n",
    "from extentmapping.config import get_job_options, get_collection_options, get_advanced_options\n",
    "from extentmapping.utils import laea20km_id_to_extent, reproj_bbox_to_ll, bbox_area\n",
    "import os\n",
    "import json"
   ]
  },
  {
   "cell_type": "markdown",
   "id": "68369278",
   "metadata": {},
   "source": [
    "### connect to the backend"
   ]
  },
  {
   "cell_type": "code",
   "execution_count": 2,
   "id": "67995fba",
   "metadata": {
    "ExecuteTime": {
     "start_time": "2023-07-17T08:29:54.478413300Z"
    },
    "is_executing": true
   },
   "outputs": [
    {
     "name": "stdout",
     "output_type": "stream",
     "text": [
      "Authenticated using refresh token.\n"
     ]
    }
   ],
   "source": [
    "backend = 'terrascope'\n",
    "#backend = 'development'    # for current tests\n",
    "\n",
    "# Make connection\n",
    "if backend == 'terrascope':\n",
    "    connection = openeo.connect(\"https://openeo.vito.be\").authenticate_oidc()\n",
    "elif backend == 'development':\n",
    "    connection = openeo.connect(\"https://openeo-dev.vito.be\").authenticate_oidc()\n",
    "else:\n",
    "    print('currently no specific connections to backends like creodias and sentinelhub are setup.')\n",
    "    print('use standard entry point')\n",
    "    connection = openeo.connect(\"https://openeo.cloud\").authenticate_oidc()"
   ]
  },
  {
   "cell_type": "markdown",
   "id": "96db1c73",
   "metadata": {},
   "source": [
    "### init the job, processing and collection option depending on provider and task"
   ]
  },
  {
   "cell_type": "code",
   "execution_count": 3,
   "id": "37940a96",
   "metadata": {},
   "outputs": [],
   "source": [
    "job_options = get_job_options(provider=backend, task='feature_generation')\n",
    "collection_options = get_collection_options(provider=backend)\n",
    "# reset S1, DEM and Agera5 to only get Sentinel2 data cube\n",
    "processing_options = get_advanced_options(provider=backend)"
   ]
  },
  {
   "cell_type": "code",
   "execution_count": 4,
   "id": "4e6b832e",
   "metadata": {},
   "outputs": [
    {
     "name": "stdout",
     "output_type": "stream",
     "text": [
      "job_options: {'driver-memory': '4G', 'driver-memoryOverhead': '4G', 'driver-cores': '2', 'executor-memory': '3G', 'executor-memoryOverhead': '2G', 'executor-cores': '2', 'max-executors': '50', 'soft-errors': 'true'}\n",
      "collection_options: {'S2_collection': 'SENTINEL2_L2A', 'METEO_collection': 'AGERA5', 'S1_collection': 'SENTINEL1_GRD', 'DEM_collection': 'COPERNICUS_30'}\n",
      "processing_options: {'provider': 'terrascope', 's1_orbitdirection': 'DESCENDING', 'target_crs': 3035, 'resolution': 10.0, 'time_interpolation': False, 'ts_interval': 'dekad', 'SLC_masking_algo': 'mask_scl_dilation', 'optical_vi_list': ['NDVI', 'AVI', 'CIRE', 'NIRv', 'NDMI', 'NDWI', 'BLFEI', 'MNDWI', 'NDVIMNDWI', 'S2WI', 'S2REP', 'IRECI'], 'radar_vi_list': ['VHVVD', 'VHVVR', 'RVI'], 'S2_scaling': [0, 10000, 0, 1.0], 'S1_db_rescale': True, 'append': True}\n"
     ]
    }
   ],
   "source": [
    "# just print for an overview\n",
    "print(f'job_options: {job_options}')\n",
    "print(f'collection_options: {collection_options}')\n",
    "print(f'processing_options: {processing_options}')"
   ]
  },
  {
   "cell_type": "markdown",
   "id": "f7585e3b",
   "metadata": {},
   "source": [
    "### specify the space and time context"
   ]
  },
  {
   "cell_type": "code",
   "execution_count": 5,
   "id": "e6fe1786",
   "metadata": {},
   "outputs": [],
   "source": [
    "# the time context is given by start and end date\n",
    "start = '2020-01-01'\n",
    "end = '2021-01-01'   # the end is always exclusive"
   ]
  },
  {
   "cell_type": "code",
   "execution_count": 6,
   "id": "f321f890",
   "metadata": {},
   "outputs": [
    {
     "name": "stdout",
     "output_type": "stream",
     "text": [
      "area of AOI in km2: 104.8576\n"
     ]
    }
   ],
   "source": [
    "# the space context is defined as a bounding box dictionary with south,west,north,east and crs\n",
    "# we take as example the AOI of Daniele's test for habitat mapping\n",
    "AOI = {'east': 610240, 'south': 5689760, 'west': 600000, 'north': 5700000, 'crs': 'EPSG:32631'}\n",
    "# print some area info\n",
    "bbox_area(AOI)"
   ]
  },
  {
   "cell_type": "markdown",
   "id": "a76a2bd5",
   "metadata": {},
   "source": [
    "### run over the AOI and process"
   ]
  },
  {
   "cell_type": "code",
   "execution_count": 7,
   "id": "09d44521",
   "metadata": {},
   "outputs": [],
   "source": [
    "test_num = 9\n",
    "\n",
    "# define the output folder root\n",
    "out_root = os.path.normpath(r'C:\\Users\\BUCHHORM\\OneDrive - VITO\\Documents\\Project_work\\PEOPLE-EA\\habitat_mapping\\feature_generation')\n",
    "out_root = os.path.join(out_root, f'test_v{str(test_num)}')\n",
    "os.makedirs(out_root, exist_ok=True)"
   ]
  },
  {
   "cell_type": "code",
   "execution_count": 9,
   "id": "67c402a4",
   "metadata": {},
   "outputs": [
    {
     "name": "stdout",
     "output_type": "stream",
     "text": [
      "**** processing AOI\n",
      "0:00:00 Job 'j-231115b21c8a461d837c585c95b10dfe': send 'start'\n",
      "0:00:16 Job 'j-231115b21c8a461d837c585c95b10dfe': queued (progress N/A)\n",
      "0:00:22 Job 'j-231115b21c8a461d837c585c95b10dfe': queued (progress N/A)\n",
      "0:00:28 Job 'j-231115b21c8a461d837c585c95b10dfe': queued (progress N/A)\n",
      "0:00:36 Job 'j-231115b21c8a461d837c585c95b10dfe': queued (progress N/A)\n",
      "0:00:47 Job 'j-231115b21c8a461d837c585c95b10dfe': queued (progress N/A)\n",
      "0:01:00 Job 'j-231115b21c8a461d837c585c95b10dfe': queued (progress N/A)\n",
      "0:01:16 Job 'j-231115b21c8a461d837c585c95b10dfe': queued (progress N/A)\n",
      "0:01:35 Job 'j-231115b21c8a461d837c585c95b10dfe': queued (progress N/A)\n",
      "0:01:59 Job 'j-231115b21c8a461d837c585c95b10dfe': running (progress N/A)\n",
      "0:02:29 Job 'j-231115b21c8a461d837c585c95b10dfe': running (progress N/A)\n",
      "0:03:07 Job 'j-231115b21c8a461d837c585c95b10dfe': running (progress N/A)\n",
      "0:03:54 Job 'j-231115b21c8a461d837c585c95b10dfe': running (progress N/A)\n",
      "0:04:52 Job 'j-231115b21c8a461d837c585c95b10dfe': running (progress N/A)\n",
      "0:05:52 Job 'j-231115b21c8a461d837c585c95b10dfe': running (progress N/A)\n",
      "0:06:53 Job 'j-231115b21c8a461d837c585c95b10dfe': running (progress N/A)\n",
      "0:07:54 Job 'j-231115b21c8a461d837c585c95b10dfe': running (progress N/A)\n",
      "0:08:54 Job 'j-231115b21c8a461d837c585c95b10dfe': running (progress N/A)\n",
      "0:09:55 Job 'j-231115b21c8a461d837c585c95b10dfe': running (progress N/A)\n",
      "0:10:56 Job 'j-231115b21c8a461d837c585c95b10dfe': running (progress N/A)\n",
      "0:11:57 Job 'j-231115b21c8a461d837c585c95b10dfe': running (progress N/A)\n",
      "0:12:57 Job 'j-231115b21c8a461d837c585c95b10dfe': running (progress N/A)\n",
      "0:13:58 Job 'j-231115b21c8a461d837c585c95b10dfe': running (progress N/A)\n",
      "0:14:59 Job 'j-231115b21c8a461d837c585c95b10dfe': running (progress N/A)\n",
      "0:15:59 Job 'j-231115b21c8a461d837c585c95b10dfe': running (progress N/A)\n",
      "0:17:01 Job 'j-231115b21c8a461d837c585c95b10dfe': running (progress N/A)\n",
      "0:18:01 Job 'j-231115b21c8a461d837c585c95b10dfe': running (progress N/A)\n",
      "0:19:01 Job 'j-231115b21c8a461d837c585c95b10dfe': running (progress N/A)\n",
      "0:20:02 Job 'j-231115b21c8a461d837c585c95b10dfe': running (progress N/A)\n",
      "0:21:02 Job 'j-231115b21c8a461d837c585c95b10dfe': running (progress N/A)\n",
      "0:22:03 Job 'j-231115b21c8a461d837c585c95b10dfe': running (progress N/A)\n",
      "0:23:04 Job 'j-231115b21c8a461d837c585c95b10dfe': running (progress N/A)\n",
      "0:24:05 Job 'j-231115b21c8a461d837c585c95b10dfe': running (progress N/A)\n",
      "0:25:06 Job 'j-231115b21c8a461d837c585c95b10dfe': running (progress N/A)\n",
      "0:26:06 Job 'j-231115b21c8a461d837c585c95b10dfe': running (progress N/A)\n",
      "0:27:07 Job 'j-231115b21c8a461d837c585c95b10dfe': running (progress N/A)\n",
      "0:28:07 Job 'j-231115b21c8a461d837c585c95b10dfe': running (progress N/A)\n",
      "0:29:08 Job 'j-231115b21c8a461d837c585c95b10dfe': running (progress N/A)\n",
      "0:30:08 Job 'j-231115b21c8a461d837c585c95b10dfe': running (progress N/A)\n",
      "0:31:09 Job 'j-231115b21c8a461d837c585c95b10dfe': running (progress N/A)\n",
      "0:32:09 Job 'j-231115b21c8a461d837c585c95b10dfe': running (progress N/A)\n",
      "0:33:10 Job 'j-231115b21c8a461d837c585c95b10dfe': running (progress N/A)\n",
      "0:34:11 Job 'j-231115b21c8a461d837c585c95b10dfe': running (progress N/A)\n",
      "0:35:12 Job 'j-231115b21c8a461d837c585c95b10dfe': running (progress N/A)\n",
      "0:36:12 Job 'j-231115b21c8a461d837c585c95b10dfe': running (progress N/A)\n",
      "0:37:12 Job 'j-231115b21c8a461d837c585c95b10dfe': running (progress N/A)\n",
      "0:38:12 Job 'j-231115b21c8a461d837c585c95b10dfe': running (progress N/A)\n",
      "0:39:13 Job 'j-231115b21c8a461d837c585c95b10dfe': running (progress N/A)\n",
      "0:40:14 Job 'j-231115b21c8a461d837c585c95b10dfe': running (progress N/A)\n",
      "0:41:14 Job 'j-231115b21c8a461d837c585c95b10dfe': running (progress N/A)\n",
      "0:42:15 Job 'j-231115b21c8a461d837c585c95b10dfe': running (progress N/A)\n",
      "0:43:15 Job 'j-231115b21c8a461d837c585c95b10dfe': running (progress N/A)\n",
      "0:44:15 Job 'j-231115b21c8a461d837c585c95b10dfe': running (progress N/A)\n",
      "0:45:16 Job 'j-231115b21c8a461d837c585c95b10dfe': running (progress N/A)\n",
      "0:46:16 Job 'j-231115b21c8a461d837c585c95b10dfe': running (progress N/A)\n",
      "0:47:17 Job 'j-231115b21c8a461d837c585c95b10dfe': running (progress N/A)\n",
      "0:48:17 Job 'j-231115b21c8a461d837c585c95b10dfe': running (progress N/A)\n",
      "0:49:18 Job 'j-231115b21c8a461d837c585c95b10dfe': running (progress N/A)\n",
      "0:50:18 Job 'j-231115b21c8a461d837c585c95b10dfe': running (progress N/A)\n",
      "0:51:18 Job 'j-231115b21c8a461d837c585c95b10dfe': running (progress N/A)\n",
      "0:52:19 Job 'j-231115b21c8a461d837c585c95b10dfe': running (progress N/A)\n",
      "0:53:19 Job 'j-231115b21c8a461d837c585c95b10dfe': running (progress N/A)\n",
      "0:54:20 Job 'j-231115b21c8a461d837c585c95b10dfe': running (progress N/A)\n",
      "0:55:20 Job 'j-231115b21c8a461d837c585c95b10dfe': running (progress N/A)\n",
      "0:56:21 Job 'j-231115b21c8a461d837c585c95b10dfe': running (progress N/A)\n",
      "0:57:21 Job 'j-231115b21c8a461d837c585c95b10dfe': running (progress N/A)\n",
      "0:58:21 Job 'j-231115b21c8a461d837c585c95b10dfe': running (progress N/A)\n",
      "0:59:22 Job 'j-231115b21c8a461d837c585c95b10dfe': running (progress N/A)\n",
      "1:00:23 Job 'j-231115b21c8a461d837c585c95b10dfe': running (progress N/A)\n",
      "1:01:23 Job 'j-231115b21c8a461d837c585c95b10dfe': running (progress N/A)\n",
      "1:02:24 Job 'j-231115b21c8a461d837c585c95b10dfe': running (progress N/A)\n",
      "1:03:24 Job 'j-231115b21c8a461d837c585c95b10dfe': running (progress N/A)\n",
      "1:04:25 Job 'j-231115b21c8a461d837c585c95b10dfe': running (progress N/A)\n",
      "1:05:27 Job 'j-231115b21c8a461d837c585c95b10dfe': running (progress N/A)\n",
      "1:06:28 Job 'j-231115b21c8a461d837c585c95b10dfe': running (progress N/A)\n",
      "1:07:29 Job 'j-231115b21c8a461d837c585c95b10dfe': running (progress N/A)\n",
      "1:08:29 Job 'j-231115b21c8a461d837c585c95b10dfe': running (progress N/A)\n",
      "1:09:30 Job 'j-231115b21c8a461d837c585c95b10dfe': running (progress N/A)\n",
      "1:10:30 Job 'j-231115b21c8a461d837c585c95b10dfe': running (progress N/A)\n",
      "1:11:31 Job 'j-231115b21c8a461d837c585c95b10dfe': running (progress N/A)\n",
      "1:12:31 Job 'j-231115b21c8a461d837c585c95b10dfe': running (progress N/A)\n",
      "1:13:33 Job 'j-231115b21c8a461d837c585c95b10dfe': running (progress N/A)\n",
      "1:14:33 Job 'j-231115b21c8a461d837c585c95b10dfe': running (progress N/A)\n",
      "1:15:34 Job 'j-231115b21c8a461d837c585c95b10dfe': running (progress N/A)\n",
      "1:16:35 Job 'j-231115b21c8a461d837c585c95b10dfe': running (progress N/A)\n",
      "1:17:36 Job 'j-231115b21c8a461d837c585c95b10dfe': running (progress N/A)\n",
      "1:18:37 Job 'j-231115b21c8a461d837c585c95b10dfe': running (progress N/A)\n",
      "1:19:37 Job 'j-231115b21c8a461d837c585c95b10dfe': running (progress N/A)\n",
      "1:20:38 Job 'j-231115b21c8a461d837c585c95b10dfe': running (progress N/A)\n",
      "1:21:38 Job 'j-231115b21c8a461d837c585c95b10dfe': running (progress N/A)\n",
      "1:22:39 Job 'j-231115b21c8a461d837c585c95b10dfe': running (progress N/A)\n",
      "1:23:40 Job 'j-231115b21c8a461d837c585c95b10dfe': running (progress N/A)\n",
      "1:24:40 Job 'j-231115b21c8a461d837c585c95b10dfe': finished (progress N/A)\n",
      "('Connection aborted.', ConnectionResetError(10054, 'An existing connection was forcibly closed by the remote host', None, 10054, None))\n"
     ]
    }
   ],
   "source": [
    "print(f'**** processing AOI')\n",
    "# that is the master feature cube attempt which is currently failing\n",
    "feature_cube = generate_master_feature_cube(connection,\n",
    "                                            AOI,\n",
    "                                            start,\n",
    "                                            end,\n",
    "                                            **collection_options,\n",
    "                                            **processing_options)\n",
    "\n",
    "# run it\n",
    "try:\n",
    "    job = feature_cube.execute_batch(title=f'master feature generation for AOI - test {str(test_num)}',\n",
    "                                  description='Generation of features via OpenEO',\n",
    "                                  out_format='GTiff',\n",
    "                                  job_options=job_options)\n",
    "\n",
    "    # Get the results and save to output file\n",
    "    results = job.get_results()\n",
    "\n",
    "    outputfile = os.path.join(out_root, f'master_features_cube_openeo_AOI_test-v{str(test_num)}.tif')\n",
    "    results.download_file(outputfile)\n",
    "    # get metadata and job info\n",
    "    with open(outputfile.replace('.tif','.json'), \"w\") as outfile:\n",
    "        json.dump(results.get_metadata(),outfile)\n",
    "    with open(outputfile.replace('.tif','-job.json'), \"w\") as outfile:\n",
    "        json.dump(job.describe_job(),outfile)\n",
    "\n",
    "except Exception as e:\n",
    "    print(e)"
   ]
  },
  {
   "cell_type": "code",
   "execution_count": null,
   "id": "023c8878",
   "metadata": {},
   "outputs": [],
   "source": [
    "# load data and check the last processed file\n",
    "import xarray\n",
    "ts = xarray.load_dataset(outputfile)\n",
    "ts"
   ]
  }
 ],
 "metadata": {
  "kernelspec": {
   "display_name": "weed",
   "language": "python",
   "name": "weed"
  },
  "language_info": {
   "codemirror_mode": {
    "name": "ipython",
    "version": 3
   },
   "file_extension": ".py",
   "mimetype": "text/x-python",
   "name": "python",
   "nbconvert_exporter": "python",
   "pygments_lexer": "ipython3",
   "version": "3.12.5"
  }
 },
 "nbformat": 4,
 "nbformat_minor": 5
}
