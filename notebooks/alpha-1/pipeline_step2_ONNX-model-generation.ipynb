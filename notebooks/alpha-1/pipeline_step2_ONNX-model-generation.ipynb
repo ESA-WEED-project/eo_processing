{
 "cells": [
  {
   "metadata": {},
   "cell_type": "markdown",
   "source": [
    "# pipeline to train CatBoost classification models for usage in openEO inference pipelines\n",
    "This pipeline consist of two steps. <br> <br>\n",
    "First, the CatBoost model training in an offline pipeline documented here: https://confluence.vito.be/x/LhN1Ew <br>\n",
    "This approach contains training data preparation for the hierarchical classification in which models for level 1 -3 of the EUNIS2012 topology are created. For each model a best feature selection and training data outlier detection is carried out before the 5-folded cross-validated model training is done. <br> <br>\n",
    "Second, the models are transferred into the ONNX file format and saved on the CreoDIAS S3 storage for usage in the openEO inference pipelines. Important: in the metadata of each hierarchical ONNX model the selected feature bands for the model, the band encoder and additional information is saved."
   ],
   "id": "ff5f6c577488ece8"
  },
  {
   "metadata": {},
   "cell_type": "markdown",
   "source": [
    "### Catboost models\n",
    "The offline generated CatBoost models are saved in the following location: \\\\netapp03.vgt.vito.be\\habitat\\slovakia\\openEO_tests\\alpha-1\\2_model_training <br>\n",
    "The models_v1.json provides an overview of the generated models and the storage locations."
   ],
   "id": "51cf9b576bf66d8c"
  },
  {
   "metadata": {},
   "cell_type": "code",
   "outputs": [],
   "execution_count": null,
   "source": [
    "# get path to model overview\n",
    "model_overview = os.path.normpath(r'\\\\netapp03.vgt.vito.be\\habitat\\slovakia\\openEO_tests\\alpha-1\\2_model_training\\models_v1.json')"
   ],
   "id": "894b25baef5cdc14"
  },
  {
   "metadata": {},
   "cell_type": "code",
   "outputs": [],
   "execution_count": null,
   "source": "# each model consists of CBM file for the CatBoost model, an encoder file holding the raster value to clear text name and the selected features (predictors)",
   "id": "28cdeae4d6f1fb77"
  },
  {
   "metadata": {},
   "cell_type": "markdown",
   "source": "### ONNX model generation incl metadata",
   "id": "b8884231cb2ada04"
  },
  {
   "metadata": {},
   "cell_type": "code",
   "outputs": [],
   "execution_count": null,
   "source": "# filled by Hans",
   "id": "f9945497b2292430"
  },
  {
   "metadata": {},
   "cell_type": "markdown",
   "source": "### transfer of ONNX model to S3 storage",
   "id": "e815ea7facbec5bc"
  },
  {
   "metadata": {},
   "cell_type": "code",
   "outputs": [],
   "execution_count": null,
   "source": "# filled by Hans",
   "id": "7b11d742522630f9"
  }
 ],
 "metadata": {
  "kernelspec": {
   "display_name": "Python 3",
   "language": "python",
   "name": "python3"
  },
  "language_info": {
   "codemirror_mode": {
    "name": "ipython",
    "version": 2
   },
   "file_extension": ".py",
   "mimetype": "text/x-python",
   "name": "python",
   "nbconvert_exporter": "python",
   "pygments_lexer": "ipython2",
   "version": "2.7.6"
  }
 },
 "nbformat": 4,
 "nbformat_minor": 5
}
