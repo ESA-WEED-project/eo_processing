{
 "cells": [
  {
   "metadata": {},
   "cell_type": "markdown",
   "source": [
    "# example how to extract the WERN features and Copernicus DEM height for reference point collections in openEO\n",
    "In this example we look on each step to generate a ML usable training dataset from given reference points."
   ],
   "id": "d9e1b899b3dafa26"
  },
  {
   "metadata": {
    "ExecuteTime": {
     "end_time": "2024-11-08T08:49:17.892011Z",
     "start_time": "2024-11-08T08:49:15.177598Z"
    }
   },
   "cell_type": "code",
   "source": [
    "from eo_processing.utils.geoprocessing import get_point_info\n",
    "from eo_processing.utils.mgrs import gridID_2_epsg\n",
    "import pandas as pd\n",
    "import geopandas as gpd\n",
    "from shapely.geometry import Point\n",
    "import os\n",
    "import geojson\n",
    "import openeo\n",
    "from openeo.extra.job_management import MultiBackendJobManager\n",
    "from eo_processing.utils.helper import init_connection"
   ],
   "id": "d0f9465a8096acf5",
   "outputs": [],
   "execution_count": 1
  },
  {
   "metadata": {},
   "cell_type": "markdown",
   "source": [
    "### loading of the reference points CSV file as PANDAS dataframe\n",
    "Note: this part has to be later adapted to be more adaptive to different input sources (GeoJSON, parquet files, STAC catalog, ...)"
   ],
   "id": "941c8da1034b636f"
  },
  {
   "metadata": {
    "ExecuteTime": {
     "end_time": "2024-11-08T08:49:20.480690Z",
     "start_time": "2024-11-08T08:49:20.423498Z"
    }
   },
   "cell_type": "code",
   "source": [
    "# Load the CSV file into a pandas dataframe\n",
    "path_td = os.path.normpath(r'C:\\Users\\BUCHHORM\\Downloads\\SK_v5_reference-points_EUNIS2012_fixed.csv')\n",
    "df = pd.read_csv(path_td)"
   ],
   "id": "551d9397ee97130d",
   "outputs": [],
   "execution_count": 2
  },
  {
   "metadata": {},
   "cell_type": "markdown",
   "source": [
    "### adding 10m GeoLocation identifier & cell center coordinates plus additional columns/checks\n",
    "It is crucial that the reference data is in EPSG:4326 - identify the correct columns OR warp coordinates of other EPSG to EPSG:4326.\n",
    "The MGRSid10 is a unique GeoLocation identifier at 10m spatial resolution in the UTM grid - this allows that reference point labels can be assigned always to the correct EO/non-EO extracted features. The MGRSid10 has 13-digits and specify the lower left corner of the 10x10 m pixel in the MGRS notation. The center_lon/lat represents the center coordinate of the corresponding 10x10m pixel in the UTM grid (10m square covered by the MGRSid10). <br>\n",
    "The grid20id shows in which 20x20km processing tile the corresponding reference point falls - that allows the pre-grouping of the reference points for efficient processing."
   ],
   "id": "6f0d5f82e563e527"
  },
  {
   "metadata": {
    "ExecuteTime": {
     "end_time": "2024-11-08T08:54:11.418630Z",
     "start_time": "2024-11-08T08:49:22.804261Z"
    }
   },
   "cell_type": "code",
   "source": [
    "# first we add the unique MGRSid10 identifier and the corresponding center coordinates in EPSG:4326 for the 10m patch\n",
    "df[['MGRSid10', 'center_lon', 'center_lat', 'grid20id']] = df.apply(lambda row: get_point_info(row['lon'], row['lat']), axis=1, result_type='expand')"
   ],
   "id": "64cf04ad6c619bd6",
   "outputs": [],
   "execution_count": 3
  },
  {
   "metadata": {
    "ExecuteTime": {
     "end_time": "2024-11-08T08:54:11.437848Z",
     "start_time": "2024-11-08T08:54:11.425131Z"
    }
   },
   "cell_type": "code",
   "source": [
    "# remove non-needed columns when exist\n",
    "columns_to_remove = ['fid', 'entry', 'x', 'y']\n",
    "df.drop(columns=[col for col in columns_to_remove if col in df.columns], inplace=True)"
   ],
   "id": "c6d96a707b3a9f12",
   "outputs": [],
   "execution_count": 4
  },
  {
   "metadata": {
    "ExecuteTime": {
     "end_time": "2024-11-08T08:54:11.498669Z",
     "start_time": "2024-11-08T08:54:11.469422Z"
    }
   },
   "cell_type": "code",
   "source": [
    "# Check and remove duplicate entries in the 'MGRSid10' column\n",
    "if df['MGRSid10'].duplicated().any():\n",
    "    duplicates = df[df['MGRSid10'].duplicated(keep=False)]\n",
    "    print(\"Duplicate entries found in MGRSid10:\")\n",
    "    print(duplicates[['MGRSid10', 'lon', 'lat', 'center_lon', 'center_lat']])\n",
    "    # Remove all entries with duplicate MGRSid10\n",
    "    df = df[~df['MGRSid10'].duplicated(keep=False)]\n",
    "    print(\"Duplicates have been removed.\")\n",
    "else:\n",
    "    print(\"No duplicate entries in MGRSid10\")"
   ],
   "id": "7a9a678567192de",
   "outputs": [
    {
     "name": "stdout",
     "output_type": "stream",
     "text": [
      "Duplicate entries found in MGRSid10:\n",
      "            MGRSid10        lon        lat  center_lon  center_lat\n",
      "324    34UCU58116788  19.081292  48.448086   19.081224   48.448101\n",
      "325    34UCU58136787  19.081471  48.448019   19.081498   48.448016\n",
      "326    34UCU58126789  19.081411  48.448215   19.081356   48.448193\n",
      "327    34UCU58116784  19.081256  48.447704   19.081238   48.447741\n",
      "328    34UCU58126789  19.081406  48.448226   19.081356   48.448193\n",
      "...              ...        ...        ...         ...         ...\n",
      "44731  33TXP78931371  17.396612  47.951694   17.396573   47.951731\n",
      "44732  33TXP78941369  17.396760  47.951573   17.396699   47.951548\n",
      "44733  33TXP78941369  17.396698  47.951554   17.396699   47.951548\n",
      "44734  33TXP78891371  17.396035  47.951783   17.396038   47.951742\n",
      "44735  33TXP78941369  17.396732  47.951563   17.396699   47.951548\n",
      "\n",
      "[125 rows x 5 columns]\n",
      "Duplicates have been removed.\n"
     ]
    }
   ],
   "execution_count": 5
  },
  {
   "metadata": {
    "ExecuteTime": {
     "end_time": "2024-11-08T08:54:11.516203Z",
     "start_time": "2024-11-08T08:54:11.505681Z"
    }
   },
   "cell_type": "code",
   "source": [
    "# reorder the columns just for better reading\n",
    "cols = df.columns.tolist()\n",
    "new_order = ['MGRSid10', 'center_lon', 'center_lat', 'lon', 'lat', 'grid20id']\n",
    "remaining_cols = [col for col in cols if col not in new_order]\n",
    "df = df[new_order + remaining_cols]"
   ],
   "id": "71fe47e200d32054",
   "outputs": [],
   "execution_count": 6
  },
  {
   "metadata": {},
   "cell_type": "markdown",
   "source": "### convert the DataFrame into a GeoPandas DataFrame with center point geometry",
   "id": "39c1afdffa44274b"
  },
  {
   "metadata": {
    "ExecuteTime": {
     "end_time": "2024-11-08T08:54:11.983924Z",
     "start_time": "2024-11-08T08:54:11.531968Z"
    }
   },
   "cell_type": "code",
   "source": [
    "geometry = [Point(xy) for xy in zip(df.center_lon, df.center_lat)]\n",
    "geo_df = gpd.GeoDataFrame(df, geometry=geometry)\n",
    "geo_df = geo_df.set_crs('epsg:4326')\n",
    "print(f'Number of reference points: {len(geo_df)}')"
   ],
   "id": "a396d81cd3e126cb",
   "outputs": [
    {
     "name": "stdout",
     "output_type": "stream",
     "text": [
      "Number of reference points: 45124\n"
     ]
    }
   ],
   "execution_count": 7
  },
  {
   "metadata": {
    "ExecuteTime": {
     "end_time": "2024-11-08T08:54:14.126105Z",
     "start_time": "2024-11-08T08:54:12.011774Z"
    }
   },
   "cell_type": "code",
   "source": [
    "# just visualize for checks\n",
    "geo_df.geometry.plot()"
   ],
   "id": "2f5cb1f9eee2083d",
   "outputs": [
    {
     "data": {
      "text/plain": [
       "<Axes: >"
      ]
     },
     "execution_count": 8,
     "metadata": {},
     "output_type": "execute_result"
    },
    {
     "data": {
      "text/plain": [
       "<Figure size 640x480 with 1 Axes>"
      ],
      "image/png": "[encoded data removed]"
     },
     "metadata": {},
     "output_type": "display_data"
    }
   ],
   "execution_count": 8
  },
  {
   "metadata": {},
   "cell_type": "markdown",
   "source": [
    "### split the geodataframe by 20kgrid into stand-alone dataframes for job operation\n",
    "the 20kgrid represent the best size for working in openEO and is also needed to avoid openEO limitations for extraction. We use the grid20id for the grouping.\n"
   ],
   "id": "fefcd9415496ef60"
  },
  {
   "metadata": {
    "ExecuteTime": {
     "end_time": "2024-11-08T08:54:14.805432Z",
     "start_time": "2024-11-08T08:54:14.147542Z"
    }
   },
   "cell_type": "code",
   "source": [
    "split_jobs = [geo_df[geo_df['grid20id'] == tile_id] for tile_id in geo_df['grid20id'].unique()]\n",
    "print(f'Number of jobs: {len(split_jobs)}')"
   ],
   "id": "f57784bfd5aea6d3",
   "outputs": [
    {
     "name": "stdout",
     "output_type": "stream",
     "text": [
      "Number of jobs: 170\n"
     ]
    }
   ],
   "execution_count": 9
  },
  {
   "metadata": {
    "ExecuteTime": {
     "end_time": "2024-11-08T08:54:14.971538Z",
     "start_time": "2024-11-08T08:54:14.831285Z"
    }
   },
   "cell_type": "code",
   "source": [
    "# for visualization we print all the points of one of the 20x20 km tiles (openEO processing tiles identified by grid20id)\n",
    "split_jobs[100].geometry.plot()"
   ],
   "id": "5ae826c5eb36239b",
   "outputs": [
    {
     "data": {
      "text/plain": [
       "<Axes: >"
      ]
     },
     "execution_count": 10,
     "metadata": {},
     "output_type": "execute_result"
    },
    {
     "data": {
      "text/plain": [
       "<Figure size 640x480 with 1 Axes>"
      ],
      "image/png": "[encoded data removed]"
     },
     "metadata": {},
     "output_type": "display_data"
    }
   ],
   "execution_count": 10
  },
  {
   "metadata": {},
   "cell_type": "markdown",
   "source": [
    "### create the job dataframe with all info to run the openEO `MultiBackendJobManager` for the data extraction\n",
    "For each job which has to run on openEO we need an extra row in a `pandas.DataFrame` which is handling all information needed by the JobManager to execute the `start_function`. The output dataframe should be savable as a .csv file. <br> <br>\n",
    "Note: the full information of a sub-geodataframe of points/polygons can be saved into a row of a `pandas.DataFrame` by storing it in a row as string implementing the `geojson.FeatureCollection` interface. To convert the `geopandas.GeoDataFrame` into a string, simply use the `.to_json()` function.\n"
   ],
   "id": "9e52775eae941e37"
  },
  {
   "metadata": {
    "ExecuteTime": {
     "end_time": "2024-11-08T09:07:33.760055Z",
     "start_time": "2024-11-08T09:07:33.755021Z"
    }
   },
   "cell_type": "code",
   "source": [
    "def create_job_dataframe(split_jobs: list[gpd.GeoDataFrame], year: int, file_name_base: str) -> pd.DataFrame:\n",
    "    \"\"\" Create a dataframe from the pre-split GeoDataFrame, containing all the necessary information to run the job.\n",
    "    \n",
    "    :param split_jobs: List of GeoDataFrames, each containing job information such as S2 tile ID and geometries.\n",
    "    :param year: Year for which to create job entries. The start date will be January 1st of this year, and the end date will be January 1st of the following year.\n",
    "    :param file_name_base: Base file name to be used, with the S2 tile ID appended to create unique file names for each job.\n",
    "    :return: DataFrame containing job information, including the S2 tile ID, generated file name, start date, end date, and geometry as a JSON object.\n",
    "    \"\"\"\n",
    "    \n",
    "    columns = ['grid20id', 'epsg', 'file_name', 'start_date', 'end_date', 'geometry']\n",
    "    dtypes = {'grid20id': 'string', 'epsg': 'UInt16', 'file_name': 'string', 'start_date': 'string', 'end_date': 'string', 'geometry': object}\n",
    "    rows = []\n",
    "    for job in split_jobs:\n",
    "        # set master parameters\n",
    "        start_date = f'{year}-01-01'\n",
    "        end_date = f'{year+1}-01-01'\n",
    "        grid20id = job.grid20id.iloc[0]  # Job dataframes are split depending on the grid20id so we can just take the first one\n",
    "        epsg = gridID_2_epsg(grid20id)\n",
    "        file_name = f'{file_name_base}_{grid20id}.csv'\n",
    "        \n",
    "        rows.append(\n",
    "            pd.Series(\n",
    "                dict(zip(columns, [grid20id, epsg, file_name, start_date, end_date, job[['MGRSid10', 'geometry']].to_json()])),\n",
    "            )\n",
    "        )\n",
    "\n",
    "    return pd.DataFrame(rows).astype(dtypes)"
   ],
   "id": "fd49cce9ee4e33df",
   "outputs": [],
   "execution_count": 27
  },
  {
   "metadata": {
    "ExecuteTime": {
     "end_time": "2024-11-08T09:07:38.084141Z",
     "start_time": "2024-11-08T09:07:36.637737Z"
    }
   },
   "cell_type": "code",
   "source": "job_df = create_job_dataframe(split_jobs, 2021, 'SK_v5_reference-points_EUNIS2012_features')",
   "id": "e38911233ff9a4bd",
   "outputs": [],
   "execution_count": 28
  },
  {
   "metadata": {
    "ExecuteTime": {
     "end_time": "2024-11-08T09:07:44.264244Z",
     "start_time": "2024-11-08T09:07:43.496888Z"
    }
   },
   "cell_type": "code",
   "source": [
    "# add the number of points to handle in each 20x20km grid cell\n",
    "def get_point_number(row: pd.Series) -> int:\n",
    "    \"\"\"\n",
    "    :param row: A pandas Series object that contains a geometry field with a GeoJSON string.\n",
    "    :return: The number of features present in the GeoJSON geometry.\n",
    "    \"\"\"\n",
    "    return len(geojson.loads(row.geometry)['features'])\n",
    "\n",
    "job_df['n_points'] = job_df.apply(get_point_number, axis=1)"
   ],
   "id": "31cc69532c36e132",
   "outputs": [],
   "execution_count": 29
  },
  {
   "metadata": {
    "ExecuteTime": {
     "end_time": "2024-11-08T09:07:45.091580Z",
     "start_time": "2024-11-08T09:07:45.082961Z"
    }
   },
   "cell_type": "code",
   "source": "job_df.head()",
   "id": "da131774a872194f",
   "outputs": [
    {
     "data": {
      "text/plain": [
       "  grid20id   epsg                                          file_name  \\\n",
       "0  33σXP21  32633  SK_v5_reference-points_EUNIS2012_features_33σX...   \n",
       "1  33σXP22  32633  SK_v5_reference-points_EUNIS2012_features_33σX...   \n",
       "2  33σXP32  32633  SK_v5_reference-points_EUNIS2012_features_33σX...   \n",
       "3  33σXP33  32633  SK_v5_reference-points_EUNIS2012_features_33σX...   \n",
       "4  33σXQ30  32633  SK_v5_reference-points_EUNIS2012_features_33σX...   \n",
       "\n",
       "   start_date    end_date                                           geometry  \\\n",
       "0  2021-01-01  2022-01-01  {\"type\": \"FeatureCollection\", \"features\": [{\"i...   \n",
       "1  2021-01-01  2022-01-01  {\"type\": \"FeatureCollection\", \"features\": [{\"i...   \n",
       "2  2021-01-01  2022-01-01  {\"type\": \"FeatureCollection\", \"features\": [{\"i...   \n",
       "3  2021-01-01  2022-01-01  {\"type\": \"FeatureCollection\", \"features\": [{\"i...   \n",
       "4  2021-01-01  2022-01-01  {\"type\": \"FeatureCollection\", \"features\": [{\"i...   \n",
       "\n",
       "   n_points  \n",
       "0       118  \n",
       "1       323  \n",
       "2       424  \n",
       "3       375  \n",
       "4       235  "
      ],
      "text/html": [
       "<div>\n",
       "<style scoped>\n",
       "    .dataframe tbody tr th:only-of-type {\n",
       "        vertical-align: middle;\n",
       "    }\n",
       "\n",
       "    .dataframe tbody tr th {\n",
       "        vertical-align: top;\n",
       "    }\n",
       "\n",
       "    .dataframe thead th {\n",
       "        text-align: right;\n",
       "    }\n",
       "</style>\n",
       "<table border=\"1\" class=\"dataframe\">\n",
       "  <thead>\n",
       "    <tr style=\"text-align: right;\">\n",
       "      <th></th>\n",
       "      <th>grid20id</th>\n",
       "      <th>epsg</th>\n",
       "      <th>file_name</th>\n",
       "      <th>start_date</th>\n",
       "      <th>end_date</th>\n",
       "      <th>geometry</th>\n",
       "      <th>n_points</th>\n",
       "    </tr>\n",
       "  </thead>\n",
       "  <tbody>\n",
       "    <tr>\n",
       "      <th>0</th>\n",
       "      <td>33σXP21</td>\n",
       "      <td>32633</td>\n",
       "      <td>SK_v5_reference-points_EUNIS2012_features_33σX...</td>\n",
       "      <td>2021-01-01</td>\n",
       "      <td>2022-01-01</td>\n",
       "      <td>{\"type\": \"FeatureCollection\", \"features\": [{\"i...</td>\n",
       "      <td>118</td>\n",
       "    </tr>\n",
       "    <tr>\n",
       "      <th>1</th>\n",
       "      <td>33σXP22</td>\n",
       "      <td>32633</td>\n",
       "      <td>SK_v5_reference-points_EUNIS2012_features_33σX...</td>\n",
       "      <td>2021-01-01</td>\n",
       "      <td>2022-01-01</td>\n",
       "      <td>{\"type\": \"FeatureCollection\", \"features\": [{\"i...</td>\n",
       "      <td>323</td>\n",
       "    </tr>\n",
       "    <tr>\n",
       "      <th>2</th>\n",
       "      <td>33σXP32</td>\n",
       "      <td>32633</td>\n",
       "      <td>SK_v5_reference-points_EUNIS2012_features_33σX...</td>\n",
       "      <td>2021-01-01</td>\n",
       "      <td>2022-01-01</td>\n",
       "      <td>{\"type\": \"FeatureCollection\", \"features\": [{\"i...</td>\n",
       "      <td>424</td>\n",
       "    </tr>\n",
       "    <tr>\n",
       "      <th>3</th>\n",
       "      <td>33σXP33</td>\n",
       "      <td>32633</td>\n",
       "      <td>SK_v5_reference-points_EUNIS2012_features_33σX...</td>\n",
       "      <td>2021-01-01</td>\n",
       "      <td>2022-01-01</td>\n",
       "      <td>{\"type\": \"FeatureCollection\", \"features\": [{\"i...</td>\n",
       "      <td>375</td>\n",
       "    </tr>\n",
       "    <tr>\n",
       "      <th>4</th>\n",
       "      <td>33σXQ30</td>\n",
       "      <td>32633</td>\n",
       "      <td>SK_v5_reference-points_EUNIS2012_features_33σX...</td>\n",
       "      <td>2021-01-01</td>\n",
       "      <td>2022-01-01</td>\n",
       "      <td>{\"type\": \"FeatureCollection\", \"features\": [{\"i...</td>\n",
       "      <td>235</td>\n",
       "    </tr>\n",
       "  </tbody>\n",
       "</table>\n",
       "</div>"
      ]
     },
     "execution_count": 30,
     "metadata": {},
     "output_type": "execute_result"
    }
   ],
   "execution_count": 30
  },
  {
   "metadata": {},
   "cell_type": "markdown",
   "source": [
    "### creating the job `start_job` function\n",
    "The next step is to define a `start_job` function. This function will instruct the `MultiBackendJobManager` on how to initiate a new job on the selected backend. The `start_job` functionality should adhere to the following structure _start_job(row: pd.Series, connection: openeo.Connection, **kwargs)_. <br> <br>\n",
    "NOTE: for simplification in this example we will only extract the DEM value from the CDSE collection and the WERN features from a external S3 based STAC catalog."
   ],
   "id": "e2f812eacd87c619"
  },
  {
   "metadata": {
    "ExecuteTime": {
     "end_time": "2024-11-08T09:08:04.483661Z",
     "start_time": "2024-11-08T09:08:04.477393Z"
    }
   },
   "cell_type": "code",
   "source": [
    "def point_extraction(row: pd.Series, connection: openeo.Connection, provider: str , **kwgs) -> openeo.BatchJob:\n",
    "    \"\"\"Start a new job using the specified row out of the jobs DataFrame and connection.\"\"\"\n",
    "    \n",
    "    # Get the variable parameters from the dataframe\n",
    "    gridID = row[\"grid20id\"]\n",
    "    start = row[\"start_date\"]\n",
    "    end = row[\"end_date\"]\n",
    "    file_name = row[\"file_name\"]\n",
    "    epsg = int(row[\"epsg\"])\n",
    "    \n",
    "    #now we have to load the point geometries for all the points to process\n",
    "    points_geometry = geojson.loads(row.geometry)\n",
    "    assert isinstance(points_geometry, geojson.FeatureCollection)\n",
    "\n",
    "    # Note: for points we do not define a spatial_extent in the collection at all AND run an aggregation_spatial with the GeoJSON FeatureCollection\n",
    "    # Note2: for polygons we do not define a spatial_extent in the collection at all and later run a cube.filter_spatial(GeoJSON)\n",
    "    \n",
    "    # load the DEM from a CDSE collection\n",
    "    DEM = connection.load_collection(\n",
    "        \"COPERNICUS_30\",\n",
    "        bands=[\"DEM\"]\n",
    "        )\n",
    "    # reduce the temporal domain since copernicus_30 collection is \"special\"\n",
    "    DEM = DEM.reduce_dimension(dimension='t', reducer=lambda x: x.last(ignore_nodata=True))\n",
    "    # resample the cube to 10m and EPSG of corresponding UTM 20x20km grid tile\n",
    "    DEM = DEM.resample_spatial(projection=epsg, resolution=10.0, method=\"bilinear\")\n",
    "    \n",
    "    # load the WREN features\n",
    "    WERN = connection.load_stac(\"https://catalogue.weed.apex.esa.int/collections/wenr_features\")    \n",
    "        \n",
    "    # merge the cubes with automatic resampling & projection of the merged in cube\n",
    "    # Note: the cube on the right side is always merged with a \"nearest filter\" if re-projection is needed --> for WERN features that is OK\n",
    "    #       if NOT, then first resample_spatial the WERN cube before doing a merge_cubes\n",
    "    WERN = WERN.resample_spatial(projection=epsg, resolution=10.0, method=\"near\")\n",
    "    datacube = DEM.merge_cubes(WERN)\n",
    "           \n",
    "    # now we reduce the space to the needed point locations    \n",
    "    datacube = datacube.aggregate_spatial(points_geometry, reducer=\"first\")\n",
    "    \n",
    "    # set the job-parameters (in the pipeline we load that automatically from the settings))\n",
    "    job_parameters = {\n",
    "        \"driver-memory\": \"2G\",\n",
    "        \"driver-memoryOverhead\": \"2G\",\n",
    "        \"driver-cores\": \"1\",\n",
    "        \"executor-cores\": \"1\",\n",
    "        \"executor-request-cores\": \"800m\",\n",
    "        \"executor-memory\": \"2500m\",\n",
    "        \"executor-memoryOverhead\": \"2500m\",\n",
    "        \"max-executors\": \"25\",\n",
    "        \"executor-threads-jvm\": \"7\",\n",
    "        \"logging-threshold\": \"info\"\n",
    "        }\n",
    "    \n",
    "    # create the job\n",
    "    job = datacube.create_job(title=os.path.splitext(file_name)[0], \n",
    "                              description=f'WERN feature extraction for reference points in tile {gridID}', \n",
    "                              out_format='Parquet', \n",
    "                              filename_prefix=os.path.splitext(file_name)[0],\n",
    "                              feature_id_property='MGRSid10',\n",
    "                              job_options=job_parameters,\n",
    "                              )\n",
    "    return job"
   ],
   "id": "a15e5b858e623f10",
   "outputs": [],
   "execution_count": 31
  },
  {
   "metadata": {},
   "cell_type": "markdown",
   "source": "### run the jobs",
   "id": "9cb1c17ec85d0589"
  },
  {
   "metadata": {
    "ExecuteTime": {
     "end_time": "2024-11-08T09:08:08.940658Z",
     "start_time": "2024-11-08T09:08:08.893940Z"
    }
   },
   "cell_type": "code",
   "source": [
    "# define the output folder (make sure you adapt this to your folder structure)\n",
    "test_num = 6\n",
    "out_root = os.path.normpath(r'\\\\netapp03.vgt.vito.be\\people_vol1\\tests\\openeo\\point_extraction')\n",
    "out_root = os.path.join(out_root, f'test_v{str(test_num)}')\n",
    "os.makedirs(out_root, exist_ok=True)"
   ],
   "id": "8646efc2f6a110f7",
   "outputs": [],
   "execution_count": 32
  },
  {
   "metadata": {
    "ExecuteTime": {
     "end_time": "2024-11-08T09:08:09.891014Z",
     "start_time": "2024-11-08T09:08:09.887042Z"
    }
   },
   "cell_type": "code",
   "source": [
    "# generate a unique name for the job tracker database (here: CSV file)\n",
    "job_tracker = os.path.normpath(os.path.join(out_root, f'job_tracker_point-extraction_v{str(test_num)}.csv'))"
   ],
   "id": "98b7e4a752aec090",
   "outputs": [],
   "execution_count": 33
  },
  {
   "metadata": {
    "ExecuteTime": {
     "end_time": "2024-11-08T10:05:01.902561Z",
     "start_time": "2024-11-08T10:05:01.892475Z"
    }
   },
   "cell_type": "code",
   "source": [
    "## since I have unicode issues with the grid20id in the metadata dump after a successful job, we test here now a CustomJobManager\n",
    "# This part can be removed as soon openeo0.35.0 version is out\n",
    "from openeo import BatchJob\n",
    "import json\n",
    "class CustomJobManager(MultiBackendJobManager):\n",
    "    def on_job_done(self, job: BatchJob, row):\n",
    "        \"\"\"\n",
    "        Handles jobs that have finished. Can be overridden to provide custom behaviour.\n",
    "\n",
    "        Default implementation downloads the results into a folder containing the title.\n",
    "\n",
    "        :param job: The job that has finished.\n",
    "        :param row: DataFrame row containing the job's metadata.\n",
    "        \"\"\"\n",
    "        # TODO: param `row` is never accessed in this method. Remove it? Is this intended for future use?\n",
    "\n",
    "        job_metadata = job.describe()\n",
    "        job_dir = self.get_job_dir(job.job_id)\n",
    "        metadata_path = self.get_job_metadata_path(job.job_id)\n",
    "\n",
    "        self.ensure_job_dir_exists(job.job_id)\n",
    "        job.get_results().download_files(target=job_dir)\n",
    "\n",
    "        with open(metadata_path, \"w\", encoding='utf8') as f:\n",
    "            json.dump(job_metadata, f, ensure_ascii=False)\n",
    "\n"
   ],
   "id": "4034e596708b7f53",
   "outputs": [],
   "execution_count": 37
  },
  {
   "metadata": {
    "ExecuteTime": {
     "end_time": "2024-11-08T10:05:13.532398Z",
     "start_time": "2024-11-08T10:05:13.529037Z"
    }
   },
   "cell_type": "code",
   "source": [
    "# init of MultiBackendJobManager\n",
    "#manager = MultiBackendJobManager(root_dir=os.path.normpath(out_root), poll_sleep=15)\n",
    "manager = CustomJobManager(root_dir=os.path.normpath(out_root), poll_sleep=15)"
   ],
   "id": "bfc11ec6c329d957",
   "outputs": [],
   "execution_count": 38
  },
  {
   "metadata": {
    "ExecuteTime": {
     "end_time": "2024-11-08T10:05:20.110868Z",
     "start_time": "2024-11-08T10:05:19.324414Z"
    }
   },
   "cell_type": "code",
   "source": [
    "# create a connection to backend and add this active backend to the jobmanager\n",
    "backend = 'cdse'  # also possible: cdse-staging, terrascope, development, creodias, sentinelhub\n",
    "connection = init_connection(backend)\n",
    "manager.add_backend(backend, connection=connection, parallel_jobs=6)"
   ],
   "id": "f6552a98a871829d",
   "outputs": [
    {
     "name": "stdout",
     "output_type": "stream",
     "text": [
      "Authenticated using refresh token.\n"
     ]
    }
   ],
   "execution_count": 39
  },
  {
   "metadata": {
    "ExecuteTime": {
     "end_time": "2024-11-08T11:17:41.227860Z",
     "start_time": "2024-11-08T11:15:11.340526Z"
    }
   },
   "cell_type": "code",
   "source": [
    "# run the jobs stand-alone which blocks further usage of the Notebook up to all jobs are done\n",
    "manager.run_jobs(df=job_df, start_job=point_extraction, job_db=job_tracker)"
   ],
   "id": "24835775c16056c5",
   "outputs": [
    {
     "data": {
      "text/plain": [
       "defaultdict(int,\n",
       "            {'job_db persist': 9,\n",
       "             'track_statuses': 8,\n",
       "             'job_db get_by_status': 1,\n",
       "             'start_job call': 1,\n",
       "             'job get status': 2,\n",
       "             'job start': 1,\n",
       "             'job launch': 1,\n",
       "             'run_jobs loop': 8,\n",
       "             'sleep': 8,\n",
       "             'job describe': 7,\n",
       "             'job started running': 1,\n",
       "             'job finished': 1})"
      ]
     },
     "execution_count": 44,
     "metadata": {},
     "output_type": "execute_result"
    }
   ],
   "execution_count": 44
  },
  {
   "metadata": {
    "ExecuteTime": {
     "end_time": "2024-11-08T11:20:05.713328Z",
     "start_time": "2024-11-08T11:19:22.585780Z"
    }
   },
   "cell_type": "code",
   "source": [
    "# add the costs to the tracker file\n",
    "def add_cost_to_csv(\n",
    "    connection: openeo.Connection,\n",
    "    file_path: str,\n",
    "):\n",
    "    df = gpd.read_file(file_path)\n",
    "    for i, row in df.iterrows():\n",
    "        job = connection.job(row[\"id\"])\n",
    "        try:\n",
    "            cost = job.describe_job()[\"costs\"]\n",
    "        except KeyError:\n",
    "            cost = None\n",
    "        df.loc[i, \"cost\"] = cost\n",
    "    df.to_csv(file_path)\n",
    "\n",
    "add_cost_to_csv(connection, job_tracker)"
   ],
   "id": "5474311932d183da",
   "outputs": [],
   "execution_count": 45
  },
  {
   "metadata": {},
   "cell_type": "markdown",
   "source": [
    "### combine the single results into one training data file\n",
    "First load all the single parquet files of the jobs into `pandas.DataFrame` and combine."
   ],
   "id": "4374bd0b5e948069"
  },
  {
   "metadata": {
    "ExecuteTime": {
     "end_time": "2024-11-08T11:20:17.720329Z",
     "start_time": "2024-11-08T11:20:17.629818Z"
    }
   },
   "cell_type": "code",
   "source": [
    "# load the job_tracker file into a pandas DataFrame\n",
    "df_tracker = pd.read_csv(job_tracker)"
   ],
   "id": "2cc53dfec84bc35",
   "outputs": [],
   "execution_count": 46
  },
  {
   "metadata": {
    "ExecuteTime": {
     "end_time": "2024-11-08T11:20:20.562916Z",
     "start_time": "2024-11-08T11:20:20.558884Z"
    }
   },
   "cell_type": "code",
   "source": [
    "# Check if all values in column \"status\" have the value \"finished\"\n",
    "all_finished = df_tracker['status'].eq('finished').all()\n",
    "if all_finished:\n",
    "    print(\"All jobs are finished.\")\n",
    "else:\n",
    "    print(\"Some jobs are not finished. Reset the non finished status rows to 'not_started' flag and restart the manager.run_jobs() line manually.\")"
   ],
   "id": "aea894070743dfd5",
   "outputs": [
    {
     "name": "stdout",
     "output_type": "stream",
     "text": [
      "All jobs are finished.\n"
     ]
    }
   ],
   "execution_count": 47
  },
  {
   "metadata": {
    "ExecuteTime": {
     "end_time": "2024-11-08T11:20:23.289747Z",
     "start_time": "2024-11-08T11:20:23.285251Z"
    }
   },
   "cell_type": "code",
   "source": [
    "# print the costs of the full job\n",
    "print(f'The feature extraction for {df_tracker.n_points.sum()} reference points has cost overall {df_tracker.cost.sum()} credits ({df_tracker.cost.sum() * 0.01} EURO). ')"
   ],
   "id": "4567ac1bc4fbf183",
   "outputs": [
    {
     "name": "stdout",
     "output_type": "stream",
     "text": [
      "The feature extraction for 45124 reference points has cost overall 680.0 credits (6.8 EURO). \n"
     ]
    }
   ],
   "execution_count": 48
  },
  {
   "metadata": {
    "ExecuteTime": {
     "end_time": "2024-11-08T11:33:39.235906Z",
     "start_time": "2024-11-08T11:33:39.229692Z"
    }
   },
   "cell_type": "code",
   "source": [
    "# get the list of links to the job parquet files\n",
    "df_tracker['path_result'] = df_tracker['id'].apply(lambda x: os.path.normpath(os.path.join(out_root, f'job_{x}', 'timeseries.parquet')))\n",
    "path_Results = df_tracker['path_result'].tolist()"
   ],
   "id": "2300d01da30060fd",
   "outputs": [],
   "execution_count": 49
  },
  {
   "metadata": {
    "ExecuteTime": {
     "end_time": "2024-11-08T11:34:02.688014Z",
     "start_time": "2024-11-08T11:33:44.162777Z"
    }
   },
   "cell_type": "code",
   "source": [
    "# read parquet files and combine\n",
    "combined_df = pd.concat([pd.read_parquet(p) for p in path_Results], ignore_index=True)"
   ],
   "id": "ea17ce708341d1dd",
   "outputs": [],
   "execution_count": 50
  },
  {
   "metadata": {
    "ExecuteTime": {
     "end_time": "2024-11-08T11:34:05.318028Z",
     "start_time": "2024-11-08T11:34:05.312856Z"
    }
   },
   "cell_type": "code",
   "source": [
    "# get a list of extracted feature names\n",
    "feature_names = [x for x in combined_df.columns.tolist() if x not in geo_df.columns.tolist()]\n",
    "# remove some openEO generated columns\n",
    "feature_names = [x for x in feature_names if x not in [\"date\", \"feature_index\"]]"
   ],
   "id": "8a586faf1e171dfa",
   "outputs": [],
   "execution_count": 51
  },
  {
   "metadata": {
    "ExecuteTime": {
     "end_time": "2024-11-08T11:35:03.666369Z",
     "start_time": "2024-11-08T11:35:03.661709Z"
    }
   },
   "cell_type": "code",
   "source": [
    "# run a check before merging row of results == row of input\n",
    "assert len(combined_df) == len(geo_df)"
   ],
   "id": "70f1aa64fdeac168",
   "outputs": [],
   "execution_count": 53
  },
  {
   "metadata": {
    "ExecuteTime": {
     "end_time": "2024-11-08T11:35:07.301574Z",
     "start_time": "2024-11-08T11:35:07.211263Z"
    }
   },
   "cell_type": "code",
   "source": [
    "# merge in results\n",
    "combined_df = combined_df.set_index('MGRSid10')\n",
    "geo_df = geo_df.set_index('MGRSid10')\n",
    "result_df = geo_df.join(combined_df[feature_names], how='left').reset_index()"
   ],
   "id": "9fb79f2d92c533e7",
   "outputs": [],
   "execution_count": 54
  },
  {
   "metadata": {
    "ExecuteTime": {
     "end_time": "2024-11-08T11:35:09.137066Z",
     "start_time": "2024-11-08T11:35:09.120059Z"
    }
   },
   "cell_type": "code",
   "source": "result_df.head()",
   "id": "8ee22dcb87e2639c",
   "outputs": [
    {
     "data": {
      "text/plain": [
       "        MGRSid10  center_lon  center_lat        lon        lat grid20id  \\\n",
       "0  33UXP57473908   17.118710   48.185468  17.118680  48.185489  33σXP21   \n",
       "1  33UXP59864327   17.152421   48.222541  17.152425  48.222568  33σXP22   \n",
       "2  33UXP63034439   17.195500   48.231803  17.195542  48.231791  33σXP32   \n",
       "3  33UXP62884673   17.194382   48.252879  17.194425  48.252869  33σXP32   \n",
       "4  33UXP63564713   17.203691   48.256300  17.203641  48.256284  33σXP32   \n",
       "\n",
       "   valid_L1  valid_L2  valid_L3 label_L1  ...     dist occur    pop   bdod  \\\n",
       "0      True      True      True        C  ...   6295.0   0.0  149.0  131.0   \n",
       "1      True      True      True        C  ...   9223.0   0.0  407.0  132.0   \n",
       "2      True      True      True        C  ...   9172.0   0.0   65.0  136.0   \n",
       "3      True      True      True        C  ...  11402.0   0.0   74.0  133.0   \n",
       "4      True      True      True        C  ...  11718.0   0.0  606.0  133.0   \n",
       "\n",
       "     cec   cfvo   clay  phh2o   sand    soc  \n",
       "0  200.0  138.0  271.0   63.0  307.0  243.0  \n",
       "1  210.0  136.0  254.0   62.0  325.0  222.0  \n",
       "2  186.0  103.0  255.0   66.0  278.0  192.0  \n",
       "3  172.0  167.0  236.0   60.0  298.0  204.0  \n",
       "4  200.0  148.0  259.0   63.0  301.0  209.0  \n",
       "\n",
       "[5 rows x 29 columns]"
      ],
      "text/html": [
       "<div>\n",
       "<style scoped>\n",
       "    .dataframe tbody tr th:only-of-type {\n",
       "        vertical-align: middle;\n",
       "    }\n",
       "\n",
       "    .dataframe tbody tr th {\n",
       "        vertical-align: top;\n",
       "    }\n",
       "\n",
       "    .dataframe thead th {\n",
       "        text-align: right;\n",
       "    }\n",
       "</style>\n",
       "<table border=\"1\" class=\"dataframe\">\n",
       "  <thead>\n",
       "    <tr style=\"text-align: right;\">\n",
       "      <th></th>\n",
       "      <th>MGRSid10</th>\n",
       "      <th>center_lon</th>\n",
       "      <th>center_lat</th>\n",
       "      <th>lon</th>\n",
       "      <th>lat</th>\n",
       "      <th>grid20id</th>\n",
       "      <th>valid_L1</th>\n",
       "      <th>valid_L2</th>\n",
       "      <th>valid_L3</th>\n",
       "      <th>label_L1</th>\n",
       "      <th>...</th>\n",
       "      <th>dist</th>\n",
       "      <th>occur</th>\n",
       "      <th>pop</th>\n",
       "      <th>bdod</th>\n",
       "      <th>cec</th>\n",
       "      <th>cfvo</th>\n",
       "      <th>clay</th>\n",
       "      <th>phh2o</th>\n",
       "      <th>sand</th>\n",
       "      <th>soc</th>\n",
       "    </tr>\n",
       "  </thead>\n",
       "  <tbody>\n",
       "    <tr>\n",
       "      <th>0</th>\n",
       "      <td>33UXP57473908</td>\n",
       "      <td>17.118710</td>\n",
       "      <td>48.185468</td>\n",
       "      <td>17.118680</td>\n",
       "      <td>48.185489</td>\n",
       "      <td>33σXP21</td>\n",
       "      <td>True</td>\n",
       "      <td>True</td>\n",
       "      <td>True</td>\n",
       "      <td>C</td>\n",
       "      <td>...</td>\n",
       "      <td>6295.0</td>\n",
       "      <td>0.0</td>\n",
       "      <td>149.0</td>\n",
       "      <td>131.0</td>\n",
       "      <td>200.0</td>\n",
       "      <td>138.0</td>\n",
       "      <td>271.0</td>\n",
       "      <td>63.0</td>\n",
       "      <td>307.0</td>\n",
       "      <td>243.0</td>\n",
       "    </tr>\n",
       "    <tr>\n",
       "      <th>1</th>\n",
       "      <td>33UXP59864327</td>\n",
       "      <td>17.152421</td>\n",
       "      <td>48.222541</td>\n",
       "      <td>17.152425</td>\n",
       "      <td>48.222568</td>\n",
       "      <td>33σXP22</td>\n",
       "      <td>True</td>\n",
       "      <td>True</td>\n",
       "      <td>True</td>\n",
       "      <td>C</td>\n",
       "      <td>...</td>\n",
       "      <td>9223.0</td>\n",
       "      <td>0.0</td>\n",
       "      <td>407.0</td>\n",
       "      <td>132.0</td>\n",
       "      <td>210.0</td>\n",
       "      <td>136.0</td>\n",
       "      <td>254.0</td>\n",
       "      <td>62.0</td>\n",
       "      <td>325.0</td>\n",
       "      <td>222.0</td>\n",
       "    </tr>\n",
       "    <tr>\n",
       "      <th>2</th>\n",
       "      <td>33UXP63034439</td>\n",
       "      <td>17.195500</td>\n",
       "      <td>48.231803</td>\n",
       "      <td>17.195542</td>\n",
       "      <td>48.231791</td>\n",
       "      <td>33σXP32</td>\n",
       "      <td>True</td>\n",
       "      <td>True</td>\n",
       "      <td>True</td>\n",
       "      <td>C</td>\n",
       "      <td>...</td>\n",
       "      <td>9172.0</td>\n",
       "      <td>0.0</td>\n",
       "      <td>65.0</td>\n",
       "      <td>136.0</td>\n",
       "      <td>186.0</td>\n",
       "      <td>103.0</td>\n",
       "      <td>255.0</td>\n",
       "      <td>66.0</td>\n",
       "      <td>278.0</td>\n",
       "      <td>192.0</td>\n",
       "    </tr>\n",
       "    <tr>\n",
       "      <th>3</th>\n",
       "      <td>33UXP62884673</td>\n",
       "      <td>17.194382</td>\n",
       "      <td>48.252879</td>\n",
       "      <td>17.194425</td>\n",
       "      <td>48.252869</td>\n",
       "      <td>33σXP32</td>\n",
       "      <td>True</td>\n",
       "      <td>True</td>\n",
       "      <td>True</td>\n",
       "      <td>C</td>\n",
       "      <td>...</td>\n",
       "      <td>11402.0</td>\n",
       "      <td>0.0</td>\n",
       "      <td>74.0</td>\n",
       "      <td>133.0</td>\n",
       "      <td>172.0</td>\n",
       "      <td>167.0</td>\n",
       "      <td>236.0</td>\n",
       "      <td>60.0</td>\n",
       "      <td>298.0</td>\n",
       "      <td>204.0</td>\n",
       "    </tr>\n",
       "    <tr>\n",
       "      <th>4</th>\n",
       "      <td>33UXP63564713</td>\n",
       "      <td>17.203691</td>\n",
       "      <td>48.256300</td>\n",
       "      <td>17.203641</td>\n",
       "      <td>48.256284</td>\n",
       "      <td>33σXP32</td>\n",
       "      <td>True</td>\n",
       "      <td>True</td>\n",
       "      <td>True</td>\n",
       "      <td>C</td>\n",
       "      <td>...</td>\n",
       "      <td>11718.0</td>\n",
       "      <td>0.0</td>\n",
       "      <td>606.0</td>\n",
       "      <td>133.0</td>\n",
       "      <td>200.0</td>\n",
       "      <td>148.0</td>\n",
       "      <td>259.0</td>\n",
       "      <td>63.0</td>\n",
       "      <td>301.0</td>\n",
       "      <td>209.0</td>\n",
       "    </tr>\n",
       "  </tbody>\n",
       "</table>\n",
       "<p>5 rows × 29 columns</p>\n",
       "</div>"
      ]
     },
     "execution_count": 55,
     "metadata": {},
     "output_type": "execute_result"
    }
   ],
   "execution_count": 55
  },
  {
   "metadata": {
    "ExecuteTime": {
     "end_time": "2024-11-08T11:35:43.192548Z",
     "start_time": "2024-11-08T11:35:37.563138Z"
    }
   },
   "cell_type": "code",
   "source": [
    "# save to disk as GeoPackage\n",
    "file_name = os.path.basename(path_td).replace('.csv', '_Features_alpha1.gpkg')\n",
    "path_gpkg = os.path.normpath(os.path.join(out_root, file_name))\n",
    "result_df.to_file(path_gpkg, driver='GPKG')"
   ],
   "id": "2d215c42d08db72a",
   "outputs": [],
   "execution_count": 56
  },
  {
   "metadata": {
    "ExecuteTime": {
     "end_time": "2024-10-25T15:49:27.897730Z",
     "start_time": "2024-10-24T09:57:43.262048Z"
    }
   },
   "cell_type": "code",
   "source": "",
   "id": "59a90eb4115faba5",
   "outputs": [],
   "execution_count": null
  }
 ],
 "metadata": {
  "kernelspec": {
   "display_name": "weed",
   "language": "python",
   "name": "weed"
  },
  "language_info": {
   "codemirror_mode": {
    "name": "ipython",
    "version": 2
   },
   "file_extension": ".py",
   "mimetype": "text/x-python",
   "name": "python",
   "nbconvert_exporter": "python",
   "pygments_lexer": "ipython2",
   "version": "2.7.6"
  }
 },
 "nbformat": 4,
 "nbformat_minor": 5
}
