{
 "cells": [
  {
   "metadata": {},
   "cell_type": "markdown",
   "source": [
    "# example how to extract the S1/S2 features (maybe additional ECDC features) for reference point collections in openEO\n",
    "In this example we look on each step to generate a ML usable training dataset from given reference points."
   ],
   "id": "d9e1b899b3dafa26"
  },
  {
   "metadata": {
    "ExecuteTime": {
     "end_time": "2024-10-23T15:50:47.882221Z",
     "start_time": "2024-10-23T15:50:47.876504Z"
    }
   },
   "cell_type": "code",
   "source": [
    "from eo_processing.utils.mgrs import get_MGRSid10_center\n",
    "import pandas as pd\n",
    "import geopandas as gpd\n",
    "from shapely.geometry import Point\n",
    "import os\n",
    "import geojson\n",
    "import openeo\n",
    "from openeo.extra.job_management import MultiBackendJobManager, CsvJobDatabase\n",
    "from eo_processing.utils.helper import init_connection\n",
    "import numpy as np"
   ],
   "id": "d0f9465a8096acf5",
   "outputs": [],
   "execution_count": 65
  },
  {
   "metadata": {},
   "cell_type": "markdown",
   "source": [
    "### loading of the reference points CSV file as PANDAS dataframe\n",
    "Note: this part has to be later adapted to be more adaptive to different input sources (GeoJSON, parquet files, STAC catalog, ...)"
   ],
   "id": "941c8da1034b636f"
  },
  {
   "metadata": {
    "ExecuteTime": {
     "end_time": "2024-10-23T10:25:06.708409Z",
     "start_time": "2024-10-23T10:25:06.644110Z"
    }
   },
   "cell_type": "code",
   "source": [
    "# Load the CSV file into a pandas dataframe\n",
    "df = pd.read_csv(os.path.normpath(r'C:\\Users\\BUCHHORM\\Downloads\\SK_v5_reference-points_EUNIS2012.csv'))"
   ],
   "id": "551d9397ee97130d",
   "outputs": [],
   "execution_count": 2
  },
  {
   "metadata": {},
   "cell_type": "markdown",
   "source": [
    "### adding 10m GeoLocation identifier & cell center coordinates plus additional columns/checks\n",
    "It is crucial that the reference data is in EPSG:4326 - identify the correct columns OR warp coordinates of other EPSG to EPSG:4326."
   ],
   "id": "6f0d5f82e563e527"
  },
  {
   "metadata": {
    "ExecuteTime": {
     "end_time": "2024-10-23T10:29:21.937478Z",
     "start_time": "2024-10-23T10:25:09.059959Z"
    }
   },
   "cell_type": "code",
   "source": [
    "# first we add the unique MGRSid10 identifier and the corresponding center coordinates in EPSG:4326 for the 10m patch\n",
    "df[['MGRSid10', 'center_lon', 'center_lat']] = df.apply(lambda row: get_MGRSid10_center(row['lon'], row['lat']), axis=1, result_type='expand')"
   ],
   "id": "64cf04ad6c619bd6",
   "outputs": [],
   "execution_count": 3
  },
  {
   "metadata": {
    "ExecuteTime": {
     "end_time": "2024-10-23T10:32:39.653774Z",
     "start_time": "2024-10-23T10:32:39.642042Z"
    }
   },
   "cell_type": "code",
   "source": [
    "# remove non-needed columns when exist\n",
    "columns_to_remove = ['fid', 'entry', 'x', 'y']\n",
    "df.drop(columns=[col for col in columns_to_remove if col in df.columns], inplace=True)"
   ],
   "id": "c6d96a707b3a9f12",
   "outputs": [],
   "execution_count": 4
  },
  {
   "metadata": {
    "ExecuteTime": {
     "end_time": "2024-10-23T10:33:20.234419Z",
     "start_time": "2024-10-23T10:33:20.212585Z"
    }
   },
   "cell_type": "code",
   "source": [
    "# Check and remove duplicate entries in the 'MGRSid10' column\n",
    "if df['MGRSid10'].duplicated().any():\n",
    "    duplicates = df[df['MGRSid10'].duplicated(keep=False)]\n",
    "    print(\"Duplicate entries found in MGRSid10:\")\n",
    "    print(duplicates[['MGRSid10', 'lon', 'lat', 'center_lon', 'center_lat']])\n",
    "    # Remove all entries with duplicate MGRSid10\n",
    "    df = df[~df['MGRSid10'].duplicated(keep=False)]\n",
    "    print(\"Duplicates have been removed.\")\n",
    "else:\n",
    "    print(\"No duplicate entries in MGRSid10\")"
   ],
   "id": "7a9a678567192de",
   "outputs": [
    {
     "name": "stdout",
     "output_type": "stream",
     "text": [
      "Duplicate entries found in MGRSid10:\n",
      "            MGRSid10        lon        lat  center_lon  center_lat\n",
      "324    39QTB31471177  48.448086  19.081292   48.448117   19.081264\n",
      "325    39QTB31461179  48.448019  19.081471   48.448020   19.081444\n",
      "326    39QTB31481179  48.448215  19.081411   48.448210   19.081446\n",
      "328    39QTB31481179  48.448226  19.081406   48.448210   19.081446\n",
      "330    39QTB31461181  48.447978  19.081629   48.448017   19.081624\n",
      "...              ...        ...        ...         ...         ...\n",
      "44731  38QRE13632584  47.951694  17.396612   47.951701   17.396584\n",
      "44732  38QRE13622586  47.951573  17.396760   47.951610   17.396766\n",
      "44733  38QRE13612585  47.951554  17.396698   47.951514   17.396678\n",
      "44734  38QRE13642578  47.951783  17.396035   47.951786   17.396041\n",
      "44735  38QRE13622586  47.951563  17.396732   47.951610   17.396766\n",
      "\n",
      "[109 rows x 5 columns]\n",
      "Duplicates have been removed.\n"
     ]
    }
   ],
   "execution_count": 6
  },
  {
   "metadata": {
    "ExecuteTime": {
     "end_time": "2024-10-23T10:33:42.786150Z",
     "start_time": "2024-10-23T10:33:42.772670Z"
    }
   },
   "cell_type": "code",
   "source": [
    "# create a new column with the Sentinel-2 tileID\n",
    "df['S2_tileID'] = df['MGRSid10'].astype(str).str[:5]"
   ],
   "id": "5c275e5f1b3a4c0b",
   "outputs": [],
   "execution_count": 7
  },
  {
   "metadata": {
    "ExecuteTime": {
     "end_time": "2024-10-23T10:33:48.455328Z",
     "start_time": "2024-10-23T10:33:48.445649Z"
    }
   },
   "cell_type": "code",
   "source": [
    "# reorder the columns just for better read\n",
    "cols = df.columns.tolist()\n",
    "new_order = ['MGRSid10', 'center_lon', 'center_lat', 'lon', 'lat', 'S2_tileID']\n",
    "remaining_cols = [col for col in cols if col not in new_order]\n",
    "df = df[new_order + remaining_cols]"
   ],
   "id": "71fe47e200d32054",
   "outputs": [],
   "execution_count": 8
  },
  {
   "metadata": {},
   "cell_type": "markdown",
   "source": "### convert the DataFrame into a GeoPandas DataFrame with center point geometry",
   "id": "39c1afdffa44274b"
  },
  {
   "metadata": {
    "ExecuteTime": {
     "end_time": "2024-10-23T10:33:52.581148Z",
     "start_time": "2024-10-23T10:33:52.297373Z"
    }
   },
   "cell_type": "code",
   "source": [
    "geometry = [Point(xy) for xy in zip(df.center_lon, df.center_lat)]\n",
    "geo_df = gpd.GeoDataFrame(df, geometry=geometry)\n",
    "print(f'Number of reference points: {len(geo_df)}')"
   ],
   "id": "a396d81cd3e126cb",
   "outputs": [
    {
     "name": "stdout",
     "output_type": "stream",
     "text": [
      "Number of reference points: 45140\n"
     ]
    }
   ],
   "execution_count": 9
  },
  {
   "metadata": {},
   "cell_type": "markdown",
   "source": [
    "### split the geodataframe by 100kgrid into stand-alone dataframes for job operation\n",
    "the 100kgrid represent the Sentinel-2 tileIDs. That is needed to avoid openEO limitations for extraction\n"
   ],
   "id": "fefcd9415496ef60"
  },
  {
   "metadata": {
    "ExecuteTime": {
     "end_time": "2024-10-23T10:34:00.467718Z",
     "start_time": "2024-10-23T10:34:00.390767Z"
    }
   },
   "cell_type": "code",
   "source": [
    "split_jobs = [geo_df[geo_df['S2_tileID'] == tile_id] for tile_id in geo_df['S2_tileID'].unique()]\n",
    "print(f'Number of jobs: {len(split_jobs)}')"
   ],
   "id": "f57784bfd5aea6d3",
   "outputs": [
    {
     "name": "stdout",
     "output_type": "stream",
     "text": [
      "Number of jobs: 21\n"
     ]
    }
   ],
   "execution_count": 10
  },
  {
   "metadata": {
    "ExecuteTime": {
     "end_time": "2024-10-23T10:35:31.078231Z",
     "start_time": "2024-10-23T10:35:30.185309Z"
    }
   },
   "cell_type": "code",
   "source": [
    "# for visualization we print all the points of one of the tiles (Sentinel-2 tileIDs)\n",
    "split_jobs[0].geometry.plot()"
   ],
   "id": "5ae826c5eb36239b",
   "outputs": [
    {
     "data": {
      "text/plain": [
       "<Axes: >"
      ]
     },
     "execution_count": 15,
     "metadata": {},
     "output_type": "execute_result"
    },
    {
     "data": {
      "text/plain": [
       "<Figure size 640x480 with 1 Axes>"
      ],
      "image/png": "[encoded data removed]"
     },
     "metadata": {},
     "output_type": "display_data"
    }
   ],
   "execution_count": 15
  },
  {
   "metadata": {},
   "cell_type": "markdown",
   "source": [
    "### create the job dataframe with all info to run the openEO `MultiBackendJobManager` for the data extraction\n",
    "For each job which has to run on openEO we need an extra row in a `pandas.DataFrame` which is handling all information needed by the JobManager to execute the `start_function`. The output dataframe should be savable as a .csv file. <br> <br>\n",
    "Note: the full information of a sub-geodataframe of points/polygons can be saved into a row of a `pandas.DataFrame` by storing it in a row as string implementing the `geojson.FeatureCollection` interface. To convert the `geopandas.GeoDataFrame` into a string, simply use the `.to_json()` function.\n"
   ],
   "id": "9e52775eae941e37"
  },
  {
   "metadata": {
    "ExecuteTime": {
     "end_time": "2024-10-23T11:22:35.471609Z",
     "start_time": "2024-10-23T11:22:35.439802Z"
    }
   },
   "cell_type": "code",
   "source": [
    "def create_job_dataframe(split_jobs: list[gpd.GeoDataFrame], year: int, file_name_base: str) -> pd.DataFrame:\n",
    "    \"\"\" Create a dataframe from the pre-split GeoDataFrame, containing all the necessary information to run the job.\n",
    "    \n",
    "    :param split_jobs: List of GeoDataFrames, each containing job information such as S2 tile ID and geometries.\n",
    "    :param year: Year for which to create job entries. The start date will be January 1st of this year, and the end date will be January 1st of the following year.\n",
    "    :param file_name_base: Base file name to be used, with the S2 tile ID appended to create unique file names for each job.\n",
    "    :return: DataFrame containing job information, including the S2 tile ID, generated file name, start date, end date, and geometry as a JSON object.\n",
    "    \"\"\"\n",
    "    \n",
    "    columns = ['s2_tile', 'file_name', 'start_date', 'end_date', 'geometry']\n",
    "    rows = []\n",
    "    for job in split_jobs:\n",
    "        # set master parameters\n",
    "        start_date = f'{year}-01-01'\n",
    "        end_date = f'{year+1}-01-01'\n",
    "        s2_tile = job.S2_tileID.iloc[0]  # Job dataframes are split depending on the\n",
    "        file_name = f'{file_name_base}_{s2_tile}.csv'\n",
    "        \n",
    "        rows.append(\n",
    "            pd.Series(\n",
    "                dict(zip(columns, [s2_tile, file_name, start_date, end_date, job.to_json()]))\n",
    "            )\n",
    "        )\n",
    "\n",
    "    return pd.DataFrame(rows)"
   ],
   "id": "fd49cce9ee4e33df",
   "outputs": [],
   "execution_count": 16
  },
  {
   "metadata": {
    "ExecuteTime": {
     "end_time": "2024-10-23T11:24:30.980205Z",
     "start_time": "2024-10-23T11:24:29.739604Z"
    }
   },
   "cell_type": "code",
   "source": "job_df = create_job_dataframe(split_jobs, 2021, 'SK_v5_reference-points_EUNIS2012_features')",
   "id": "e38911233ff9a4bd",
   "outputs": [],
   "execution_count": 17
  },
  {
   "metadata": {
    "ExecuteTime": {
     "end_time": "2024-10-23T11:44:35.067388Z",
     "start_time": "2024-10-23T11:44:34.230750Z"
    }
   },
   "cell_type": "code",
   "source": [
    "# add the number of points to handle in each S2 tile\n",
    "def get_point_number(row: pd.Series) -> int:\n",
    "    \"\"\"\n",
    "    :param row: A pandas Series object that contains a geometry field with a GeoJSON string.\n",
    "    :return: The number of features present in the GeoJSON geometry.\n",
    "    \"\"\"\n",
    "    return len(geojson.loads(row.geometry)['features'])\n",
    "\n",
    "job_df['n_points'] = job_df.apply(get_point_number, axis=1)"
   ],
   "id": "31cc69532c36e132",
   "outputs": [],
   "execution_count": 28
  },
  {
   "metadata": {
    "ExecuteTime": {
     "end_time": "2024-10-23T11:47:52.174353Z",
     "start_time": "2024-10-23T11:47:52.166074Z"
    }
   },
   "cell_type": "code",
   "source": [
    "# NOTE: for processing time reduction we only process in this example the three shortest jobs\n",
    "job_df_sub = job_df.nsmallest(3, 'n_points')\n",
    "\n",
    "# Display the dataframe\n",
    "print(job_df_sub)"
   ],
   "id": "efa0e39462040801",
   "outputs": [
    {
     "name": "stdout",
     "output_type": "stream",
     "text": [
      "   s2_tile                                          file_name  start_date  \\\n",
      "20   39QSC  SK_v5_reference-points_EUNIS2012_features_39QS...  2021-01-01   \n",
      "15   39QSU  SK_v5_reference-points_EUNIS2012_features_39QS...  2021-01-01   \n",
      "17   38QQE  SK_v5_reference-points_EUNIS2012_features_38QQ...  2021-01-01   \n",
      "\n",
      "      end_date                                           geometry  n_points  \n",
      "20  2022-01-01  {\"type\": \"FeatureCollection\", \"features\": [{\"i...         3  \n",
      "15  2022-01-01  {\"type\": \"FeatureCollection\", \"features\": [{\"i...       128  \n",
      "17  2022-01-01  {\"type\": \"FeatureCollection\", \"features\": [{\"i...       279  \n"
     ]
    }
   ],
   "execution_count": 31
  },
  {
   "metadata": {},
   "cell_type": "markdown",
   "source": [
    "### creating the job `start_job` function\n",
    "The next step is to define a `start_job` function. This function will instruct the `MultiBackendJobManager` on how to initiate a new job on the selected backend. The `start_job` functionality should adhere to the following structure _start_job(row: pd.Series, connection: openeo.Connection, **kwargs)_. <br> <br>\n",
    "NOTE: for simplification in this example we will only extract the DEM value from the CDSE collection."
   ],
   "id": "e2f812eacd87c619"
  },
  {
   "metadata": {
    "ExecuteTime": {
     "end_time": "2024-10-23T16:39:37.476829Z",
     "start_time": "2024-10-23T16:39:37.468194Z"
    }
   },
   "cell_type": "code",
   "source": [
    "def point_extraction(row: pd.Series, connection: openeo.Connection, provider: str , **kwgs) -> openeo.BatchJob:\n",
    "    \"\"\"Start a new job using the specified row out of the jobs DataFrame and connection.\"\"\"\n",
    "    \n",
    "    # Get the variable parameters from the dataframe\n",
    "    tileID = row[\"s2_tile\"]\n",
    "    start = row[\"start_date\"]\n",
    "    end = row[\"end_date\"]\n",
    "    file_name = row[\"file_name\"]\n",
    "    \n",
    "    #now we have to load the point geometries for all the points to process\n",
    "    points_geometry = geojson.loads(row.geometry)\n",
    "    assert isinstance(points_geometry, geojson.FeatureCollection)\n",
    "    \n",
    "    # Note: for points we do not define a spatial_extent in the collection at all AND run an aggregation_spatial with the GeoJSON FeatureCollection\n",
    "    # Note2: for polygons we do not define a spatial_extent in the collection at all and later run a cube.filter_spatial(GeoJSON)\n",
    "    DEM = connection.load_collection(\n",
    "        \"COPERNICUS_30\",\n",
    "        bands=[\"DEM\"]\n",
    "        )\n",
    "    \n",
    "    DEM = DEM.aggregate_spatial(points_geometry, reducer=\"first\")\n",
    "    \n",
    "    job = DEM.create_job(title=os.path.splitext(file_name)[0], \n",
    "                         description=f'feature extraction for reference points in tile {tileID}', \n",
    "                         out_format='Parquet', \n",
    "                         filename_prefix=os.path.splitext(file_name)[0],\n",
    "                         #sample_by_feature=True,\n",
    "                         feature_id_property='MGRSid10'\n",
    "                               )\n",
    "    return job"
   ],
   "id": "a15e5b858e623f10",
   "outputs": [],
   "execution_count": 77
  },
  {
   "metadata": {},
   "cell_type": "markdown",
   "source": "### run the jobs",
   "id": "9cb1c17ec85d0589"
  },
  {
   "metadata": {
    "ExecuteTime": {
     "end_time": "2024-10-23T16:39:42.565541Z",
     "start_time": "2024-10-23T16:39:42.176561Z"
    }
   },
   "cell_type": "code",
   "source": [
    "# define the output folder (make sure you adapt this to your folder structure)\n",
    "test_num = 2\n",
    "out_root = os.path.normpath(r'\\\\netapp03.vgt.vito.be\\people_vol1\\tests\\openeo\\point_extraction')\n",
    "out_root = os.path.join(out_root, f'test_v{str(test_num)}')\n",
    "os.makedirs(out_root, exist_ok=True)"
   ],
   "id": "8646efc2f6a110f7",
   "outputs": [],
   "execution_count": 78
  },
  {
   "metadata": {
    "ExecuteTime": {
     "end_time": "2024-10-23T16:39:46.859476Z",
     "start_time": "2024-10-23T16:39:46.852025Z"
    }
   },
   "cell_type": "code",
   "source": [
    "# generate a unique name for the job tracker database (here: CSV file)\n",
    "job_tracker = os.path.normpath(os.path.join(out_root, f'job_tracker_v{str(test_num)}.csv'))"
   ],
   "id": "98b7e4a752aec090",
   "outputs": [],
   "execution_count": 79
  },
  {
   "metadata": {
    "ExecuteTime": {
     "end_time": "2024-10-23T12:23:46.591441Z",
     "start_time": "2024-10-23T12:23:46.586660Z"
    }
   },
   "cell_type": "code",
   "source": [
    "# init of MultiBackendJobManager\n",
    "manager = MultiBackendJobManager(root_dir=os.path.normpath(out_root), poll_sleep=20)"
   ],
   "id": "bfc11ec6c329d957",
   "outputs": [],
   "execution_count": 37
  },
  {
   "metadata": {
    "ExecuteTime": {
     "end_time": "2024-10-23T12:24:21.004194Z",
     "start_time": "2024-10-23T12:24:20.228188Z"
    }
   },
   "cell_type": "code",
   "source": [
    "# create a connection to backend and add this active backend to the jobmanager\n",
    "backend = 'cdse'  # also possible: cdse-stagging, terrascope, development, creodias, sentinelhub\n",
    "connection = init_connection(backend)\n",
    "manager.add_backend(backend, connection=connection, parallel_jobs=6)"
   ],
   "id": "f6552a98a871829d",
   "outputs": [
    {
     "name": "stdout",
     "output_type": "stream",
     "text": [
      "Authenticated using refresh token.\n"
     ]
    }
   ],
   "execution_count": 38
  },
  {
   "metadata": {
    "ExecuteTime": {
     "end_time": "2024-10-23T16:43:08.705917Z",
     "start_time": "2024-10-23T16:39:54.642169Z"
    }
   },
   "cell_type": "code",
   "source": [
    "# run the jobs stand-alone which blocks further usage of the Notebook up to all jobs are done\n",
    "manager.run_jobs(df=job_df_sub, start_job=point_extraction, job_db=job_tracker)"
   ],
   "id": "24835775c16056c5",
   "outputs": [],
   "execution_count": 80
  },
  {
   "metadata": {},
   "cell_type": "code",
   "outputs": [],
   "execution_count": null,
   "source": [
    "# add the costs to the tracker file\n",
    "#todo"
   ],
   "id": "5474311932d183da"
  },
  {
   "metadata": {},
   "cell_type": "code",
   "outputs": [],
   "execution_count": null,
   "source": "",
   "id": "a9760c2b0e020985"
  }
 ],
 "metadata": {
  "kernelspec": {
   "display_name": "weed",
   "language": "python",
   "name": "weed"
  },
  "language_info": {
   "codemirror_mode": {
    "name": "ipython",
    "version": 2
   },
   "file_extension": ".py",
   "mimetype": "text/x-python",
   "name": "python",
   "nbconvert_exporter": "python",
   "pygments_lexer": "ipython2",
   "version": "2.7.6"
  }
 },
 "nbformat": 4,
 "nbformat_minor": 5
}
