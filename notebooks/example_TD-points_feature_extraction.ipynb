{
 "cells": [
  {
   "metadata": {},
   "cell_type": "markdown",
   "source": [
    "# example how to extract the S1/S2 features (maybe additional ECDC features) in openEO\n",
    "In this example we look on each step to generate a ML usable training dataset from given reference points."
   ],
   "id": "d9e1b899b3dafa26"
  },
  {
   "metadata": {},
   "cell_type": "markdown",
   "source": [
    "1. load reference points & convert to EPSG:4326 if needed\n",
    "2. add the GeoIdentifier for 10m patch, the patch center coordinate in EPSG:4326 and other important attributes\n",
    "3. create the job dataframe by grouping the reference points by UTM zones or UTM 10K tiles\n",
    "4. add all needed columns to the job dataframe to create a start_function for the opneEO MultiBackendJobManager\n",
    "5. write start_function for JobMultiBackend Manager\n",
    "6. setup the client-side processing with automatic retry and credit cost-evaluation\n",
    "7. execute\n",
    "8. training data check and visualization"
   ],
   "id": "d761e40911a4cca1"
  },
  {
   "cell_type": "code",
   "execution_count": null,
   "id": "initial_id",
   "metadata": {
    "collapsed": true
   },
   "outputs": [],
   "source": [
    ""
   ]
  }
 ],
 "metadata": {
  "kernelspec": {
   "display_name": "Python 3",
   "language": "python",
   "name": "python3"
  },
  "language_info": {
   "codemirror_mode": {
    "name": "ipython",
    "version": 2
   },
   "file_extension": ".py",
   "mimetype": "text/x-python",
   "name": "python",
   "nbconvert_exporter": "python",
   "pygments_lexer": "ipython2",
   "version": "2.7.6"
  }
 },
 "nbformat": 4,
 "nbformat_minor": 5
}
