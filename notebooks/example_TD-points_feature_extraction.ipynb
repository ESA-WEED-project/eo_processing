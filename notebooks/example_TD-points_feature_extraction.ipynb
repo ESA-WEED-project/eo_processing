{
 "cells": [
  {
   "metadata": {},
   "cell_type": "markdown",
   "source": [
    "# example how to extract the WERN features for reference point collections in openEO\n",
    "In this example we look on each step to generate a ML usable training dataset from given reference points."
   ],
   "id": "d9e1b899b3dafa26"
  },
  {
   "metadata": {
    "ExecuteTime": {
     "end_time": "2024-10-25T12:25:37.425055Z",
     "start_time": "2024-10-25T12:25:35.195554Z"
    }
   },
   "cell_type": "code",
   "source": [
    "from eo_processing.utils.mgrs import get_MGRSid10_center, tileID_2_epsg\n",
    "import pandas as pd\n",
    "import geopandas as gpd\n",
    "from shapely.geometry import Point\n",
    "import os\n",
    "import geojson\n",
    "import openeo\n",
    "from openeo.extra.job_management import MultiBackendJobManager\n",
    "from eo_processing.utils.helper import init_connection"
   ],
   "id": "d0f9465a8096acf5",
   "outputs": [],
   "execution_count": 1
  },
  {
   "metadata": {},
   "cell_type": "markdown",
   "source": [
    "### loading of the reference points CSV file as PANDAS dataframe\n",
    "Note: this part has to be later adapted to be more adaptive to different input sources (GeoJSON, parquet files, STAC catalog, ...)"
   ],
   "id": "941c8da1034b636f"
  },
  {
   "metadata": {
    "ExecuteTime": {
     "end_time": "2024-10-25T12:25:59.862859Z",
     "start_time": "2024-10-25T12:25:59.798437Z"
    }
   },
   "cell_type": "code",
   "source": [
    "# Load the CSV file into a pandas dataframe\n",
    "path_td = os.path.normpath(r'C:\\Users\\BUCHHORM\\Downloads\\SK_v5_reference-points_EUNIS2012_fixed.csv')\n",
    "df = pd.read_csv(path_td)"
   ],
   "id": "551d9397ee97130d",
   "outputs": [],
   "execution_count": 2
  },
  {
   "metadata": {},
   "cell_type": "markdown",
   "source": [
    "### adding 10m GeoLocation identifier & cell center coordinates plus additional columns/checks\n",
    "It is crucial that the reference data is in EPSG:4326 - identify the correct columns OR warp coordinates of other EPSG to EPSG:4326."
   ],
   "id": "6f0d5f82e563e527"
  },
  {
   "metadata": {
    "ExecuteTime": {
     "end_time": "2024-10-25T12:31:24.773696Z",
     "start_time": "2024-10-25T12:26:01.554632Z"
    }
   },
   "cell_type": "code",
   "source": [
    "# first we add the unique MGRSid10 identifier and the corresponding center coordinates in EPSG:4326 for the 10m patch\n",
    "df[['MGRSid10', 'center_lon', 'center_lat']] = df.apply(lambda row: get_MGRSid10_center(row['lon'], row['lat']), axis=1, result_type='expand')"
   ],
   "id": "64cf04ad6c619bd6",
   "outputs": [],
   "execution_count": 3
  },
  {
   "metadata": {
    "ExecuteTime": {
     "end_time": "2024-10-25T12:31:24.793692Z",
     "start_time": "2024-10-25T12:31:24.780678Z"
    }
   },
   "cell_type": "code",
   "source": [
    "# remove non-needed columns when exist\n",
    "columns_to_remove = ['fid', 'entry', 'x', 'y']\n",
    "df.drop(columns=[col for col in columns_to_remove if col in df.columns], inplace=True)"
   ],
   "id": "c6d96a707b3a9f12",
   "outputs": [],
   "execution_count": 4
  },
  {
   "metadata": {
    "ExecuteTime": {
     "end_time": "2024-10-25T12:31:24.935393Z",
     "start_time": "2024-10-25T12:31:24.903941Z"
    }
   },
   "cell_type": "code",
   "source": [
    "# Check and remove duplicate entries in the 'MGRSid10' column\n",
    "if df['MGRSid10'].duplicated().any():\n",
    "    duplicates = df[df['MGRSid10'].duplicated(keep=False)]\n",
    "    print(\"Duplicate entries found in MGRSid10:\")\n",
    "    print(duplicates[['MGRSid10', 'lon', 'lat', 'center_lon', 'center_lat']])\n",
    "    # Remove all entries with duplicate MGRSid10\n",
    "    df = df[~df['MGRSid10'].duplicated(keep=False)]\n",
    "    print(\"Duplicates have been removed.\")\n",
    "else:\n",
    "    print(\"No duplicate entries in MGRSid10\")"
   ],
   "id": "7a9a678567192de",
   "outputs": [
    {
     "name": "stdout",
     "output_type": "stream",
     "text": [
      "Duplicate entries found in MGRSid10:\n",
      "            MGRSid10        lon        lat  center_lon  center_lat\n",
      "324    34UCU58116788  19.081292  48.448086   19.081224   48.448101\n",
      "325    34UCU58136787  19.081471  48.448019   19.081498   48.448016\n",
      "326    34UCU58126789  19.081411  48.448215   19.081356   48.448193\n",
      "327    34UCU58116784  19.081256  48.447704   19.081238   48.447741\n",
      "328    34UCU58126789  19.081406  48.448226   19.081356   48.448193\n",
      "...              ...        ...        ...         ...         ...\n",
      "44731  33TXP78931371  17.396612  47.951694   17.396573   47.951731\n",
      "44732  33TXP78941369  17.396760  47.951573   17.396699   47.951548\n",
      "44733  33TXP78941369  17.396698  47.951554   17.396699   47.951548\n",
      "44734  33TXP78891371  17.396035  47.951783   17.396038   47.951742\n",
      "44735  33TXP78941369  17.396732  47.951563   17.396699   47.951548\n",
      "\n",
      "[125 rows x 5 columns]\n",
      "Duplicates have been removed.\n"
     ]
    }
   ],
   "execution_count": 5
  },
  {
   "metadata": {
    "ExecuteTime": {
     "end_time": "2024-10-25T12:31:25.034187Z",
     "start_time": "2024-10-25T12:31:25.011191Z"
    }
   },
   "cell_type": "code",
   "source": [
    "# create a new column with the Sentinel-2 tileID\n",
    "df['S2_tileID'] = df['MGRSid10'].astype(str).str[:5]"
   ],
   "id": "5c275e5f1b3a4c0b",
   "outputs": [],
   "execution_count": 6
  },
  {
   "metadata": {
    "ExecuteTime": {
     "end_time": "2024-10-25T12:31:25.070327Z",
     "start_time": "2024-10-25T12:31:25.055211Z"
    }
   },
   "cell_type": "code",
   "source": [
    "# reorder the columns just for better read\n",
    "cols = df.columns.tolist()\n",
    "new_order = ['MGRSid10', 'center_lon', 'center_lat', 'lon', 'lat', 'S2_tileID']\n",
    "remaining_cols = [col for col in cols if col not in new_order]\n",
    "df = df[new_order + remaining_cols]"
   ],
   "id": "71fe47e200d32054",
   "outputs": [],
   "execution_count": 7
  },
  {
   "metadata": {},
   "cell_type": "markdown",
   "source": "### convert the DataFrame into a GeoPandas DataFrame with center point geometry",
   "id": "39c1afdffa44274b"
  },
  {
   "metadata": {
    "ExecuteTime": {
     "end_time": "2024-10-25T12:31:25.744638Z",
     "start_time": "2024-10-25T12:31:25.099543Z"
    }
   },
   "cell_type": "code",
   "source": [
    "geometry = [Point(xy) for xy in zip(df.center_lon, df.center_lat)]\n",
    "geo_df = gpd.GeoDataFrame(df, geometry=geometry)\n",
    "geo_df = geo_df.set_crs('epsg:4326')\n",
    "print(f'Number of reference points: {len(geo_df)}')"
   ],
   "id": "a396d81cd3e126cb",
   "outputs": [
    {
     "name": "stdout",
     "output_type": "stream",
     "text": [
      "Number of reference points: 45124\n"
     ]
    }
   ],
   "execution_count": 8
  },
  {
   "metadata": {
    "ExecuteTime": {
     "end_time": "2024-10-25T12:31:27.567913Z",
     "start_time": "2024-10-25T12:31:25.798663Z"
    }
   },
   "cell_type": "code",
   "source": [
    "# just visualize for checks\n",
    "geo_df.geometry.plot()"
   ],
   "id": "2f5cb1f9eee2083d",
   "outputs": [
    {
     "data": {
      "text/plain": [
       "<Axes: >"
      ]
     },
     "execution_count": 9,
     "metadata": {},
     "output_type": "execute_result"
    },
    {
     "data": {
      "text/plain": [
       "<Figure size 640x480 with 1 Axes>"
      ],
      "image/png": "[encoded data removed]"
     },
     "metadata": {},
     "output_type": "display_data"
    }
   ],
   "execution_count": 9
  },
  {
   "metadata": {},
   "cell_type": "markdown",
   "source": [
    "### split the geodataframe by 100kgrid into stand-alone dataframes for job operation\n",
    "the 100kgrid represent the Sentinel-2 tileIDs. That is needed to avoid openEO limitations for extraction\n"
   ],
   "id": "fefcd9415496ef60"
  },
  {
   "metadata": {
    "ExecuteTime": {
     "end_time": "2024-10-25T12:31:27.679123Z",
     "start_time": "2024-10-25T12:31:27.592332Z"
    }
   },
   "cell_type": "code",
   "source": [
    "split_jobs = [geo_df[geo_df['S2_tileID'] == tile_id] for tile_id in geo_df['S2_tileID'].unique()]\n",
    "print(f'Number of jobs: {len(split_jobs)}')"
   ],
   "id": "f57784bfd5aea6d3",
   "outputs": [
    {
     "name": "stdout",
     "output_type": "stream",
     "text": [
      "Number of jobs: 21\n"
     ]
    }
   ],
   "execution_count": 10
  },
  {
   "metadata": {
    "ExecuteTime": {
     "end_time": "2024-10-25T12:31:27.715418Z",
     "start_time": "2024-10-25T12:31:27.709826Z"
    }
   },
   "cell_type": "code",
   "source": "# TODO: split S2_tile job further when more then x amount of points are in the job",
   "id": "d1c3926f8eb37aef",
   "outputs": [],
   "execution_count": 11
  },
  {
   "metadata": {
    "ExecuteTime": {
     "end_time": "2024-10-25T12:31:28.024046Z",
     "start_time": "2024-10-25T12:31:27.744049Z"
    }
   },
   "cell_type": "code",
   "source": [
    "# for visualization we print all the points of one of the tiles (Sentinel-2 tileIDs)\n",
    "split_jobs[0].geometry.plot()"
   ],
   "id": "5ae826c5eb36239b",
   "outputs": [
    {
     "data": {
      "text/plain": [
       "<Axes: >"
      ]
     },
     "execution_count": 12,
     "metadata": {},
     "output_type": "execute_result"
    },
    {
     "data": {
      "text/plain": [
       "<Figure size 640x480 with 1 Axes>"
      ],
      "image/png": "[encoded data removed]"
     },
     "metadata": {},
     "output_type": "display_data"
    }
   ],
   "execution_count": 12
  },
  {
   "metadata": {},
   "cell_type": "markdown",
   "source": [
    "### create the job dataframe with all info to run the openEO `MultiBackendJobManager` for the data extraction\n",
    "For each job which has to run on openEO we need an extra row in a `pandas.DataFrame` which is handling all information needed by the JobManager to execute the `start_function`. The output dataframe should be savable as a .csv file. <br> <br>\n",
    "Note: the full information of a sub-geodataframe of points/polygons can be saved into a row of a `pandas.DataFrame` by storing it in a row as string implementing the `geojson.FeatureCollection` interface. To convert the `geopandas.GeoDataFrame` into a string, simply use the `.to_json()` function.\n"
   ],
   "id": "9e52775eae941e37"
  },
  {
   "metadata": {
    "ExecuteTime": {
     "end_time": "2024-10-25T12:31:28.054769Z",
     "start_time": "2024-10-25T12:31:28.048248Z"
    }
   },
   "cell_type": "code",
   "source": [
    "def create_job_dataframe(split_jobs: list[gpd.GeoDataFrame], year: int, file_name_base: str) -> pd.DataFrame:\n",
    "    \"\"\" Create a dataframe from the pre-split GeoDataFrame, containing all the necessary information to run the job.\n",
    "    \n",
    "    :param split_jobs: List of GeoDataFrames, each containing job information such as S2 tile ID and geometries.\n",
    "    :param year: Year for which to create job entries. The start date will be January 1st of this year, and the end date will be January 1st of the following year.\n",
    "    :param file_name_base: Base file name to be used, with the S2 tile ID appended to create unique file names for each job.\n",
    "    :return: DataFrame containing job information, including the S2 tile ID, generated file name, start date, end date, and geometry as a JSON object.\n",
    "    \"\"\"\n",
    "    \n",
    "    columns = ['s2_tile', 'epsg', 'file_name', 'start_date', 'end_date', 'geometry']\n",
    "    rows = []\n",
    "    for job in split_jobs:\n",
    "        # set master parameters\n",
    "        start_date = f'{year}-01-01'\n",
    "        end_date = f'{year+1}-01-01'\n",
    "        s2_tile = job.S2_tileID.iloc[0]  # Job dataframes are split depending on the\n",
    "        epsg = str(tileID_2_epsg(s2_tile))\n",
    "        file_name = f'{file_name_base}_{s2_tile}.csv'\n",
    "        \n",
    "        rows.append(\n",
    "            pd.Series(\n",
    "                dict(zip(columns, [s2_tile, epsg, file_name, start_date, end_date, job[['MGRSid10', 'geometry']].to_json()]))\n",
    "            )\n",
    "        )\n",
    "\n",
    "    return pd.DataFrame(rows)"
   ],
   "id": "fd49cce9ee4e33df",
   "outputs": [],
   "execution_count": 13
  },
  {
   "metadata": {
    "ExecuteTime": {
     "end_time": "2024-10-25T12:31:29.220616Z",
     "start_time": "2024-10-25T12:31:28.105403Z"
    }
   },
   "cell_type": "code",
   "source": "job_df = create_job_dataframe(split_jobs, 2021, 'SK_v5_reference-points_EUNIS2012_features')",
   "id": "e38911233ff9a4bd",
   "outputs": [],
   "execution_count": 14
  },
  {
   "metadata": {
    "ExecuteTime": {
     "end_time": "2024-10-25T12:31:30.018163Z",
     "start_time": "2024-10-25T12:31:29.227611Z"
    }
   },
   "cell_type": "code",
   "source": [
    "# add the number of points to handle in each S2 tile\n",
    "def get_point_number(row: pd.Series) -> int:\n",
    "    \"\"\"\n",
    "    :param row: A pandas Series object that contains a geometry field with a GeoJSON string.\n",
    "    :return: The number of features present in the GeoJSON geometry.\n",
    "    \"\"\"\n",
    "    return len(geojson.loads(row.geometry)['features'])\n",
    "\n",
    "job_df['n_points'] = job_df.apply(get_point_number, axis=1)"
   ],
   "id": "31cc69532c36e132",
   "outputs": [],
   "execution_count": 15
  },
  {
   "metadata": {
    "ExecuteTime": {
     "end_time": "2024-10-25T12:31:30.058373Z",
     "start_time": "2024-10-25T12:31:30.041413Z"
    }
   },
   "cell_type": "code",
   "source": "job_df.head()",
   "id": "da131774a872194f",
   "outputs": [
    {
     "data": {
      "text/plain": [
       "  s2_tile   epsg                                          file_name  \\\n",
       "0   33UXP  32633  SK_v5_reference-points_EUNIS2012_features_33UX...   \n",
       "1   33UXQ  32633  SK_v5_reference-points_EUNIS2012_features_33UX...   \n",
       "2   33TXP  32633  SK_v5_reference-points_EUNIS2012_features_33TX...   \n",
       "3   33UYP  32633  SK_v5_reference-points_EUNIS2012_features_33UY...   \n",
       "4   34UBU  32634  SK_v5_reference-points_EUNIS2012_features_34UB...   \n",
       "\n",
       "   start_date    end_date                                           geometry  \\\n",
       "0  2021-01-01  2022-01-01  {\"type\": \"FeatureCollection\", \"features\": [{\"i...   \n",
       "1  2021-01-01  2022-01-01  {\"type\": \"FeatureCollection\", \"features\": [{\"i...   \n",
       "2  2021-01-01  2022-01-01  {\"type\": \"FeatureCollection\", \"features\": [{\"i...   \n",
       "3  2021-01-01  2022-01-01  {\"type\": \"FeatureCollection\", \"features\": [{\"i...   \n",
       "4  2021-01-01  2022-01-01  {\"type\": \"FeatureCollection\", \"features\": [{\"i...   \n",
       "\n",
       "   n_points  \n",
       "0      4455  \n",
       "1       577  \n",
       "2       363  \n",
       "3      1896  \n",
       "4      1878  "
      ],
      "text/html": [
       "<div>\n",
       "<style scoped>\n",
       "    .dataframe tbody tr th:only-of-type {\n",
       "        vertical-align: middle;\n",
       "    }\n",
       "\n",
       "    .dataframe tbody tr th {\n",
       "        vertical-align: top;\n",
       "    }\n",
       "\n",
       "    .dataframe thead th {\n",
       "        text-align: right;\n",
       "    }\n",
       "</style>\n",
       "<table border=\"1\" class=\"dataframe\">\n",
       "  <thead>\n",
       "    <tr style=\"text-align: right;\">\n",
       "      <th></th>\n",
       "      <th>s2_tile</th>\n",
       "      <th>epsg</th>\n",
       "      <th>file_name</th>\n",
       "      <th>start_date</th>\n",
       "      <th>end_date</th>\n",
       "      <th>geometry</th>\n",
       "      <th>n_points</th>\n",
       "    </tr>\n",
       "  </thead>\n",
       "  <tbody>\n",
       "    <tr>\n",
       "      <th>0</th>\n",
       "      <td>33UXP</td>\n",
       "      <td>32633</td>\n",
       "      <td>SK_v5_reference-points_EUNIS2012_features_33UX...</td>\n",
       "      <td>2021-01-01</td>\n",
       "      <td>2022-01-01</td>\n",
       "      <td>{\"type\": \"FeatureCollection\", \"features\": [{\"i...</td>\n",
       "      <td>4455</td>\n",
       "    </tr>\n",
       "    <tr>\n",
       "      <th>1</th>\n",
       "      <td>33UXQ</td>\n",
       "      <td>32633</td>\n",
       "      <td>SK_v5_reference-points_EUNIS2012_features_33UX...</td>\n",
       "      <td>2021-01-01</td>\n",
       "      <td>2022-01-01</td>\n",
       "      <td>{\"type\": \"FeatureCollection\", \"features\": [{\"i...</td>\n",
       "      <td>577</td>\n",
       "    </tr>\n",
       "    <tr>\n",
       "      <th>2</th>\n",
       "      <td>33TXP</td>\n",
       "      <td>32633</td>\n",
       "      <td>SK_v5_reference-points_EUNIS2012_features_33TX...</td>\n",
       "      <td>2021-01-01</td>\n",
       "      <td>2022-01-01</td>\n",
       "      <td>{\"type\": \"FeatureCollection\", \"features\": [{\"i...</td>\n",
       "      <td>363</td>\n",
       "    </tr>\n",
       "    <tr>\n",
       "      <th>3</th>\n",
       "      <td>33UYP</td>\n",
       "      <td>32633</td>\n",
       "      <td>SK_v5_reference-points_EUNIS2012_features_33UY...</td>\n",
       "      <td>2021-01-01</td>\n",
       "      <td>2022-01-01</td>\n",
       "      <td>{\"type\": \"FeatureCollection\", \"features\": [{\"i...</td>\n",
       "      <td>1896</td>\n",
       "    </tr>\n",
       "    <tr>\n",
       "      <th>4</th>\n",
       "      <td>34UBU</td>\n",
       "      <td>32634</td>\n",
       "      <td>SK_v5_reference-points_EUNIS2012_features_34UB...</td>\n",
       "      <td>2021-01-01</td>\n",
       "      <td>2022-01-01</td>\n",
       "      <td>{\"type\": \"FeatureCollection\", \"features\": [{\"i...</td>\n",
       "      <td>1878</td>\n",
       "    </tr>\n",
       "  </tbody>\n",
       "</table>\n",
       "</div>"
      ]
     },
     "execution_count": 16,
     "metadata": {},
     "output_type": "execute_result"
    }
   ],
   "execution_count": 16
  },
  {
   "metadata": {},
   "cell_type": "markdown",
   "source": [
    "### creating the job `start_job` function\n",
    "The next step is to define a `start_job` function. This function will instruct the `MultiBackendJobManager` on how to initiate a new job on the selected backend. The `start_job` functionality should adhere to the following structure _start_job(row: pd.Series, connection: openeo.Connection, **kwargs)_. <br> <br>\n",
    "NOTE: for simplification in this example we will only extract the DEM value from the CDSE collection."
   ],
   "id": "e2f812eacd87c619"
  },
  {
   "metadata": {
    "ExecuteTime": {
     "end_time": "2024-10-25T12:31:30.130996Z",
     "start_time": "2024-10-25T12:31:30.124460Z"
    }
   },
   "cell_type": "code",
   "source": [
    "def point_extraction(row: pd.Series, connection: openeo.Connection, provider: str , **kwgs) -> openeo.BatchJob:\n",
    "    \"\"\"Start a new job using the specified row out of the jobs DataFrame and connection.\"\"\"\n",
    "    \n",
    "    # Get the variable parameters from the dataframe\n",
    "    tileID = row[\"s2_tile\"]\n",
    "    start = row[\"start_date\"]\n",
    "    end = row[\"end_date\"]\n",
    "    file_name = row[\"file_name\"]\n",
    "    epsg = int(row[\"epsg\"])\n",
    "    \n",
    "    #now we have to load the point geometries for all the points to process\n",
    "    points_geometry = geojson.loads(row.geometry)\n",
    "    assert isinstance(points_geometry, geojson.FeatureCollection)\n",
    "\n",
    "    # Note: for points we do not define a spatial_extent in the collection at all AND run an aggregation_spatial with the GeoJSON FeatureCollection\n",
    "    # Note2: for polygons we do not define a spatial_extent in the collection at all and later run a cube.filter_spatial(GeoJSON)\n",
    "    datacube = connection.load_stac(\"https://stac.openeo.vito.be/collections/wenr_features\")\n",
    "\n",
    "    # reduce the temporal domain since copernicus_30 collection is \"special\"\n",
    "    #datacube = datacube.reduce_dimension(dimension='t', reducer=lambda x: x.last(ignore_nodata=False))\n",
    "    \n",
    "    # resample the cube to 10m and EPSG corresponding Sentinel-2 tile\n",
    "    datacube = datacube.resample_spatial(projection=epsg, resolution=10.0, method=\"near\")\n",
    "    \n",
    "    # now we reduce the space to the needed point locations    \n",
    "    datacube = datacube.aggregate_spatial(points_geometry, reducer=\"first\")\n",
    "    \n",
    "    job = datacube.create_job(title=os.path.splitext(file_name)[0], \n",
    "                         description=f'WERN feature extraction for reference points in tile {tileID}', \n",
    "                         out_format='Parquet', \n",
    "                         filename_prefix=os.path.splitext(file_name)[0],\n",
    "                         feature_id_property='MGRSid10'\n",
    "                               )\n",
    "    return job"
   ],
   "id": "a15e5b858e623f10",
   "outputs": [],
   "execution_count": 17
  },
  {
   "metadata": {},
   "cell_type": "markdown",
   "source": "### run the jobs",
   "id": "9cb1c17ec85d0589"
  },
  {
   "metadata": {
    "ExecuteTime": {
     "end_time": "2024-10-25T12:31:30.918541Z",
     "start_time": "2024-10-25T12:31:30.274487Z"
    }
   },
   "cell_type": "code",
   "source": [
    "# define the output folder (make sure you adapt this to your folder structure)\n",
    "test_num = 5\n",
    "out_root = os.path.normpath(r'\\\\netapp03.vgt.vito.be\\people_vol1\\tests\\openeo\\point_extraction')\n",
    "out_root = os.path.join(out_root, f'test_v{str(test_num)}')\n",
    "os.makedirs(out_root, exist_ok=True)"
   ],
   "id": "8646efc2f6a110f7",
   "outputs": [],
   "execution_count": 18
  },
  {
   "metadata": {
    "ExecuteTime": {
     "end_time": "2024-10-25T12:31:30.975981Z",
     "start_time": "2024-10-25T12:31:30.969090Z"
    }
   },
   "cell_type": "code",
   "source": [
    "# generate a unique name for the job tracker database (here: CSV file)\n",
    "job_tracker = os.path.normpath(os.path.join(out_root, f'job_tracker_v{str(test_num)}.csv'))"
   ],
   "id": "98b7e4a752aec090",
   "outputs": [],
   "execution_count": 19
  },
  {
   "metadata": {
    "ExecuteTime": {
     "end_time": "2024-10-25T12:31:30.997180Z",
     "start_time": "2024-10-25T12:31:30.989236Z"
    }
   },
   "cell_type": "code",
   "source": [
    "# init of MultiBackendJobManager\n",
    "manager = MultiBackendJobManager(root_dir=os.path.normpath(out_root), poll_sleep=15)"
   ],
   "id": "bfc11ec6c329d957",
   "outputs": [],
   "execution_count": 20
  },
  {
   "metadata": {
    "ExecuteTime": {
     "end_time": "2024-10-25T12:31:32.050346Z",
     "start_time": "2024-10-25T12:31:31.075119Z"
    }
   },
   "cell_type": "code",
   "source": [
    "# create a connection to backend and add this active backend to the jobmanager\n",
    "backend = 'cdse'  # also possible: cdse-stagging, terrascope, development, creodias, sentinelhub\n",
    "connection = init_connection(backend)\n",
    "manager.add_backend(backend, connection=connection, parallel_jobs=6)"
   ],
   "id": "f6552a98a871829d",
   "outputs": [
    {
     "name": "stdout",
     "output_type": "stream",
     "text": [
      "Authenticated using refresh token.\n"
     ]
    }
   ],
   "execution_count": 21
  },
  {
   "metadata": {
    "ExecuteTime": {
     "end_time": "2024-10-25T12:59:39.697179Z",
     "start_time": "2024-10-25T12:31:32.155061Z"
    }
   },
   "cell_type": "code",
   "source": [
    "# run the jobs stand-alone which blocks further usage of the Notebook up to all jobs are done\n",
    "manager.run_jobs(df=job_df, start_job=point_extraction, job_db=job_tracker)"
   ],
   "id": "24835775c16056c5",
   "outputs": [],
   "execution_count": 22
  },
  {
   "metadata": {
    "ExecuteTime": {
     "end_time": "2024-10-24T09:57:37.297045Z",
     "start_time": "2024-10-24T09:57:37.294605Z"
    }
   },
   "cell_type": "code",
   "source": [
    "# add the costs to the tracker file\n",
    "#todo"
   ],
   "id": "5474311932d183da",
   "outputs": [],
   "execution_count": 23
  },
  {
   "metadata": {},
   "cell_type": "markdown",
   "source": [
    "### combine the single results into one training data file\n",
    "First load all the single parquet files of the jobs into `pandas.DataFrame` and combine."
   ],
   "id": "4374bd0b5e948069"
  },
  {
   "metadata": {
    "ExecuteTime": {
     "end_time": "2024-10-25T12:59:59.356080Z",
     "start_time": "2024-10-25T12:59:55.510688Z"
    }
   },
   "cell_type": "code",
   "source": [
    "# get the list of links to the job parquet files\n",
    "df_tracker = pd.read_csv(job_tracker)\n",
    "df_tracker['path_result'] = df_tracker['id'].apply(lambda x: os.path.normpath(os.path.join(out_root, f'job_{x}', 'timeseries.parquet')))\n",
    "path_Results = df_tracker['path_result'].tolist()"
   ],
   "id": "2300d01da30060fd",
   "outputs": [],
   "execution_count": 23
  },
  {
   "metadata": {
    "ExecuteTime": {
     "end_time": "2024-10-25T14:23:18.917824Z",
     "start_time": "2024-10-25T14:23:18.910528Z"
    }
   },
   "cell_type": "code",
   "source": [
    "for element in df_tracker[df_tracker['status'] == 'error'].id.tolist():\n",
    "    print(f'job_{element}')"
   ],
   "id": "28691ad292c8cfa",
   "outputs": [
    {
     "name": "stdout",
     "output_type": "stream",
     "text": [
      "job_j-241025d9bdbc4a97b9508e9bda833439\n",
      "job_j-241025a0332a4210912f9799f1108665\n",
      "job_j-241025b9a34d4fe2af5a8c6b4a45d635\n",
      "job_j-241025bd490b49fb8b2c0e972f9f4d20\n",
      "job_j-241025dc495e438e853e07c3fc8920f6\n",
      "job_j-241025c49fa7475b83e0c108efdeb369\n",
      "job_j-2410253d55024f119894ea93f2121ae1\n",
      "job_j-2410256d8aed41e88a912fa10887ffa6\n",
      "job_j-24102554e907473da03867ddfef0d0bc\n",
      "job_j-241025e3893b45559851ff86919f8418\n",
      "job_j-2410255da8fa46b7acce1655930638ff\n",
      "job_j-2410257d8b554610bbb2e7956b2e0201\n",
      "job_j-2410251c603444c0a45b72cb4a0a543e\n",
      "job_j-2410259e5a7740d0963ca62ec22a79a2\n"
     ]
    }
   ],
   "execution_count": 26
  },
  {
   "metadata": {
    "ExecuteTime": {
     "end_time": "2024-10-25T13:00:02.099287Z",
     "start_time": "2024-10-25T13:00:01.067292Z"
    }
   },
   "cell_type": "code",
   "source": [
    "# read parquet files and combine\n",
    "combined_df = pd.concat([pd.read_parquet(p) for p in path_Results], ignore_index=True)"
   ],
   "id": "ea17ce708341d1dd",
   "outputs": [
    {
     "ename": "FileNotFoundError",
     "evalue": "[Errno 2] No such file or directory: '\\\\\\\\netapp03.vgt.vito.be\\\\people_vol1\\\\tests\\\\openeo\\\\point_extraction\\\\test_v5\\\\job_j-241025d9bdbc4a97b9508e9bda833439\\\\timeseries.parquet'",
     "output_type": "error",
     "traceback": [
      "\u001B[1;31m---------------------------------------------------------------------------\u001B[0m",
      "\u001B[1;31mFileNotFoundError\u001B[0m                         Traceback (most recent call last)",
      "Cell \u001B[1;32mIn[24], line 2\u001B[0m\n\u001B[0;32m      1\u001B[0m \u001B[38;5;66;03m# read parquet files and combine\u001B[39;00m\n\u001B[1;32m----> 2\u001B[0m combined_df \u001B[38;5;241m=\u001B[39m pd\u001B[38;5;241m.\u001B[39mconcat([\u001B[43mpd\u001B[49m\u001B[38;5;241;43m.\u001B[39;49m\u001B[43mread_parquet\u001B[49m\u001B[43m(\u001B[49m\u001B[43mp\u001B[49m\u001B[43m)\u001B[49m \u001B[38;5;28;01mfor\u001B[39;00m p \u001B[38;5;129;01min\u001B[39;00m path_Results], ignore_index\u001B[38;5;241m=\u001B[39m\u001B[38;5;28;01mTrue\u001B[39;00m)\n",
      "File \u001B[1;32m~\\Anaconda3\\envs\\weed\\Lib\\site-packages\\pandas\\io\\parquet.py:667\u001B[0m, in \u001B[0;36mread_parquet\u001B[1;34m(path, engine, columns, storage_options, use_nullable_dtypes, dtype_backend, filesystem, filters, **kwargs)\u001B[0m\n\u001B[0;32m    664\u001B[0m     use_nullable_dtypes \u001B[38;5;241m=\u001B[39m \u001B[38;5;28;01mFalse\u001B[39;00m\n\u001B[0;32m    665\u001B[0m check_dtype_backend(dtype_backend)\n\u001B[1;32m--> 667\u001B[0m \u001B[38;5;28;01mreturn\u001B[39;00m \u001B[43mimpl\u001B[49m\u001B[38;5;241;43m.\u001B[39;49m\u001B[43mread\u001B[49m\u001B[43m(\u001B[49m\n\u001B[0;32m    668\u001B[0m \u001B[43m    \u001B[49m\u001B[43mpath\u001B[49m\u001B[43m,\u001B[49m\n\u001B[0;32m    669\u001B[0m \u001B[43m    \u001B[49m\u001B[43mcolumns\u001B[49m\u001B[38;5;241;43m=\u001B[39;49m\u001B[43mcolumns\u001B[49m\u001B[43m,\u001B[49m\n\u001B[0;32m    670\u001B[0m \u001B[43m    \u001B[49m\u001B[43mfilters\u001B[49m\u001B[38;5;241;43m=\u001B[39;49m\u001B[43mfilters\u001B[49m\u001B[43m,\u001B[49m\n\u001B[0;32m    671\u001B[0m \u001B[43m    \u001B[49m\u001B[43mstorage_options\u001B[49m\u001B[38;5;241;43m=\u001B[39;49m\u001B[43mstorage_options\u001B[49m\u001B[43m,\u001B[49m\n\u001B[0;32m    672\u001B[0m \u001B[43m    \u001B[49m\u001B[43muse_nullable_dtypes\u001B[49m\u001B[38;5;241;43m=\u001B[39;49m\u001B[43muse_nullable_dtypes\u001B[49m\u001B[43m,\u001B[49m\n\u001B[0;32m    673\u001B[0m \u001B[43m    \u001B[49m\u001B[43mdtype_backend\u001B[49m\u001B[38;5;241;43m=\u001B[39;49m\u001B[43mdtype_backend\u001B[49m\u001B[43m,\u001B[49m\n\u001B[0;32m    674\u001B[0m \u001B[43m    \u001B[49m\u001B[43mfilesystem\u001B[49m\u001B[38;5;241;43m=\u001B[39;49m\u001B[43mfilesystem\u001B[49m\u001B[43m,\u001B[49m\n\u001B[0;32m    675\u001B[0m \u001B[43m    \u001B[49m\u001B[38;5;241;43m*\u001B[39;49m\u001B[38;5;241;43m*\u001B[39;49m\u001B[43mkwargs\u001B[49m\u001B[43m,\u001B[49m\n\u001B[0;32m    676\u001B[0m \u001B[43m\u001B[49m\u001B[43m)\u001B[49m\n",
      "File \u001B[1;32m~\\Anaconda3\\envs\\weed\\Lib\\site-packages\\pandas\\io\\parquet.py:267\u001B[0m, in \u001B[0;36mPyArrowImpl.read\u001B[1;34m(self, path, columns, filters, use_nullable_dtypes, dtype_backend, storage_options, filesystem, **kwargs)\u001B[0m\n\u001B[0;32m    264\u001B[0m \u001B[38;5;28;01mif\u001B[39;00m manager \u001B[38;5;241m==\u001B[39m \u001B[38;5;124m\"\u001B[39m\u001B[38;5;124marray\u001B[39m\u001B[38;5;124m\"\u001B[39m:\n\u001B[0;32m    265\u001B[0m     to_pandas_kwargs[\u001B[38;5;124m\"\u001B[39m\u001B[38;5;124msplit_blocks\u001B[39m\u001B[38;5;124m\"\u001B[39m] \u001B[38;5;241m=\u001B[39m \u001B[38;5;28;01mTrue\u001B[39;00m  \u001B[38;5;66;03m# type: ignore[assignment]\u001B[39;00m\n\u001B[1;32m--> 267\u001B[0m path_or_handle, handles, filesystem \u001B[38;5;241m=\u001B[39m \u001B[43m_get_path_or_handle\u001B[49m\u001B[43m(\u001B[49m\n\u001B[0;32m    268\u001B[0m \u001B[43m    \u001B[49m\u001B[43mpath\u001B[49m\u001B[43m,\u001B[49m\n\u001B[0;32m    269\u001B[0m \u001B[43m    \u001B[49m\u001B[43mfilesystem\u001B[49m\u001B[43m,\u001B[49m\n\u001B[0;32m    270\u001B[0m \u001B[43m    \u001B[49m\u001B[43mstorage_options\u001B[49m\u001B[38;5;241;43m=\u001B[39;49m\u001B[43mstorage_options\u001B[49m\u001B[43m,\u001B[49m\n\u001B[0;32m    271\u001B[0m \u001B[43m    \u001B[49m\u001B[43mmode\u001B[49m\u001B[38;5;241;43m=\u001B[39;49m\u001B[38;5;124;43m\"\u001B[39;49m\u001B[38;5;124;43mrb\u001B[39;49m\u001B[38;5;124;43m\"\u001B[39;49m\u001B[43m,\u001B[49m\n\u001B[0;32m    272\u001B[0m \u001B[43m\u001B[49m\u001B[43m)\u001B[49m\n\u001B[0;32m    273\u001B[0m \u001B[38;5;28;01mtry\u001B[39;00m:\n\u001B[0;32m    274\u001B[0m     pa_table \u001B[38;5;241m=\u001B[39m \u001B[38;5;28mself\u001B[39m\u001B[38;5;241m.\u001B[39mapi\u001B[38;5;241m.\u001B[39mparquet\u001B[38;5;241m.\u001B[39mread_table(\n\u001B[0;32m    275\u001B[0m         path_or_handle,\n\u001B[0;32m    276\u001B[0m         columns\u001B[38;5;241m=\u001B[39mcolumns,\n\u001B[1;32m   (...)\u001B[0m\n\u001B[0;32m    279\u001B[0m         \u001B[38;5;241m*\u001B[39m\u001B[38;5;241m*\u001B[39mkwargs,\n\u001B[0;32m    280\u001B[0m     )\n",
      "File \u001B[1;32m~\\Anaconda3\\envs\\weed\\Lib\\site-packages\\pandas\\io\\parquet.py:140\u001B[0m, in \u001B[0;36m_get_path_or_handle\u001B[1;34m(path, fs, storage_options, mode, is_dir)\u001B[0m\n\u001B[0;32m    130\u001B[0m handles \u001B[38;5;241m=\u001B[39m \u001B[38;5;28;01mNone\u001B[39;00m\n\u001B[0;32m    131\u001B[0m \u001B[38;5;28;01mif\u001B[39;00m (\n\u001B[0;32m    132\u001B[0m     \u001B[38;5;129;01mnot\u001B[39;00m fs\n\u001B[0;32m    133\u001B[0m     \u001B[38;5;129;01mand\u001B[39;00m \u001B[38;5;129;01mnot\u001B[39;00m is_dir\n\u001B[1;32m   (...)\u001B[0m\n\u001B[0;32m    138\u001B[0m     \u001B[38;5;66;03m# fsspec resources can also point to directories\u001B[39;00m\n\u001B[0;32m    139\u001B[0m     \u001B[38;5;66;03m# this branch is used for example when reading from non-fsspec URLs\u001B[39;00m\n\u001B[1;32m--> 140\u001B[0m     handles \u001B[38;5;241m=\u001B[39m \u001B[43mget_handle\u001B[49m\u001B[43m(\u001B[49m\n\u001B[0;32m    141\u001B[0m \u001B[43m        \u001B[49m\u001B[43mpath_or_handle\u001B[49m\u001B[43m,\u001B[49m\u001B[43m \u001B[49m\u001B[43mmode\u001B[49m\u001B[43m,\u001B[49m\u001B[43m \u001B[49m\u001B[43mis_text\u001B[49m\u001B[38;5;241;43m=\u001B[39;49m\u001B[38;5;28;43;01mFalse\u001B[39;49;00m\u001B[43m,\u001B[49m\u001B[43m \u001B[49m\u001B[43mstorage_options\u001B[49m\u001B[38;5;241;43m=\u001B[39;49m\u001B[43mstorage_options\u001B[49m\n\u001B[0;32m    142\u001B[0m \u001B[43m    \u001B[49m\u001B[43m)\u001B[49m\n\u001B[0;32m    143\u001B[0m     fs \u001B[38;5;241m=\u001B[39m \u001B[38;5;28;01mNone\u001B[39;00m\n\u001B[0;32m    144\u001B[0m     path_or_handle \u001B[38;5;241m=\u001B[39m handles\u001B[38;5;241m.\u001B[39mhandle\n",
      "File \u001B[1;32m~\\Anaconda3\\envs\\weed\\Lib\\site-packages\\pandas\\io\\common.py:882\u001B[0m, in \u001B[0;36mget_handle\u001B[1;34m(path_or_buf, mode, encoding, compression, memory_map, is_text, errors, storage_options)\u001B[0m\n\u001B[0;32m    873\u001B[0m         handle \u001B[38;5;241m=\u001B[39m \u001B[38;5;28mopen\u001B[39m(\n\u001B[0;32m    874\u001B[0m             handle,\n\u001B[0;32m    875\u001B[0m             ioargs\u001B[38;5;241m.\u001B[39mmode,\n\u001B[1;32m   (...)\u001B[0m\n\u001B[0;32m    878\u001B[0m             newline\u001B[38;5;241m=\u001B[39m\u001B[38;5;124m\"\u001B[39m\u001B[38;5;124m\"\u001B[39m,\n\u001B[0;32m    879\u001B[0m         )\n\u001B[0;32m    880\u001B[0m     \u001B[38;5;28;01melse\u001B[39;00m:\n\u001B[0;32m    881\u001B[0m         \u001B[38;5;66;03m# Binary mode\u001B[39;00m\n\u001B[1;32m--> 882\u001B[0m         handle \u001B[38;5;241m=\u001B[39m \u001B[38;5;28;43mopen\u001B[39;49m\u001B[43m(\u001B[49m\u001B[43mhandle\u001B[49m\u001B[43m,\u001B[49m\u001B[43m \u001B[49m\u001B[43mioargs\u001B[49m\u001B[38;5;241;43m.\u001B[39;49m\u001B[43mmode\u001B[49m\u001B[43m)\u001B[49m\n\u001B[0;32m    883\u001B[0m     handles\u001B[38;5;241m.\u001B[39mappend(handle)\n\u001B[0;32m    885\u001B[0m \u001B[38;5;66;03m# Convert BytesIO or file objects passed with an encoding\u001B[39;00m\n",
      "\u001B[1;31mFileNotFoundError\u001B[0m: [Errno 2] No such file or directory: '\\\\\\\\netapp03.vgt.vito.be\\\\people_vol1\\\\tests\\\\openeo\\\\point_extraction\\\\test_v5\\\\job_j-241025d9bdbc4a97b9508e9bda833439\\\\timeseries.parquet'"
     ]
    }
   ],
   "execution_count": 24
  },
  {
   "metadata": {
    "ExecuteTime": {
     "end_time": "2024-10-24T09:57:39.863169Z",
     "start_time": "2024-10-24T09:57:39.859706Z"
    }
   },
   "cell_type": "code",
   "source": [
    "# get a list of extracted feature names\n",
    "feature_names = [x for x in combined_df.columns.tolist() if x not in geo_df.columns.tolist()]\n",
    "# remove some openEO generated columns\n",
    "feature_names = [x for x in feature_names if x not in [\"date\", \"feature_index\"]]"
   ],
   "id": "8a586faf1e171dfa",
   "outputs": [],
   "execution_count": 26
  },
  {
   "metadata": {
    "ExecuteTime": {
     "end_time": "2024-10-24T09:57:39.914437Z",
     "start_time": "2024-10-24T09:57:39.911596Z"
    }
   },
   "cell_type": "code",
   "source": [
    "# run a check before merging row of results == row of input\n",
    "assert len(combined_df) == len(geo_df)"
   ],
   "id": "70f1aa64fdeac168",
   "outputs": [],
   "execution_count": 27
  },
  {
   "metadata": {
    "ExecuteTime": {
     "end_time": "2024-10-24T09:57:40.006733Z",
     "start_time": "2024-10-24T09:57:39.969088Z"
    }
   },
   "cell_type": "code",
   "source": [
    "# merge in results\n",
    "combined_df = combined_df.set_index('MGRSid10')\n",
    "geo_df = geo_df.set_index('MGRSid10')\n",
    "result_df = geo_df.join(combined_df[feature_names], how='left').reset_index()"
   ],
   "id": "9fb79f2d92c533e7",
   "outputs": [],
   "execution_count": 28
  },
  {
   "metadata": {
    "ExecuteTime": {
     "end_time": "2024-10-24T09:57:40.074056Z",
     "start_time": "2024-10-24T09:57:40.064454Z"
    }
   },
   "cell_type": "code",
   "source": "result_df.head()",
   "id": "8ee22dcb87e2639c",
   "outputs": [
    {
     "data": {
      "text/plain": [
       "        MGRSid10  center_lon  center_lat        lon        lat S2_tileID  \\\n",
       "0  33UXP57473908   17.118710   48.185468  17.118680  48.185489     33UXP   \n",
       "1  33UXP59864327   17.152421   48.222541  17.152425  48.222568     33UXP   \n",
       "2  33UXP63034439   17.195500   48.231803  17.195542  48.231791     33UXP   \n",
       "3  33UXP62884673   17.194382   48.252879  17.194425  48.252869     33UXP   \n",
       "4  33UXP63564713   17.203691   48.256300  17.203641  48.256284     33UXP   \n",
       "\n",
       "   valid_L1  valid_L2  valid_L3 label_L1 label_L2 label_L3  \\\n",
       "0      True      True      True        C       C3     C3.4   \n",
       "1      True      True      True        C       C3     C3.4   \n",
       "2      True      True      True        C       C3     C3.4   \n",
       "3      True      True      True        C       C3     C3.4   \n",
       "4      True      True      True        C       C3     C3.4   \n",
       "\n",
       "                    geometry         DEM  \n",
       "0  POINT (17.11871 48.18547)  207.456100  \n",
       "1  POINT (17.15242 48.22254)  250.639648  \n",
       "2    POINT (17.1955 48.2318)  143.163879  \n",
       "3  POINT (17.19438 48.25288)  273.835571  \n",
       "4   POINT (17.20369 48.2563)  241.417328  "
      ],
      "text/html": [
       "<div>\n",
       "<style scoped>\n",
       "    .dataframe tbody tr th:only-of-type {\n",
       "        vertical-align: middle;\n",
       "    }\n",
       "\n",
       "    .dataframe tbody tr th {\n",
       "        vertical-align: top;\n",
       "    }\n",
       "\n",
       "    .dataframe thead th {\n",
       "        text-align: right;\n",
       "    }\n",
       "</style>\n",
       "<table border=\"1\" class=\"dataframe\">\n",
       "  <thead>\n",
       "    <tr style=\"text-align: right;\">\n",
       "      <th></th>\n",
       "      <th>MGRSid10</th>\n",
       "      <th>center_lon</th>\n",
       "      <th>center_lat</th>\n",
       "      <th>lon</th>\n",
       "      <th>lat</th>\n",
       "      <th>S2_tileID</th>\n",
       "      <th>valid_L1</th>\n",
       "      <th>valid_L2</th>\n",
       "      <th>valid_L3</th>\n",
       "      <th>label_L1</th>\n",
       "      <th>label_L2</th>\n",
       "      <th>label_L3</th>\n",
       "      <th>geometry</th>\n",
       "      <th>DEM</th>\n",
       "    </tr>\n",
       "  </thead>\n",
       "  <tbody>\n",
       "    <tr>\n",
       "      <th>0</th>\n",
       "      <td>33UXP57473908</td>\n",
       "      <td>17.118710</td>\n",
       "      <td>48.185468</td>\n",
       "      <td>17.118680</td>\n",
       "      <td>48.185489</td>\n",
       "      <td>33UXP</td>\n",
       "      <td>True</td>\n",
       "      <td>True</td>\n",
       "      <td>True</td>\n",
       "      <td>C</td>\n",
       "      <td>C3</td>\n",
       "      <td>C3.4</td>\n",
       "      <td>POINT (17.11871 48.18547)</td>\n",
       "      <td>207.456100</td>\n",
       "    </tr>\n",
       "    <tr>\n",
       "      <th>1</th>\n",
       "      <td>33UXP59864327</td>\n",
       "      <td>17.152421</td>\n",
       "      <td>48.222541</td>\n",
       "      <td>17.152425</td>\n",
       "      <td>48.222568</td>\n",
       "      <td>33UXP</td>\n",
       "      <td>True</td>\n",
       "      <td>True</td>\n",
       "      <td>True</td>\n",
       "      <td>C</td>\n",
       "      <td>C3</td>\n",
       "      <td>C3.4</td>\n",
       "      <td>POINT (17.15242 48.22254)</td>\n",
       "      <td>250.639648</td>\n",
       "    </tr>\n",
       "    <tr>\n",
       "      <th>2</th>\n",
       "      <td>33UXP63034439</td>\n",
       "      <td>17.195500</td>\n",
       "      <td>48.231803</td>\n",
       "      <td>17.195542</td>\n",
       "      <td>48.231791</td>\n",
       "      <td>33UXP</td>\n",
       "      <td>True</td>\n",
       "      <td>True</td>\n",
       "      <td>True</td>\n",
       "      <td>C</td>\n",
       "      <td>C3</td>\n",
       "      <td>C3.4</td>\n",
       "      <td>POINT (17.1955 48.2318)</td>\n",
       "      <td>143.163879</td>\n",
       "    </tr>\n",
       "    <tr>\n",
       "      <th>3</th>\n",
       "      <td>33UXP62884673</td>\n",
       "      <td>17.194382</td>\n",
       "      <td>48.252879</td>\n",
       "      <td>17.194425</td>\n",
       "      <td>48.252869</td>\n",
       "      <td>33UXP</td>\n",
       "      <td>True</td>\n",
       "      <td>True</td>\n",
       "      <td>True</td>\n",
       "      <td>C</td>\n",
       "      <td>C3</td>\n",
       "      <td>C3.4</td>\n",
       "      <td>POINT (17.19438 48.25288)</td>\n",
       "      <td>273.835571</td>\n",
       "    </tr>\n",
       "    <tr>\n",
       "      <th>4</th>\n",
       "      <td>33UXP63564713</td>\n",
       "      <td>17.203691</td>\n",
       "      <td>48.256300</td>\n",
       "      <td>17.203641</td>\n",
       "      <td>48.256284</td>\n",
       "      <td>33UXP</td>\n",
       "      <td>True</td>\n",
       "      <td>True</td>\n",
       "      <td>True</td>\n",
       "      <td>C</td>\n",
       "      <td>C3</td>\n",
       "      <td>C3.4</td>\n",
       "      <td>POINT (17.20369 48.2563)</td>\n",
       "      <td>241.417328</td>\n",
       "    </tr>\n",
       "  </tbody>\n",
       "</table>\n",
       "</div>"
      ]
     },
     "execution_count": 29,
     "metadata": {},
     "output_type": "execute_result"
    }
   ],
   "execution_count": 29
  },
  {
   "metadata": {
    "ExecuteTime": {
     "end_time": "2024-10-24T09:57:43.235925Z",
     "start_time": "2024-10-24T09:57:40.153808Z"
    }
   },
   "cell_type": "code",
   "source": [
    "# save to disk as GeoPackage\n",
    "file_name = os.path.basename(path_td).replace('.csv', '_with-WERN-Features.gpkg')\n",
    "path_gpkg = os.path.normpath(os.path.join(out_root, file_name))\n",
    "result_df.to_file(path_gpkg, driver='GPKG')"
   ],
   "id": "2d215c42d08db72a",
   "outputs": [],
   "execution_count": 30
  },
  {
   "metadata": {
    "ExecuteTime": {
     "end_time": "2024-10-24T09:57:43.265697Z",
     "start_time": "2024-10-24T09:57:43.262048Z"
    }
   },
   "cell_type": "code",
   "source": "",
   "id": "59a90eb4115faba5",
   "outputs": [],
   "execution_count": null
  }
 ],
 "metadata": {
  "kernelspec": {
   "display_name": "weed",
   "language": "python",
   "name": "weed"
  },
  "language_info": {
   "codemirror_mode": {
    "name": "ipython",
    "version": 2
   },
   "file_extension": ".py",
   "mimetype": "text/x-python",
   "name": "python",
   "nbconvert_exporter": "python",
   "pygments_lexer": "ipython2",
   "version": "2.7.6"
  }
 },
 "nbformat": 4,
 "nbformat_minor": 5
}
