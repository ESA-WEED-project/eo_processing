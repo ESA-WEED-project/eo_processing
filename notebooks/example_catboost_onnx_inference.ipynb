{
 "cells": [
  {
   "cell_type": "markdown",
   "id": "61fc2e44-2121-4ff2-a2f5-1c36a4f69d8f",
   "metadata": {},
   "source": [
    "# WEED inference\n",
    "In this notebook we will showcase how we couple the EO processing with ONNX ML inference within weed. \n",
    "\n",
    "The way we operate is by first lazy loading a cube which contains every enabled training feature as a band. \n",
    "Next we read from the model stored on an openEO accesible storage site, on which features it was trained. \n",
    "\n",
    "It is important that users add this information to the stored models. There is code provided in onnx_model_utilities to showcase how it can be done. This code was specialized for obtaining the relevant information from a json file and adding it into the onnx metadata. As the project continues this approach will change since model training will also be streamlined within the WEED operation. \n",
    "\n",
    "note: it is important to store your model in a zip file as shown here, as openEO has a preprogrammed way of unzipping dependency folders."
   ]
  },
  {
   "cell_type": "code",
   "execution_count": 1,
   "id": "8243ee19-d745-4958-97a4-6e67075953ec",
   "metadata": {},
   "outputs": [
    {
     "name": "stdout",
     "output_type": "stream",
     "text": [
      "ONNX model saved with metadata in: C:\\Git_projects\\eo_processing\\src\\eo_processing\\resources\\test.onnx\n",
      "Model successfully converted and saved to ONNX format with input/output features in metadata.\n"
     ]
    }
   ],
   "source": [
    "import os\n",
    "import sys\n",
    "import openeo\n",
    "\n",
    "sys.path.append(os.path.abspath('C:/Git_projects/eo_processing/src'))\n",
    "\n",
    "from eo_processing.utils import init_connection, getUDFpath\n",
    "from eo_processing.utils.onnx_model_utilities import get_training_features_from_model_zip\n",
    "\n",
    "from eo_processing.openeo.processing import generate_master_feature_cube\n",
    "from eo_processing.config import get_job_options, get_collection_options,  get_standard_processing_options"
   ]
  },
  {
   "cell_type": "markdown",
   "id": "8b125488-ec56-4954-b44a-8dda843e7f12",
   "metadata": {},
   "source": [
    "Connect to openEO processing backend"
   ]
  },
  {
   "cell_type": "code",
   "execution_count": 2,
   "id": "d33644bc-07e4-4733-841e-761b6772b0e5",
   "metadata": {},
   "outputs": [
    {
     "name": "stdout",
     "output_type": "stream",
     "text": [
      "Authenticated using refresh token.\n"
     ]
    }
   ],
   "source": [
    "backend = 'cdse' \n",
    "# establish the connection to the selected backend\n",
    "connection = init_connection(backend)\n",
    "\n",
    "job_options = get_job_options(provider=backend)\n",
    "collection_options = get_collection_options(provider=backend)"
   ]
  },
  {
   "cell_type": "markdown",
   "id": "6ae12555-8963-4510-af03-73e89ecaae60",
   "metadata": {},
   "source": [
    "### specify space & time context"
   ]
  },
  {
   "cell_type": "code",
   "execution_count": 3,
   "id": "9e1c84a6-9aa2-4efc-aa49-fa59782731a3",
   "metadata": {},
   "outputs": [],
   "source": [
    "# the time context is given by start and end date\n",
    "start = '2021-01-01'\n",
    "end = '2021-02-01'   # the end is always exclusive\n",
    "AOI = {'east': 4832000, 'south': 2818000, 'west': 4831000, 'north': 2819000, 'crs': 'EPSG:3035'}"
   ]
  },
  {
   "cell_type": "markdown",
   "id": "4e876841-8a9e-4d2d-a45f-4ca240643534",
   "metadata": {},
   "source": [
    "Below we initiate the job settings, it must be noted that these have not been optimized yet for the UDF inference workflow. \n",
    "\n",
    "Next we also read out the metadata of the provided model to extrac the features a model was trained on. "
   ]
  },
  {
   "cell_type": "code",
   "execution_count": 5,
   "id": "66e5eb29-0bf2-4eab-9128-33786a011de3",
   "metadata": {},
   "outputs": [
    {
     "name": "stdout",
     "output_type": "stream",
     "text": [
      "Downloading file from https://s3.waw3-1.cloudferro.com/swift/v1/project_dependencies/WEED_test.zip...\n",
      "Downloaded zip file to temporary file C:\\Users\\VROMPAYH\\AppData\\Local\\Temp\\tmp0r74jpcy\n",
      "Unzipping the file C:\\Users\\VROMPAYH\\AppData\\Local\\Temp\\tmp0r74jpcy to C:\\Users\\VROMPAYH\\AppData\\Local\\Temp\\tmpf975_zug...\n",
      "Unzipped files to C:\\Users\\VROMPAYH\\AppData\\Local\\Temp\\tmpf975_zug\n",
      "job_options: {'driver-memory': '8G', 'driver-memoryOverhead': '5G', 'driver-cores': '1', 'executor-memory': '1500m', 'executor-memoryOverhead': '2500m', 'executor-cores': '1', 'max-executors': '25', 'soft-errors': 'true', 'executor-request-cores': '800m', 'executor-threads-jvm': '7', 'logging-threshold': 'info', 'udf-dependency-archives': ['https://s3.waw3-1.cloudferro.com/swift/v1/project_dependencies/onnx_dependencies_1.16.3.zip#onnx_deps', 'https://s3.waw3-1.cloudferro.com/swift/v1/project_dependencies/WEED_test.zip#onnx_models']}\n",
      "collection_options: {'S2_collection': 'SENTINEL2_L2A', 'S1_collection': 'SENTINEL1_GRD'}\n",
      "processing_options: {'provider': 'cdse', 's1_orbitdirection': 'DESCENDING', 'target_crs': 3035, 'resolution': 10.0, 'time_interpolation': False, 'ts_interval': 'dekad', 'SLC_masking_algo': 'mask_scl_dilation', 'S2_bands': ['B02', 'B03', 'B04', 'B05', 'B06', 'B07', 'B08', 'B8A', 'B11', 'B12'], 'optical_vi_list': ['NDVI', 'AVI', 'CIRE', 'NIRv', 'NDMI', 'NDWI', 'BLFEI', 'MNDWI', 'NDVIMNDWI', 'S2WI', 'S2REP', 'IRECI'], 'radar_vi_list': ['VHVVD', 'VHVVR', 'RVI'], 'S2_scaling': [0, 10000, 0, 1.0], 'S1_db_rescale': True, 'append': True}\n",
      "ML INPUT features: ['BLFEI_p98', 'NDVIMNDWI_mean', 'MNDWI_mean', 'B12_iqr', 'CIRE_p98', 'VHVVR_median', 'NDVI_iqr', 'NDMI_p2', 'VH_mean', 'VHVVR_sd', 'B05_p25', 'S2REP_p98', 'MNDWI_p98', 'VH_iqr', 'B07_p25', 'NDMI_sd', 'IRECI_p98', 'BLFEI_sd', 'NDVIMNDWI_median', 'B08_mean', 'B11_sd', 'S2WI_median', 'B02_p75', 'B06_p75', 'NIRv_sd', 'NIRv_mean', 'AVI_iqr', 'B05_p98', 'VHVVD_sd', 'NDWI_p2', 'B06_mean', 'B11_p98', 'VHVVR_iqr', 'B03_p75', 'RVI_mean', 'NDWI_p98', 'B8A_p98', 'VHVVD_mean', 'VH_p2', 'AVI_p75', 'S2REP_median', 'VHVVD_iqr', 'B03_sum', 'MNDWI_median', 'B06_median', 'VV_p75', 'AVI_p25', 'NIRv_p25', 'VH_p25', 'B12_sum', 'CIRE_p25', 'VHVVR_p75', 'B03_p2', 'B11_median', 'B05_median', 'S2WI_iqr', 'AVI_mean', 'IRECI_sum', 'B08_iqr', 'VHVVR_sum', 'IRECI_iqr', 'BLFEI_sum', 'S2WI_p2', 'B11_sum', 'B06_iqr']\n",
      "ML OUTPUT features: ['predicted_label', 'prob_class_30000', 'prob_class_40000', 'prob_class_50000', 'prob_class_60000', 'prob_class_70000', 'prob_class_80000', 'prob_class_90000', 'prob_class_100000', 'prob_class_110000']\n"
     ]
    }
   ],
   "source": [
    "# we link towards the used model\n",
    "DEPENDENCY_URL = \"https://s3.waw3-1.cloudferro.com/swift/v1/project_dependencies/onnx_dependencies_1.16.3.zip\"\n",
    "MODEL_URL = \"https://s3.waw3-1.cloudferro.com/swift/v1/project_dependencies/WEED_test.zip\"\n",
    "\n",
    "# we call again the standard processing options for feature generation\n",
    "processing_options = get_standard_processing_options(provider=backend, task='feature_generation')\n",
    "\n",
    "#add the udf dependencies into the job options\n",
    "job_options[\"udf-dependency-archives\"] = [\n",
    "            f\"{DEPENDENCY_URL}#onnx_deps\",\n",
    "            f\"{MODEL_URL}#onnx_models\",\n",
    "        ]\n",
    "\n",
    "# Get the feature list from the ONNX model inside the zip file\n",
    "metadata = get_training_features_from_model_zip(MODEL_URL)\n",
    "INPUT_BANDS = metadata['input_features']\n",
    "OUTPUT_BANDS = metadata['output_features']\n",
    "\n",
    "# just print for an overview\n",
    "print(f'job_options: {job_options}')\n",
    "print(f'collection_options: {collection_options}')\n",
    "print(f'processing_options: {processing_options}')\n",
    "print(f'ML INPUT features: {INPUT_BANDS}')\n",
    "print(f'ML OUTPUT features: {OUTPUT_BANDS}')"
   ]
  },
  {
   "cell_type": "markdown",
   "id": "97e1a2ce-3c14-417e-82b9-9f7e0537bb2b",
   "metadata": {},
   "source": [
    "Here we 'master cube' which contains (up till now) 237 bands which could have been used as training features. This cube is 'lazy loaded' in the sense its not fully loaded into memory. \n",
    "\n",
    "With the filter bands operation, we only keep the (65) bands in the cube on which our ML model was trained on. "
   ]
  },
  {
   "cell_type": "code",
   "execution_count": 6,
   "id": "b1b41f22-0299-4b04-80e1-2bb996ff7aec",
   "metadata": {},
   "outputs": [],
   "source": [
    "# define the openEO pipeline to use\n",
    "data_cube = generate_master_feature_cube(connection,\n",
    "                                   AOI,\n",
    "                                   start,\n",
    "                                   end,\n",
    "                                   **collection_options,\n",
    "                                   **processing_options)\n",
    "\n",
    "data_cube = data_cube.filter_bands(INPUT_BANDS)\n",
    "\n",
    "# run the job on openEO as batch job\n",
    "#job = data_cube.execute_batch(title=f'full feature datacube extraction AOI',\n",
    "#                                  description='generation of full feature data cube of EO data',\n",
    "#                                  outputfile='test2.nc',\n",
    "#                                  job_options=job_options)\n",
    "            "
   ]
  },
  {
   "cell_type": "markdown",
   "id": "30c7e7d7",
   "metadata": {},
   "source": [
    "Verify that the bands of the input cube match with those of our training dataset"
   ]
  },
  {
   "cell_type": "code",
   "execution_count": 8,
   "id": "3457f21f",
   "metadata": {},
   "outputs": [
    {
     "name": "stdout",
     "output_type": "stream",
     "text": [
      "0:00:00 Job 'j-240919bdc6214d8cbc52c38fd3985fda': send 'start'\n",
      "0:00:16 Job 'j-240919bdc6214d8cbc52c38fd3985fda': created (progress 0%)\n",
      "0:00:21 Job 'j-240919bdc6214d8cbc52c38fd3985fda': created (progress 0%)\n",
      "0:00:27 Job 'j-240919bdc6214d8cbc52c38fd3985fda': created (progress 0%)\n",
      "0:00:35 Job 'j-240919bdc6214d8cbc52c38fd3985fda': created (progress 0%)\n",
      "0:00:48 Job 'j-240919bdc6214d8cbc52c38fd3985fda': running (progress N/A)\n",
      "0:01:01 Job 'j-240919bdc6214d8cbc52c38fd3985fda': running (progress N/A)\n",
      "0:01:25 Job 'j-240919bdc6214d8cbc52c38fd3985fda': running (progress N/A)\n",
      "0:01:45 Job 'j-240919bdc6214d8cbc52c38fd3985fda': running (progress N/A)\n",
      "0:02:19 Job 'j-240919bdc6214d8cbc52c38fd3985fda': running (progress N/A)\n",
      "0:02:49 Job 'j-240919bdc6214d8cbc52c38fd3985fda': finished (progress 100%)\n"
     ]
    },
    {
     "data": {
      "text/html": [
       "\n",
       "    <script>\n",
       "    if (!window.customElements || !window.customElements.get('openeo-job')) {\n",
       "        var el = document.createElement('script');\n",
       "        el.src = \"https://cdn.jsdelivr.net/npm/@openeo/vue-components@2/assets/openeo.min.js\";\n",
       "        document.head.appendChild(el);\n",
       "\n",
       "        var font = document.createElement('font');\n",
       "        font.as = \"font\";\n",
       "        font.type = \"font/woff2\";\n",
       "        font.crossOrigin = true;\n",
       "        font.href = \"https://use.fontawesome.com/releases/v5.13.0/webfonts/fa-solid-900.woff2\"\n",
       "        document.head.appendChild(font);\n",
       "    }\n",
       "    </script>\n",
       "    <openeo-job>\n",
       "        <script type=\"application/json\">{\"currency\": \"credits\", \"job\": {\"costs\": 4, \"created\": \"2024-09-19T13:44:32Z\", \"id\": \"j-240919bdc6214d8cbc52c38fd3985fda\", \"process\": {\"process_graph\": {\"aggregatetemporalperiod1\": {\"arguments\": {\"data\": {\"from_node\": \"mask1\"}, \"period\": \"dekad\", \"reducer\": {\"process_graph\": {\"median1\": {\"arguments\": {\"data\": {\"from_parameter\": \"data\"}}, \"process_id\": \"median\", \"result\": true}}}}, \"process_id\": \"aggregate_temporal_period\"}, \"aggregatetemporalperiod2\": {\"arguments\": {\"data\": {\"from_node\": \"resamplespatial2\"}, \"period\": \"dekad\", \"reducer\": {\"process_graph\": {\"mean1\": {\"arguments\": {\"data\": {\"from_parameter\": \"data\"}}, \"process_id\": \"mean\", \"result\": true}}}}, \"process_id\": \"aggregate_temporal_period\"}, \"apply1\": {\"arguments\": {\"data\": {\"from_node\": \"aggregatetemporalperiod1\"}, \"process\": {\"process_graph\": {\"linearscalerange1\": {\"arguments\": {\"inputMax\": 65534, \"inputMin\": 0, \"outputMax\": 65534, \"outputMin\": 0, \"x\": {\"from_parameter\": \"x\"}}, \"process_id\": \"linear_scale_range\", \"result\": true}}}}, \"process_id\": \"apply\"}, \"apply2\": {\"arguments\": {\"data\": {\"from_node\": \"apply1\"}, \"process\": {\"process_graph\": {\"linearscalerange2\": {\"arguments\": {\"inputMax\": 10000, \"inputMin\": 0, \"outputMax\": 1, \"outputMin\": 0, \"x\": {\"from_parameter\": \"x\"}}, \"process_id\": \"linear_scale_range\", \"result\": true}}}}, \"process_id\": \"apply\"}, \"apply3\": {\"arguments\": {\"data\": {\"from_node\": \"applydimension2\"}, \"process\": {\"process_graph\": {\"linearscalerange3\": {\"arguments\": {\"inputMax\": 65534, \"inputMin\": 1, \"outputMax\": 65534, \"outputMin\": 1, \"x\": {\"from_parameter\": \"x\"}}, \"process_id\": \"linear_scale_range\", \"result\": true}}}}, \"process_id\": \"apply\"}, \"apply4\": {\"arguments\": {\"data\": {\"from_node\": \"filterbands2\"}, \"process\": {\"process_graph\": {\"runudf1\": {\"arguments\": {\"data\": {\"from_parameter\": \"x\"}, \"runtime\": \"Python\", \"udf\": \"import functools\\nimport sys\\nfrom typing import Dict\\nimport xarray as xr\\nimport numpy as np\\n\\n# The onnx_deps folder contains the extracted contents of the dependencies archive provided in the job options\\nsys.path.insert(0, \\\"onnx_deps\\\") \\nimport onnxruntime as ort\\n\\n@functools.lru_cache(maxsize=5)\\ndef load_onnx_model(model_name: str) -> ort.InferenceSession:\\n    \\\"\\\"\\\"\\n    Loads an ONNX model from the onnx_models folder and returns an ONNX runtime session.\\n\\n    Extracting the model loading code into a separate function allows us to cache the loaded model.\\n    This prevents the model from being loaded for every chunk of data that is processed, but only once per executor,\\n    which can save a lot of time, memory and ultimately processing costs.\\n\\n    Should you have to download the model from a remote location, you can add the download code here, and cache the model.\\n\\n    Make sure that the arguments of the method you add the @functools.lru_cache decorator to are hashable.\\n    Be careful with using this decorator for class methods, as the self argument is not hashable. \\n    In that case you can use a static method or make sure your class is hashable (more difficult): https://docs.python.org/3/faq/programming.html#faq-cache-method-calls.\\n\\n    More information on this functool can be found here: \\n    https://docs.python.org/3/library/functools.html#functools.lru_cache\\n    \\\"\\\"\\\"\\n    # The onnx_models folder contains the content of the model archive provided in the job options\\n    return ort.InferenceSession(f\\\"onnx_models/{model_name}\\\")\\n\\ndef preprocess_input(input_xr: xr.DataArray, ort_session: ort.InferenceSession) -> tuple:\\n    \\\"\\\"\\\"\\n    Preprocess the input DataArray by ensuring the dimensions are in the correct order,\\n    reshaping it, and returning the reshaped numpy array and the original shape.\\n    \\\"\\\"\\\"\\n    input_xr = input_xr.transpose(\\\"y\\\", \\\"x\\\", \\\"bands\\\")\\n    input_shape = input_xr.shape\\n    input_np = input_xr.values.reshape(-1, ort_session.get_inputs()[0].shape[1])\\n    return input_np, input_shape\\n\\ndef run_inference(input_np: np.ndarray, ort_session: ort.InferenceSession) -> tuple:\\n    \\\"\\\"\\\"\\n    Run inference using the ONNX runtime session and return predicted labels and probabilities.\\n    \\\"\\\"\\\"\\n    ort_inputs = {ort_session.get_inputs()[0].name: input_np}\\n    ort_outputs = ort_session.run(None, ort_inputs)\\n    predicted_labels = ort_outputs[0]\\n    probabilities_dicts = ort_outputs[1]\\n    return predicted_labels, probabilities_dicts\\n\\ndef postprocess_output(predicted_labels: np.ndarray, probabilities_dicts: list, input_shape: tuple) -> tuple:\\n    \\\"\\\"\\\"\\n    Postprocess the output by reshaping the predicted labels and probabilities into the original spatial structure.\\n    \\\"\\\"\\\"\\n    class_labels = list(probabilities_dicts[0].keys())\\n\\n    # Convert probabilities into a 2D array\\n    probabilities = np.array([[prob[class_id] for class_id in class_labels] for prob in probabilities_dicts])\\n\\n    # Reshape to match the (y, x) spatial structure\\n    predicted_labels = predicted_labels.reshape(input_shape[0], input_shape[1])\\n    probabilities = probabilities.reshape(len(class_labels), input_shape[0], input_shape[1])\\n\\n    return predicted_labels, probabilities\\n\\ndef create_output_xarray(predicted_labels: np.ndarray, probabilities: np.ndarray, \\n                         input_xr: xr.DataArray) -> xr.DataArray:\\n    \\\"\\\"\\\"\\n    Create an xarray DataArray with predicted labels and probabilities stacked along the bands dimension.\\n    \\\"\\\"\\\"\\n    combined_data = np.concatenate([\\n        predicted_labels[np.newaxis, :, :],  # Shape (1, y, x) for predicted labels\\n        probabilities  # Shape (n_classes, y, x) for probabilities\\n    ], axis=0)\\n\\n    return xr.DataArray(\\n        combined_data,\\n        dims=[\\\"bands\\\", \\\"y\\\", \\\"x\\\"],\\n        coords={\\n            'y': input_xr.coords['y'],\\n            'x': input_xr.coords['x']\\n        }\\n    )\\n\\ndef apply_model(input_xr: xr.DataArray) -> xr.DataArray:\\n    \\\"\\\"\\\"\\n    Run inference on the given input data using the provided ONNX runtime session.\\n    This method is called for each timestep in the chunk received by apply_datacube.\\n    \\\"\\\"\\\"\\n    # Step 1: Load the ONNX model\\n    ort_session = load_onnx_model(\\\"test.onnx\\\")\\n\\n    # Step 2: Preprocess the input\\n    input_np, input_shape = preprocess_input(input_xr, ort_session)\\n\\n    # Step 3: Perform inference\\n    predicted_labels, probabilities_dicts = run_inference(input_np, ort_session)\\n\\n    # Step 4: Postprocess the output\\n    predicted_labels, probabilities = postprocess_output(predicted_labels, probabilities_dicts, input_shape)\\n\\n    # Step 5: Create the output xarray\\n    return create_output_xarray(predicted_labels, probabilities, input_xr)\\n\\ndef apply_datacube(cube: xr.DataArray, context: Dict) -> xr.DataArray:\\n    \\\"\\\"\\\"\\n    Function that is called for each chunk of data that is processed.\\n    The function name and arguments are defined by the UDF API.\\n    \\n    More information can be found here: \\n    https://open-eo.github.io/openeo-python-client/udf.html#udf-function-names-and-signatures\\n\\n    CAVEAT: Some users tend to extract the underlying numpy array and preprocess it for the model using Numpy functions.\\n        The order of the dimensions in the numpy array might not be the same for each back-end or when running a udf locally, \\n        which can lead to unexpected results. \\n\\n        It is recommended to use the named dimensions of the xarray DataArray to avoid this issue.\\n        The order of the dimensions can be changed using the transpose method.\\n        While it is a better practice to do preprocessing using openeo processes, most operations are also available in Xarray. \\n    \\\"\\\"\\\"\\n    # Define how you want to handle nan values\\n    cube = cube.fillna(0)\\n\\n    # Apply the model for each timestep in the chunk\\n    output_data = apply_model(cube)\\n\\n    return output_data\"}, \"process_id\": \"run_udf\", \"result\": true}}}}, \"process_id\": \"apply\"}, \"applydimension1\": {\"arguments\": {\"data\": {\"from_node\": \"apply2\"}, \"dimension\": \"bands\", \"process\": {\"process_graph\": {\"add1\": {\"arguments\": {\"x\": {\"from_node\": \"arrayelement1\"}, \"y\": {\"from_node\": \"arrayelement2\"}}, \"process_id\": \"add\"}, \"add10\": {\"arguments\": {\"x\": {\"from_node\": \"arrayelement5\"}, \"y\": {\"from_node\": \"arrayelement4\"}}, \"process_id\": \"add\"}, \"add11\": {\"arguments\": {\"x\": {\"from_node\": \"arrayelement1\"}, \"y\": {\"from_node\": \"arrayelement2\"}}, \"process_id\": \"add\"}, \"add12\": {\"arguments\": {\"x\": {\"from_node\": \"arrayelement5\"}, \"y\": {\"from_node\": \"arrayelement4\"}}, \"process_id\": \"add\"}, \"add13\": {\"arguments\": {\"x\": {\"from_node\": \"arrayelement3\"}, \"y\": {\"from_node\": \"arrayelement6\"}}, \"process_id\": \"add\"}, \"add14\": {\"arguments\": {\"x\": {\"from_node\": \"arrayelement7\"}, \"y\": {\"from_node\": \"arrayelement2\"}}, \"process_id\": \"add\"}, \"add15\": {\"arguments\": {\"x\": 705, \"y\": {\"from_node\": \"multiply4\"}}, \"process_id\": \"add\"}, \"add2\": {\"arguments\": {\"x\": {\"from_node\": \"arrayelement1\"}, \"y\": {\"from_node\": \"arrayelement2\"}}, \"process_id\": \"add\"}, \"add3\": {\"arguments\": {\"x\": {\"from_node\": \"arrayelement1\"}, \"y\": {\"from_node\": \"arrayelement4\"}}, \"process_id\": \"add\"}, \"add4\": {\"arguments\": {\"x\": {\"from_node\": \"arrayelement5\"}, \"y\": {\"from_node\": \"arrayelement1\"}}, \"process_id\": \"add\"}, \"add5\": {\"arguments\": {\"x\": {\"from_node\": \"arrayelement5\"}, \"y\": {\"from_node\": \"arrayelement2\"}}, \"process_id\": \"add\"}, \"add6\": {\"arguments\": {\"x\": {\"from_node\": \"add5\"}, \"y\": {\"from_node\": \"arrayelement6\"}}, \"process_id\": \"add\"}, \"add7\": {\"arguments\": {\"x\": {\"from_node\": \"arrayelement5\"}, \"y\": {\"from_node\": \"arrayelement2\"}}, \"process_id\": \"add\"}, \"add8\": {\"arguments\": {\"x\": {\"from_node\": \"add7\"}, \"y\": {\"from_node\": \"arrayelement6\"}}, \"process_id\": \"add\"}, \"add9\": {\"arguments\": {\"x\": {\"from_node\": \"divide7\"}, \"y\": {\"from_node\": \"arrayelement4\"}}, \"process_id\": \"add\"}, \"arrayelement1\": {\"arguments\": {\"data\": {\"from_parameter\": \"data\"}, \"index\": 6}, \"process_id\": \"array_element\"}, \"arrayelement2\": {\"arguments\": {\"data\": {\"from_parameter\": \"data\"}, \"index\": 2}, \"process_id\": \"array_element\"}, \"arrayelement3\": {\"arguments\": {\"data\": {\"from_parameter\": \"data\"}, \"index\": 3}, \"process_id\": \"array_element\"}, \"arrayelement4\": {\"arguments\": {\"data\": {\"from_parameter\": \"data\"}, \"index\": 8}, \"process_id\": \"array_element\"}, \"arrayelement5\": {\"arguments\": {\"data\": {\"from_parameter\": \"data\"}, \"index\": 1}, \"process_id\": \"array_element\"}, \"arrayelement6\": {\"arguments\": {\"data\": {\"from_parameter\": \"data\"}, \"index\": 9}, \"process_id\": \"array_element\"}, \"arrayelement7\": {\"arguments\": {\"data\": {\"from_parameter\": \"data\"}, \"index\": 5}, \"process_id\": \"array_element\"}, \"arrayelement8\": {\"arguments\": {\"data\": {\"from_parameter\": \"data\"}, \"index\": 4}, \"process_id\": \"array_element\"}, \"arraymodify1\": {\"arguments\": {\"data\": {\"from_parameter\": \"data\"}, \"index\": 10, \"values\": [{\"from_node\": \"divide1\"}, {\"from_node\": \"power1\"}, {\"from_node\": \"subtract4\"}, {\"from_node\": \"multiply3\"}, {\"from_node\": \"divide4\"}, {\"from_node\": \"divide5\"}, {\"from_node\": \"divide8\"}, {\"from_node\": \"divide9\"}, {\"from_node\": \"subtract12\"}, {\"from_node\": \"divide12\"}, {\"from_node\": \"add15\"}, {\"from_node\": \"divide16\"}]}, \"process_id\": \"array_modify\", \"result\": true}, \"divide1\": {\"arguments\": {\"x\": {\"from_node\": \"subtract1\"}, \"y\": {\"from_node\": \"add1\"}}, \"process_id\": \"divide\"}, \"divide10\": {\"arguments\": {\"x\": {\"from_node\": \"subtract10\"}, \"y\": {\"from_node\": \"add11\"}}, \"process_id\": \"divide\"}, \"divide11\": {\"arguments\": {\"x\": {\"from_node\": \"subtract11\"}, \"y\": {\"from_node\": \"add12\"}}, \"process_id\": \"divide\"}, \"divide12\": {\"arguments\": {\"x\": {\"from_node\": \"subtract13\"}, \"y\": {\"from_node\": \"add13\"}}, \"process_id\": \"divide\"}, \"divide13\": {\"arguments\": {\"x\": {\"from_node\": \"add14\"}, \"y\": 2}, \"process_id\": \"divide\"}, \"divide14\": {\"arguments\": {\"x\": {\"from_node\": \"subtract14\"}, \"y\": {\"from_node\": \"subtract15\"}}, \"process_id\": \"divide\"}, \"divide15\": {\"arguments\": {\"x\": {\"from_node\": \"arrayelement3\"}, \"y\": {\"from_node\": \"arrayelement8\"}}, \"process_id\": \"divide\"}, \"divide16\": {\"arguments\": {\"x\": {\"from_node\": \"subtract16\"}, \"y\": {\"from_node\": \"divide15\"}}, \"process_id\": \"divide\"}, \"divide2\": {\"arguments\": {\"x\": {\"from_node\": \"arrayelement1\"}, \"y\": {\"from_node\": \"arrayelement3\"}}, \"process_id\": \"divide\"}, \"divide3\": {\"arguments\": {\"x\": {\"from_node\": \"subtract5\"}, \"y\": {\"from_node\": \"add2\"}}, \"process_id\": \"divide\"}, \"divide4\": {\"arguments\": {\"x\": {\"from_node\": \"subtract6\"}, \"y\": {\"from_node\": \"add3\"}}, \"process_id\": \"divide\"}, \"divide5\": {\"arguments\": {\"x\": {\"from_node\": \"subtract7\"}, \"y\": {\"from_node\": \"add4\"}}, \"process_id\": \"divide\"}, \"divide6\": {\"arguments\": {\"x\": {\"from_node\": \"add6\"}, \"y\": 3}, \"process_id\": \"divide\"}, \"divide7\": {\"arguments\": {\"x\": {\"from_node\": \"add8\"}, \"y\": 3}, \"process_id\": \"divide\"}, \"divide8\": {\"arguments\": {\"x\": {\"from_node\": \"subtract8\"}, \"y\": {\"from_node\": \"add9\"}}, \"process_id\": \"divide\"}, \"divide9\": {\"arguments\": {\"x\": {\"from_node\": \"subtract9\"}, \"y\": {\"from_node\": \"add10\"}}, \"process_id\": \"divide\"}, \"multiply1\": {\"arguments\": {\"x\": {\"from_node\": \"arrayelement1\"}, \"y\": {\"from_node\": \"subtract2\"}}, \"process_id\": \"multiply\"}, \"multiply2\": {\"arguments\": {\"x\": {\"from_node\": \"multiply1\"}, \"y\": {\"from_node\": \"subtract3\"}}, \"process_id\": \"multiply\"}, \"multiply3\": {\"arguments\": {\"x\": {\"from_node\": \"divide3\"}, \"y\": {\"from_node\": \"arrayelement1\"}}, \"process_id\": \"multiply\"}, \"multiply4\": {\"arguments\": {\"x\": 35, \"y\": {\"from_node\": \"divide14\"}}, \"process_id\": \"multiply\"}, \"power1\": {\"arguments\": {\"base\": {\"from_node\": \"multiply2\"}, \"p\": 0.3333333333333333}, \"process_id\": \"power\"}, \"subtract1\": {\"arguments\": {\"x\": {\"from_node\": \"arrayelement1\"}, \"y\": {\"from_node\": \"arrayelement2\"}}, \"process_id\": \"subtract\"}, \"subtract10\": {\"arguments\": {\"x\": {\"from_node\": \"arrayelement1\"}, \"y\": {\"from_node\": \"arrayelement2\"}}, \"process_id\": \"subtract\"}, \"subtract11\": {\"arguments\": {\"x\": {\"from_node\": \"arrayelement5\"}, \"y\": {\"from_node\": \"arrayelement4\"}}, \"process_id\": \"subtract\"}, \"subtract12\": {\"arguments\": {\"x\": {\"from_node\": \"divide10\"}, \"y\": {\"from_node\": \"divide11\"}}, \"process_id\": \"subtract\"}, \"subtract13\": {\"arguments\": {\"x\": {\"from_node\": \"arrayelement3\"}, \"y\": {\"from_node\": \"arrayelement6\"}}, \"process_id\": \"subtract\"}, \"subtract14\": {\"arguments\": {\"x\": {\"from_node\": \"divide13\"}, \"y\": {\"from_node\": \"arrayelement3\"}}, \"process_id\": \"subtract\"}, \"subtract15\": {\"arguments\": {\"x\": {\"from_node\": \"arrayelement8\"}, \"y\": {\"from_node\": \"arrayelement3\"}}, \"process_id\": \"subtract\"}, \"subtract16\": {\"arguments\": {\"x\": {\"from_node\": \"arrayelement7\"}, \"y\": {\"from_node\": \"arrayelement2\"}}, \"process_id\": \"subtract\"}, \"subtract2\": {\"arguments\": {\"x\": 1, \"y\": {\"from_node\": \"arrayelement2\"}}, \"process_id\": \"subtract\"}, \"subtract3\": {\"arguments\": {\"x\": {\"from_node\": \"arrayelement1\"}, \"y\": {\"from_node\": \"arrayelement2\"}}, \"process_id\": \"subtract\"}, \"subtract4\": {\"arguments\": {\"x\": {\"from_node\": \"divide2\"}, \"y\": 1}, \"process_id\": \"subtract\"}, \"subtract5\": {\"arguments\": {\"x\": {\"from_node\": \"arrayelement1\"}, \"y\": {\"from_node\": \"arrayelement2\"}}, \"process_id\": \"subtract\"}, \"subtract6\": {\"arguments\": {\"x\": {\"from_node\": \"arrayelement1\"}, \"y\": {\"from_node\": \"arrayelement4\"}}, \"process_id\": \"subtract\"}, \"subtract7\": {\"arguments\": {\"x\": {\"from_node\": \"arrayelement5\"}, \"y\": {\"from_node\": \"arrayelement1\"}}, \"process_id\": \"subtract\"}, \"subtract8\": {\"arguments\": {\"x\": {\"from_node\": \"divide6\"}, \"y\": {\"from_node\": \"arrayelement4\"}}, \"process_id\": \"subtract\"}, \"subtract9\": {\"arguments\": {\"x\": {\"from_node\": \"arrayelement5\"}, \"y\": {\"from_node\": \"arrayelement4\"}}, \"process_id\": \"subtract\"}}}}, \"process_id\": \"apply_dimension\"}, \"applydimension2\": {\"arguments\": {\"data\": {\"from_node\": \"aggregatetemporalperiod2\"}, \"dimension\": \"bands\", \"process\": {\"process_graph\": {\"add16\": {\"arguments\": {\"x\": {\"from_node\": \"multiply5\"}, \"y\": 83}, \"process_id\": \"add\"}, \"add17\": {\"arguments\": {\"x\": {\"from_node\": \"multiply6\"}, \"y\": 83}, \"process_id\": \"add\"}, \"arraycreate1\": {\"arguments\": {\"data\": [{\"from_node\": \"if1\"}, {\"from_node\": \"if2\"}]}, \"process_id\": \"array_create\", \"result\": true}, \"arrayelement10\": {\"arguments\": {\"data\": {\"from_parameter\": \"data\"}, \"index\": 0}, \"process_id\": \"array_element\"}, \"arrayelement11\": {\"arguments\": {\"data\": {\"from_parameter\": \"data\"}, \"index\": 1}, \"process_id\": \"array_element\"}, \"arrayelement12\": {\"arguments\": {\"data\": {\"from_parameter\": \"data\"}, \"index\": 1}, \"process_id\": \"array_element\"}, \"arrayelement9\": {\"arguments\": {\"data\": {\"from_parameter\": \"data\"}, \"index\": 0}, \"process_id\": \"array_element\"}, \"divide17\": {\"arguments\": {\"x\": {\"from_node\": \"add16\"}, \"y\": 20}, \"process_id\": \"divide\"}, \"divide18\": {\"arguments\": {\"x\": {\"from_node\": \"add17\"}, \"y\": 20}, \"process_id\": \"divide\"}, \"if1\": {\"arguments\": {\"accept\": 1, \"reject\": {\"from_node\": \"power2\"}, \"value\": {\"from_node\": \"isnodata1\"}}, \"process_id\": \"if\"}, \"if2\": {\"arguments\": {\"accept\": 1, \"reject\": {\"from_node\": \"power3\"}, \"value\": {\"from_node\": \"isnodata2\"}}, \"process_id\": \"if\"}, \"isnodata1\": {\"arguments\": {\"x\": {\"from_node\": \"arrayelement10\"}}, \"process_id\": \"is_nodata\"}, \"isnodata2\": {\"arguments\": {\"x\": {\"from_node\": \"arrayelement12\"}}, \"process_id\": \"is_nodata\"}, \"log1\": {\"arguments\": {\"base\": 10, \"x\": {\"from_node\": \"arrayelement9\"}}, \"process_id\": \"log\"}, \"log2\": {\"arguments\": {\"base\": 10, \"x\": {\"from_node\": \"arrayelement11\"}}, \"process_id\": \"log\"}, \"multiply5\": {\"arguments\": {\"x\": 10, \"y\": {\"from_node\": \"log1\"}}, \"process_id\": \"multiply\"}, \"multiply6\": {\"arguments\": {\"x\": 10, \"y\": {\"from_node\": \"log2\"}}, \"process_id\": \"multiply\"}, \"power2\": {\"arguments\": {\"base\": 10, \"p\": {\"from_node\": \"divide17\"}}, \"process_id\": \"power\"}, \"power3\": {\"arguments\": {\"base\": 10, \"p\": {\"from_node\": \"divide18\"}}, \"process_id\": \"power\"}}}}, \"process_id\": \"apply_dimension\"}, \"applydimension3\": {\"arguments\": {\"data\": {\"from_node\": \"apply3\"}, \"dimension\": \"bands\", \"process\": {\"process_graph\": {\"arraycreate2\": {\"arguments\": {\"data\": [{\"from_node\": \"subtract17\"}, {\"from_node\": \"subtract18\"}]}, \"process_id\": \"array_create\", \"result\": true}, \"arrayelement13\": {\"arguments\": {\"data\": {\"from_parameter\": \"data\"}, \"index\": 0}, \"process_id\": \"array_element\"}, \"arrayelement14\": {\"arguments\": {\"data\": {\"from_parameter\": \"data\"}, \"index\": 1}, \"process_id\": \"array_element\"}, \"log3\": {\"arguments\": {\"base\": 10, \"x\": {\"from_node\": \"arrayelement13\"}}, \"process_id\": \"log\"}, \"log4\": {\"arguments\": {\"base\": 10, \"x\": {\"from_node\": \"arrayelement14\"}}, \"process_id\": \"log\"}, \"multiply7\": {\"arguments\": {\"x\": 20, \"y\": {\"from_node\": \"log3\"}}, \"process_id\": \"multiply\"}, \"multiply8\": {\"arguments\": {\"x\": 20, \"y\": {\"from_node\": \"log4\"}}, \"process_id\": \"multiply\"}, \"subtract17\": {\"arguments\": {\"x\": {\"from_node\": \"multiply7\"}, \"y\": 83}, \"process_id\": \"subtract\"}, \"subtract18\": {\"arguments\": {\"x\": {\"from_node\": \"multiply8\"}, \"y\": 83}, \"process_id\": \"subtract\"}}}}, \"process_id\": \"apply_dimension\"}, \"applydimension4\": {\"arguments\": {\"context\": {\"TileSize\": 128, \"parallel\": true}, \"data\": {\"from_node\": \"applydimension3\"}, \"dimension\": \"bands\", \"process\": {\"process_graph\": {\"add18\": {\"arguments\": {\"x\": {\"from_node\": \"arrayelement15\"}, \"y\": {\"from_node\": \"arrayelement16\"}}, \"process_id\": \"add\"}, \"arraycreate3\": {\"arguments\": {\"data\": [{\"from_node\": \"arrayelement15\"}, {\"from_node\": \"arrayelement16\"}, {\"from_node\": \"divide19\"}, {\"from_node\": \"subtract19\"}, {\"from_node\": \"divide20\"}]}, \"process_id\": \"array_create\", \"result\": true}, \"arrayelement15\": {\"arguments\": {\"data\": {\"from_parameter\": \"data\"}, \"label\": \"VV\"}, \"process_id\": \"array_element\"}, \"arrayelement16\": {\"arguments\": {\"data\": {\"from_parameter\": \"data\"}, \"label\": \"VH\"}, \"process_id\": \"array_element\"}, \"divide19\": {\"arguments\": {\"x\": {\"from_node\": \"multiply9\"}, \"y\": {\"from_node\": \"add18\"}}, \"process_id\": \"divide\"}, \"divide20\": {\"arguments\": {\"x\": {\"from_node\": \"arrayelement16\"}, \"y\": {\"from_node\": \"arrayelement15\"}}, \"process_id\": \"divide\"}, \"multiply9\": {\"arguments\": {\"x\": 4, \"y\": {\"from_node\": \"arrayelement16\"}}, \"process_id\": \"multiply\"}, \"subtract19\": {\"arguments\": {\"x\": {\"from_node\": \"arrayelement16\"}, \"y\": {\"from_node\": \"arrayelement15\"}}, \"process_id\": \"subtract\"}}}}, \"process_id\": \"apply_dimension\"}, \"applydimension5\": {\"arguments\": {\"context\": {\"TileSize\": 128, \"parallel\": true}, \"data\": {\"from_node\": \"mergecubes1\"}, \"dimension\": \"t\", \"process\": {\"process_graph\": {\"arrayconcat1\": {\"arguments\": {\"array1\": {\"from_node\": \"quantiles1\"}, \"array2\": [{\"from_node\": \"mean2\"}, {\"from_node\": \"sd1\"}, {\"from_node\": \"sum1\"}, {\"from_node\": \"subtract20\"}]}, \"process_id\": \"array_concat\", \"result\": true}, \"mean2\": {\"arguments\": {\"data\": {\"from_parameter\": \"data\"}}, \"process_id\": \"mean\"}, \"quantiles1\": {\"arguments\": {\"data\": {\"from_parameter\": \"data\"}, \"probabilities\": [0.02, 0.25, 0.5, 0.75, 0.98]}, \"process_id\": \"quantiles\"}, \"quantiles2\": {\"arguments\": {\"data\": {\"from_parameter\": \"data\"}, \"probabilities\": [0.75]}, \"process_id\": \"quantiles\"}, \"quantiles3\": {\"arguments\": {\"data\": {\"from_parameter\": \"data\"}, \"probabilities\": [0.25]}, \"process_id\": \"quantiles\"}, \"sd1\": {\"arguments\": {\"data\": {\"from_parameter\": \"data\"}}, \"process_id\": \"sd\"}, \"subtract20\": {\"arguments\": {\"x\": {\"from_node\": \"quantiles2\"}, \"y\": {\"from_node\": \"quantiles3\"}}, \"process_id\": \"subtract\"}, \"sum1\": {\"arguments\": {\"data\": {\"from_parameter\": \"data\"}}, \"process_id\": \"sum\"}}}, \"target_dimension\": \"bands\"}, \"process_id\": \"apply_dimension\"}, \"filterbands1\": {\"arguments\": {\"bands\": [\"B02_p2\", \"B02_p25\", \"B02_median\", \"B02_p75\", \"B02_p98\", \"B02_mean\", \"B02_sd\", \"B02_sum\", \"B02_iqr\", \"B03_p2\", \"B03_p25\", \"B03_median\", \"B03_p75\", \"B03_p98\", \"B03_mean\", \"B03_sd\", \"B03_sum\", \"B03_iqr\", \"B04_p2\", \"B04_p25\", \"B04_median\", \"B04_p75\", \"B04_p98\", \"B04_mean\", \"B04_sd\", \"B04_sum\", \"B04_iqr\", \"B05_p2\", \"B05_p25\", \"B05_median\", \"B05_p75\", \"B05_p98\", \"B05_mean\", \"B05_sd\", \"B05_sum\", \"B05_iqr\", \"B06_p2\", \"B06_p25\", \"B06_median\", \"B06_p75\", \"B06_p98\", \"B06_mean\", \"B06_sd\", \"B06_sum\", \"B06_iqr\", \"B07_p2\", \"B07_p25\", \"B07_median\", \"B07_p75\", \"B07_p98\", \"B07_mean\", \"B07_sd\", \"B07_sum\", \"B07_iqr\", \"B08_p2\", \"B08_p25\", \"B08_median\", \"B08_p75\", \"B08_p98\", \"B08_mean\", \"B08_sd\", \"B08_sum\", \"B08_iqr\", \"B8A_p2\", \"B8A_p25\", \"B8A_median\", \"B8A_p75\", \"B8A_p98\", \"B8A_mean\", \"B8A_sd\", \"B8A_sum\", \"B8A_iqr\", \"B11_p2\", \"B11_p25\", \"B11_median\", \"B11_p75\", \"B11_p98\", \"B11_mean\", \"B11_sd\", \"B11_sum\", \"B11_iqr\", \"B12_p2\", \"B12_p25\", \"B12_median\", \"B12_p75\", \"B12_p98\", \"B12_mean\", \"B12_sd\", \"B12_sum\", \"B12_iqr\", \"NDVI_p2\", \"NDVI_p25\", \"NDVI_median\", \"NDVI_p75\", \"NDVI_p98\", \"NDVI_mean\", \"NDVI_sd\", \"NDVI_sum\", \"NDVI_iqr\", \"AVI_p2\", \"AVI_p25\", \"AVI_median\", \"AVI_p75\", \"AVI_p98\", \"AVI_mean\", \"AVI_sd\", \"AVI_sum\", \"AVI_iqr\", \"CIRE_p2\", \"CIRE_p25\", \"CIRE_median\", \"CIRE_p75\", \"CIRE_p98\", \"CIRE_mean\", \"CIRE_sd\", \"CIRE_sum\", \"CIRE_iqr\", \"NIRv_p2\", \"NIRv_p25\", \"NIRv_median\", \"NIRv_p75\", \"NIRv_p98\", \"NIRv_mean\", \"NIRv_sd\", \"NIRv_sum\", \"NIRv_iqr\", \"NDMI_p2\", \"NDMI_p25\", \"NDMI_median\", \"NDMI_p75\", \"NDMI_p98\", \"NDMI_mean\", \"NDMI_sd\", \"NDMI_sum\", \"NDMI_iqr\", \"NDWI_p2\", \"NDWI_p25\", \"NDWI_median\", \"NDWI_p75\", \"NDWI_p98\", \"NDWI_mean\", \"NDWI_sd\", \"NDWI_sum\", \"NDWI_iqr\", \"BLFEI_p2\", \"BLFEI_p25\", \"BLFEI_median\", \"BLFEI_p75\", \"BLFEI_p98\", \"BLFEI_mean\", \"BLFEI_sd\", \"BLFEI_sum\", \"BLFEI_iqr\", \"MNDWI_p2\", \"MNDWI_p25\", \"MNDWI_median\", \"MNDWI_p75\", \"MNDWI_p98\", \"MNDWI_mean\", \"MNDWI_sd\", \"MNDWI_sum\", \"MNDWI_iqr\", \"NDVIMNDWI_p2\", \"NDVIMNDWI_p25\", \"NDVIMNDWI_median\", \"NDVIMNDWI_p75\", \"NDVIMNDWI_p98\", \"NDVIMNDWI_mean\", \"NDVIMNDWI_sd\", \"NDVIMNDWI_sum\", \"NDVIMNDWI_iqr\", \"S2WI_p2\", \"S2WI_p25\", \"S2WI_median\", \"S2WI_p75\", \"S2WI_p98\", \"S2WI_mean\", \"S2WI_sd\", \"S2WI_sum\", \"S2WI_iqr\", \"S2REP_p2\", \"S2REP_p25\", \"S2REP_median\", \"S2REP_p75\", \"S2REP_p98\", \"S2REP_mean\", \"IRECI_p2\", \"IRECI_p25\", \"IRECI_median\", \"IRECI_p75\", \"IRECI_p98\", \"IRECI_mean\", \"IRECI_sd\", \"IRECI_sum\", \"IRECI_iqr\", \"VV_p2\", \"VV_p25\", \"VV_median\", \"VV_p75\", \"VV_p98\", \"VV_mean\", \"VV_sd\", \"VV_iqr\", \"VH_p2\", \"VH_p25\", \"VH_median\", \"VH_p75\", \"VH_p98\", \"VH_mean\", \"VH_sd\", \"VH_iqr\", \"RVI_p2\", \"RVI_p25\", \"RVI_median\", \"RVI_p75\", \"RVI_p98\", \"RVI_mean\", \"RVI_sd\", \"RVI_sum\", \"RVI_iqr\", \"VHVVD_p2\", \"VHVVD_p25\", \"VHVVD_median\", \"VHVVD_p75\", \"VHVVD_p98\", \"VHVVD_mean\", \"VHVVD_sd\", \"VHVVD_iqr\", \"VHVVR_p2\", \"VHVVR_p25\", \"VHVVR_median\", \"VHVVR_p75\", \"VHVVR_p98\", \"VHVVR_mean\", \"VHVVR_sd\", \"VHVVR_sum\", \"VHVVR_iqr\"], \"data\": {\"from_node\": \"renamelabels4\"}}, \"process_id\": \"filter_bands\"}, \"filterbands2\": {\"arguments\": {\"bands\": [\"BLFEI_p98\", \"NDVIMNDWI_mean\", \"MNDWI_mean\", \"B12_iqr\", \"CIRE_p98\", \"VHVVR_median\", \"NDVI_iqr\", \"NDMI_p2\", \"VH_mean\", \"VHVVR_sd\", \"B05_p25\", \"S2REP_p98\", \"MNDWI_p98\", \"VH_iqr\", \"B07_p25\", \"NDMI_sd\", \"IRECI_p98\", \"BLFEI_sd\", \"NDVIMNDWI_median\", \"B08_mean\", \"B11_sd\", \"S2WI_median\", \"B02_p75\", \"B06_p75\", \"NIRv_sd\", \"NIRv_mean\", \"AVI_iqr\", \"B05_p98\", \"VHVVD_sd\", \"NDWI_p2\", \"B06_mean\", \"B11_p98\", \"VHVVR_iqr\", \"B03_p75\", \"RVI_mean\", \"NDWI_p98\", \"B8A_p98\", \"VHVVD_mean\", \"VH_p2\", \"AVI_p75\", \"S2REP_median\", \"VHVVD_iqr\", \"B03_sum\", \"MNDWI_median\", \"B06_median\", \"VV_p75\", \"AVI_p25\", \"NIRv_p25\", \"VH_p25\", \"B12_sum\", \"CIRE_p25\", \"VHVVR_p75\", \"B03_p2\", \"B11_median\", \"B05_median\", \"S2WI_iqr\", \"AVI_mean\", \"IRECI_sum\", \"B08_iqr\", \"VHVVR_sum\", \"IRECI_iqr\", \"BLFEI_sum\", \"S2WI_p2\", \"B11_sum\", \"B06_iqr\"], \"data\": {\"from_node\": \"filterbands1\"}}, \"process_id\": \"filter_bands\"}, \"loadcollection1\": {\"arguments\": {\"bands\": [\"B02\", \"B03\", \"B04\", \"B05\", \"B06\", \"B07\", \"B08\", \"B8A\", \"B11\", \"B12\"], \"id\": \"SENTINEL2_L2A\", \"properties\": {\"eo:cloud_cover\": {\"process_graph\": {\"lte1\": {\"arguments\": {\"x\": {\"from_parameter\": \"value\"}, \"y\": 95}, \"process_id\": \"lte\", \"result\": true}}}}, \"spatial_extent\": {\"crs\": \"EPSG:3035\", \"east\": 4832000, \"north\": 2819000, \"south\": 2818000, \"west\": 4831000}, \"temporal_extent\": [\"2021-01-01\", \"2021-02-01\"]}, \"process_id\": \"load_collection\"}, \"loadcollection2\": {\"arguments\": {\"bands\": [\"SCL\"], \"id\": \"SENTINEL2_L2A\", \"properties\": {\"eo:cloud_cover\": {\"process_graph\": {\"lte2\": {\"arguments\": {\"x\": {\"from_parameter\": \"value\"}, \"y\": 95}, \"process_id\": \"lte\", \"result\": true}}}}, \"spatial_extent\": {\"crs\": \"EPSG:3035\", \"east\": 4832000, \"north\": 2819000, \"south\": 2818000, \"west\": 4831000}, \"temporal_extent\": [\"2021-01-01\", \"2021-02-01\"]}, \"process_id\": \"load_collection\"}, \"loadcollection3\": {\"arguments\": {\"bands\": [\"VH\", \"VV\"], \"id\": \"SENTINEL1_GRD\", \"properties\": {\"sat:orbit_state\": {\"process_graph\": {\"eq1\": {\"arguments\": {\"x\": {\"from_parameter\": \"value\"}, \"y\": \"DESCENDING\"}, \"process_id\": \"eq\", \"result\": true}}}}, \"spatial_extent\": {\"crs\": \"EPSG:3035\", \"east\": 4832000, \"north\": 2819000, \"south\": 2818000, \"west\": 4831000}, \"temporal_extent\": [\"2021-01-01\", \"2021-02-01\"]}, \"process_id\": \"load_collection\"}, \"mask1\": {\"arguments\": {\"data\": {\"from_node\": \"resamplespatial1\"}, \"mask\": {\"from_node\": \"renamelabels1\"}}, \"process_id\": \"mask\"}, \"mergecubes1\": {\"arguments\": {\"cube1\": {\"from_node\": \"renamelabels2\"}, \"cube2\": {\"from_node\": \"renamelabels3\"}}, \"process_id\": \"merge_cubes\"}, \"renamelabels1\": {\"arguments\": {\"data\": {\"from_node\": \"toscldilationmask1\"}, \"dimension\": \"bands\", \"target\": [\"S2-L2A-SCL_DILATED_MASK\"]}, \"process_id\": \"rename_labels\"}, \"renamelabels2\": {\"arguments\": {\"data\": {\"from_node\": \"applydimension1\"}, \"dimension\": \"bands\", \"target\": [\"B02\", \"B03\", \"B04\", \"B05\", \"B06\", \"B07\", \"B08\", \"B8A\", \"B11\", \"B12\", \"NDVI\", \"AVI\", \"CIRE\", \"NIRv\", \"NDMI\", \"NDWI\", \"BLFEI\", \"MNDWI\", \"NDVIMNDWI\", \"S2WI\", \"S2REP\", \"IRECI\"]}, \"process_id\": \"rename_labels\"}, \"renamelabels3\": {\"arguments\": {\"data\": {\"from_node\": \"applydimension4\"}, \"dimension\": \"bands\", \"target\": [\"VV\", \"VH\", \"RVI\", \"VHVVD\", \"VHVVR\"]}, \"process_id\": \"rename_labels\"}, \"renamelabels4\": {\"arguments\": {\"data\": {\"from_node\": \"applydimension5\"}, \"dimension\": \"bands\", \"target\": [\"B02_p2\", \"B02_p25\", \"B02_median\", \"B02_p75\", \"B02_p98\", \"B02_mean\", \"B02_sd\", \"B02_sum\", \"B02_iqr\", \"B03_p2\", \"B03_p25\", \"B03_median\", \"B03_p75\", \"B03_p98\", \"B03_mean\", \"B03_sd\", \"B03_sum\", \"B03_iqr\", \"B04_p2\", \"B04_p25\", \"B04_median\", \"B04_p75\", \"B04_p98\", \"B04_mean\", \"B04_sd\", \"B04_sum\", \"B04_iqr\", \"B05_p2\", \"B05_p25\", \"B05_median\", \"B05_p75\", \"B05_p98\", \"B05_mean\", \"B05_sd\", \"B05_sum\", \"B05_iqr\", \"B06_p2\", \"B06_p25\", \"B06_median\", \"B06_p75\", \"B06_p98\", \"B06_mean\", \"B06_sd\", \"B06_sum\", \"B06_iqr\", \"B07_p2\", \"B07_p25\", \"B07_median\", \"B07_p75\", \"B07_p98\", \"B07_mean\", \"B07_sd\", \"B07_sum\", \"B07_iqr\", \"B08_p2\", \"B08_p25\", \"B08_median\", \"B08_p75\", \"B08_p98\", \"B08_mean\", \"B08_sd\", \"B08_sum\", \"B08_iqr\", \"B8A_p2\", \"B8A_p25\", \"B8A_median\", \"B8A_p75\", \"B8A_p98\", \"B8A_mean\", \"B8A_sd\", \"B8A_sum\", \"B8A_iqr\", \"B11_p2\", \"B11_p25\", \"B11_median\", \"B11_p75\", \"B11_p98\", \"B11_mean\", \"B11_sd\", \"B11_sum\", \"B11_iqr\", \"B12_p2\", \"B12_p25\", \"B12_median\", \"B12_p75\", \"B12_p98\", \"B12_mean\", \"B12_sd\", \"B12_sum\", \"B12_iqr\", \"NDVI_p2\", \"NDVI_p25\", \"NDVI_median\", \"NDVI_p75\", \"NDVI_p98\", \"NDVI_mean\", \"NDVI_sd\", \"NDVI_sum\", \"NDVI_iqr\", \"AVI_p2\", \"AVI_p25\", \"AVI_median\", \"AVI_p75\", \"AVI_p98\", \"AVI_mean\", \"AVI_sd\", \"AVI_sum\", \"AVI_iqr\", \"CIRE_p2\", \"CIRE_p25\", \"CIRE_median\", \"CIRE_p75\", \"CIRE_p98\", \"CIRE_mean\", \"CIRE_sd\", \"CIRE_sum\", \"CIRE_iqr\", \"NIRv_p2\", \"NIRv_p25\", \"NIRv_median\", \"NIRv_p75\", \"NIRv_p98\", \"NIRv_mean\", \"NIRv_sd\", \"NIRv_sum\", \"NIRv_iqr\", \"NDMI_p2\", \"NDMI_p25\", \"NDMI_median\", \"NDMI_p75\", \"NDMI_p98\", \"NDMI_mean\", \"NDMI_sd\", \"NDMI_sum\", \"NDMI_iqr\", \"NDWI_p2\", \"NDWI_p25\", \"NDWI_median\", \"NDWI_p75\", \"NDWI_p98\", \"NDWI_mean\", \"NDWI_sd\", \"NDWI_sum\", \"NDWI_iqr\", \"BLFEI_p2\", \"BLFEI_p25\", \"BLFEI_median\", \"BLFEI_p75\", \"BLFEI_p98\", \"BLFEI_mean\", \"BLFEI_sd\", \"BLFEI_sum\", \"BLFEI_iqr\", \"MNDWI_p2\", \"MNDWI_p25\", \"MNDWI_median\", \"MNDWI_p75\", \"MNDWI_p98\", \"MNDWI_mean\", \"MNDWI_sd\", \"MNDWI_sum\", \"MNDWI_iqr\", \"NDVIMNDWI_p2\", \"NDVIMNDWI_p25\", \"NDVIMNDWI_median\", \"NDVIMNDWI_p75\", \"NDVIMNDWI_p98\", \"NDVIMNDWI_mean\", \"NDVIMNDWI_sd\", \"NDVIMNDWI_sum\", \"NDVIMNDWI_iqr\", \"S2WI_p2\", \"S2WI_p25\", \"S2WI_median\", \"S2WI_p75\", \"S2WI_p98\", \"S2WI_mean\", \"S2WI_sd\", \"S2WI_sum\", \"S2WI_iqr\", \"S2REP_p2\", \"S2REP_p25\", \"S2REP_median\", \"S2REP_p75\", \"S2REP_p98\", \"S2REP_mean\", \"S2REP_sd\", \"S2REP_sum\", \"S2REP_iqr\", \"IRECI_p2\", \"IRECI_p25\", \"IRECI_median\", \"IRECI_p75\", \"IRECI_p98\", \"IRECI_mean\", \"IRECI_sd\", \"IRECI_sum\", \"IRECI_iqr\", \"VV_p2\", \"VV_p25\", \"VV_median\", \"VV_p75\", \"VV_p98\", \"VV_mean\", \"VV_sd\", \"VV_sum\", \"VV_iqr\", \"VH_p2\", \"VH_p25\", \"VH_median\", \"VH_p75\", \"VH_p98\", \"VH_mean\", \"VH_sd\", \"VH_sum\", \"VH_iqr\", \"RVI_p2\", \"RVI_p25\", \"RVI_median\", \"RVI_p75\", \"RVI_p98\", \"RVI_mean\", \"RVI_sd\", \"RVI_sum\", \"RVI_iqr\", \"VHVVD_p2\", \"VHVVD_p25\", \"VHVVD_median\", \"VHVVD_p75\", \"VHVVD_p98\", \"VHVVD_mean\", \"VHVVD_sd\", \"VHVVD_sum\", \"VHVVD_iqr\", \"VHVVR_p2\", \"VHVVR_p25\", \"VHVVR_median\", \"VHVVR_p75\", \"VHVVR_p98\", \"VHVVR_mean\", \"VHVVR_sd\", \"VHVVR_sum\", \"VHVVR_iqr\"]}, \"process_id\": \"rename_labels\"}, \"renamelabels5\": {\"arguments\": {\"data\": {\"from_node\": \"apply4\"}, \"dimension\": \"bands\", \"target\": [\"predicted_label\", \"prob_class_30000\", \"prob_class_40000\", \"prob_class_50000\", \"prob_class_60000\", \"prob_class_70000\", \"prob_class_80000\", \"prob_class_90000\", \"prob_class_100000\", \"prob_class_110000\"]}, \"process_id\": \"rename_labels\"}, \"resamplespatial1\": {\"arguments\": {\"align\": \"upper-left\", \"data\": {\"from_node\": \"loadcollection1\"}, \"method\": \"near\", \"projection\": 3035, \"resolution\": 10}, \"process_id\": \"resample_spatial\"}, \"resamplespatial2\": {\"arguments\": {\"align\": \"upper-left\", \"data\": {\"from_node\": \"sarbackscatter1\"}, \"method\": \"near\", \"projection\": 3035, \"resolution\": 10}, \"process_id\": \"resample_spatial\"}, \"sarbackscatter1\": {\"arguments\": {\"coefficient\": \"sigma0-ellipsoid\", \"contributing_area\": false, \"data\": {\"from_node\": \"loadcollection3\"}, \"elevation_model\": \"COPERNICUS_30\", \"ellipsoid_incidence_angle\": false, \"local_incidence_angle\": false, \"mask\": false, \"noise_removal\": true, \"options\": {\"debug\": false, \"elev_geoid\": \"/opt/openeo-vito-aux-data/egm96.tif\", \"implementation_version\": \"2\", \"otb_memory\": 1024, \"tile_size\": 256}}, \"process_id\": \"sar_backscatter\"}, \"saveresult1\": {\"arguments\": {\"data\": {\"from_node\": \"renamelabels5\"}, \"format\": \"netCDF\", \"options\": {}}, \"process_id\": \"save_result\", \"result\": true}, \"toscldilationmask1\": {\"arguments\": {\"data\": {\"from_node\": \"loadcollection2\"}, \"erosion_kernel_size\": 3, \"kernel1_size\": 17, \"kernel2_size\": 77, \"mask1_values\": [2, 4, 5, 6, 7], \"mask2_values\": [3, 8, 9, 10, 11], \"scl_band_name\": \"SCL\"}, \"process_id\": \"to_scl_dilation_mask\"}}}, \"progress\": 100, \"status\": \"finished\", \"updated\": \"2024-09-19T13:47:18Z\", \"usage\": {\"cpu\": {\"unit\": \"cpu-seconds\", \"value\": 388.48791772799996}, \"duration\": {\"unit\": \"seconds\", \"value\": 134}, \"input_pixel\": {\"unit\": \"mega-pixel\", \"value\": 5.5}, \"max_executor_memory\": {\"unit\": \"gb\", \"value\": 1.5954971313476562}, \"memory\": {\"unit\": \"mb-seconds\", \"value\": 2648206.14453125}, \"network_received\": {\"unit\": \"b\", \"value\": 3894491506}}}}</script>\n",
       "    </openeo-job>\n",
       "    "
      ],
      "text/plain": [
       "<BatchJob job_id='j-240919bdc6214d8cbc52c38fd3985fda'>"
      ]
     },
     "execution_count": 8,
     "metadata": {},
     "output_type": "execute_result"
    }
   ],
   "source": [
    "udf  = openeo.UDF.from_file(getUDFpath('udf_catboost_inference.py'))\n",
    "\n",
    "# Apply the UDF to the data cube.\n",
    "catboost_classification = data_cube.apply(\n",
    "    process=udf)\n",
    "\n",
    "#run inference\n",
    "output = catboost_classification.rename_labels(dimension=\"bands\",target= OUTPUT_BANDS)\n",
    "\n",
    "output.execute_batch(\"output.nc\", job_options=job_options)"
   ]
  }
 ],
 "metadata": {
  "kernelspec": {
   "display_name": "weed_env",
   "language": "python",
   "name": "python3"
  },
  "language_info": {
   "codemirror_mode": {
    "name": "ipython",
    "version": 3
   },
   "file_extension": ".py",
   "mimetype": "text/x-python",
   "name": "python",
   "nbconvert_exporter": "python",
   "pygments_lexer": "ipython3",
   "version": "3.10.14"
  }
 },
 "nbformat": 4,
 "nbformat_minor": 5
}
