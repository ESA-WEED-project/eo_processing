{
 "cells": [
  {
   "metadata": {},
   "cell_type": "markdown",
   "source": "# Using the Google Drive in Python and openEO environment",
   "id": "8367cdff472caaae"
  },
  {
   "metadata": {},
   "cell_type": "markdown",
   "source": [
    "In WEED we want to use files from the GoogleDrive for the processing - mainly in the benchmarking part of the project. MOreover, some of the results of the benchmarking should be directly uploaded to the GDrive and therefore available for all user. The following steps had to be implemented to access the GDrive from Python.\n",
    "\n",
    "1. Sign in to the WEED Google Account and open the Google Cloud Console to create a project. <br>\n",
    "  - go to https://console.cloud.google.com/  <br>\n",
    "  - Create a New Project: Click on “Select a project” at the top and then “New Project”. Give it a name and create. Name is \"WEED-2024\"\n",
    "2. enable the Google Drive API for the WEED project <br>\n",
    "  - Navigate to APIs & Services: In the left sidebar, go to “APIs & Services” > “Dashboard”.\n",
    "  - Enable APIs: Click on “Enable APIs and Services”. Search for “Google Drive API” and enable it for your project.\n",
    "3. create credentials\n",
    "  - Generate Credentials: In the left sidebar, go to “APIs & Services” > “Credentials”.\n",
    "  - Create Credentials: Click “Create Credentials” > “Service Account”. Fill in details, choose a role, and create a JSON key. Save this JSON key securely.\n",
    "    - Name: gdrive_access\n",
    "    - Email: gdrive-access@weed-2024.iam.gserviceaccount.com (automatic generation)\n",
    "    - enable the service account status\n",
    "4. JSON access key\n",
    "  - Download and Use JSON Key: Store the downloaded JSON key securely on your local machine. This key will be used for authenticating your application to access the Drive API. (The service account key can only be retrieved the first time)\n",
    "  - BEST: store the key in a secure location like the VITO valut and access it from there client-side (https://confluence.vito.be/pages/viewpage.action?spaceKey=EP&title=Vault+user+guide)\n",
    "  - Therefore, if you need a new key just add a new key to the gdrive_access credentials!!!!!\n",
    "5. make sure that for each file and folder which should be available in Python the servie account email address is added to the \"access\" of these files and folders. Currently only the folder \"openeo_tests\" under WEED/working/WP4_ToolboxDvlpt is granted access in this way.\n",
    "6. install the pydrive2 python package in the WEED environment"
   ],
   "id": "dbc2736d86f3f98e"
  },
  {
   "metadata": {
    "ExecuteTime": {
     "end_time": "2024-11-18T12:06:03.030377Z",
     "start_time": "2024-11-18T12:06:02.459958Z"
    }
   },
   "cell_type": "code",
   "source": [
    "import platform\n",
    "import os\n",
    "\n",
    "from pydrive2.auth import GoogleAuth\n",
    "from pydrive2.fs import GDriveFileSystem\n",
    "import pandas as pd\n",
    "import hvac\n",
    "from getpass import getpass"
   ],
   "id": "1d5396d00e6855ec",
   "outputs": [],
   "execution_count": 1
  },
  {
   "metadata": {},
   "cell_type": "code",
   "outputs": [],
   "execution_count": null,
   "source": [
    "def get_gdrive_credentials(username: str = 'buchhornm') -> str:\n",
    "    \"\"\"\n",
    "    Retrieves Google Drive access credentials from Terrascope VAULT using LDAP authentication.\n",
    "\n",
    "    This method prompts the user to enter their password for Terrascope VAULT, authenticates\n",
    "    with the VAULT using LDAP, and fetches the Google Drive service account credentials\n",
    "    from a specified KV storage path.\n",
    "\n",
    "    :param username: LDAP username used to authenticate with the VAULT, defaults to 'buchhornm'\n",
    "    :return: Google Drive access credentials\n",
    "    \"\"\"\n",
    "    password_prompt = 'Please enter your password for the Terrascope VAULT: '\n",
    "    service_account_password = getpass(prompt=password_prompt)\n",
    "\n",
    "    client = hvac.Client(url='https://vault.vgt.vito.be')\n",
    "\n",
    "    client.auth.ldap.login(\n",
    "        username=username,\n",
    "        password=service_account_password,\n",
    "        mount_point='ldap'\n",
    "    )\n",
    "\n",
    "    secret_version_response = client.secrets.kv.v2.read_secret_version(mount_point='kv',\n",
    "                                                                       path='apps/weed/google-service-account')\n",
    "\n",
    "    return secret_version_response['data']['data']['gdrive-access']"
   ],
   "id": "e83a23c395f62b03"
  },
  {
   "metadata": {},
   "cell_type": "code",
   "outputs": [],
   "execution_count": null,
   "source": [
    "# get the credentials for the GDrive service account access from the vault\n",
    "gdrive_credentials = get_gdrive_credentials(username='buchhornm')"
   ],
   "id": "d32dafcafb0b9bb5"
  },
  {
   "metadata": {
    "ExecuteTime": {
     "end_time": "2024-11-18T12:06:05.417735Z",
     "start_time": "2024-11-18T12:06:05.413360Z"
    }
   },
   "cell_type": "code",
   "source": [
    "# set needed credential path depending on operation system\n",
    "if platform.system() == \"Windows\":\n",
    "    path_cred = os.path.normpath(r'\\\\netapp03.vgt.vito.be\\MEPVM\\Marcel\\weed\\weed-2024-23dfc6e2b884.json')\n",
    "elif platform.system() == \"Linux\":\n",
    "    path_cred = os.path.normpath(r'/data/MEPVM/Marcel/weed/weed-2024-23dfc6e2b884.json')\n",
    "else:\n",
    "    raise SystemError(\"Running on an unsupported platform\")"
   ],
   "id": "33e00d003ef91140",
   "outputs": [],
   "execution_count": 2
  },
  {
   "metadata": {
    "ExecuteTime": {
     "end_time": "2024-11-18T12:06:07.469707Z",
     "start_time": "2024-11-18T12:06:07.287732Z"
    }
   },
   "cell_type": "code",
   "source": [
    "# init the fsspec filesystem to access the files & folders available for the service account credentials\n",
    "# gdrive-access@weed-2024.iam.gserviceaccount.com\n",
    "# \"1k27bitdRp41AtHq1xupyqwKaTLzrMUMu\" is the ID of the only folder currently available for this service account\n",
    "# if more folder should be available then add the email_address to the user of the files and/or folders wished\n",
    "# see: https://filesystem-spec.readthedocs.io/en/latest/usage.html#use-a-file-system for more info to interact with file system\n",
    "\n",
    "gdrive = GDriveFileSystem(\"1k27bitdRp41AtHq1xupyqwKaTLzrMUMu\",\n",
    "                          use_service_account=True,\n",
    "                          client_json_file_path=path_cred)"
   ],
   "id": "c889a030df1ca7b5",
   "outputs": [],
   "execution_count": 3
  },
  {
   "metadata": {
    "ExecuteTime": {
     "end_time": "2024-11-18T12:06:10.860651Z",
     "start_time": "2024-11-18T12:06:09.449502Z"
    }
   },
   "cell_type": "code",
   "source": [
    "# list files and folders\n",
    "for root, dnames, fnames in gdrive.walk(gdrive.root):\n",
    "    print(root, dnames, fnames)"
   ],
   "id": "f62ea419ff5bef99",
   "outputs": [
    {
     "name": "stdout",
     "output_type": "stream",
     "text": [
      "1k27bitdRp41AtHq1xupyqwKaTLzrMUMu [] ['basic_20x20km_grid_no-crs.gpkg', 'SK_v5_reference-points_EUNIS2012.csv', 'global_high-res_UTMzones.gpkg', 'Land_masses_10km_buffered_Clipped_S2.gpkg']\n"
     ]
    }
   ],
   "execution_count": 4
  },
  {
   "metadata": {
    "ExecuteTime": {
     "end_time": "2024-11-18T12:06:17.907447Z",
     "start_time": "2024-11-18T12:06:13.447703Z"
    }
   },
   "cell_type": "code",
   "source": [
    "# we can interact now quite easy with the data - example for the CSV file read in pandas\n",
    "# Note: you always have to start from the entrance point and then add the sub-folder plus filenames separated by \"/\"\n",
    "with gdrive.open(gdrive.root + \"/\" + 'SK_v5_reference-points_EUNIS2012.csv', 'rb') as f:\n",
    "    df = pd.read_csv(f)\n",
    "df.head()\n"
   ],
   "id": "d8a21184216e310d",
   "outputs": [
    {
     "data": {
      "text/plain": [
       "   fid     entry             x             y  valid_L1  valid_L2  valid_L3  \\\n",
       "0    1  P5000001  4.849642e+06  2.811280e+06      True      True      True   \n",
       "1    2  P5000002  4.851750e+06  2.815627e+06      True      True      True   \n",
       "2    3  P5000003  4.854840e+06  2.816960e+06      True      True      True   \n",
       "3    4  P5000004  4.854535e+06  2.819285e+06      True      True      True   \n",
       "4    5  P5000005  4.855180e+06  2.819730e+06      True      True      True   \n",
       "\n",
       "         lon        lat label_L1 label_L2 label_L3  \n",
       "0  17.118680  48.185489        C       C3     C3.4  \n",
       "1  17.152425  48.222568        C       C3     C3.4  \n",
       "2  17.195542  48.231791        C       C3     C3.4  \n",
       "3  17.194425  48.252869        C       C3     C3.4  \n",
       "4  17.203641  48.256284        C       C3     C3.4  "
      ],
      "text/html": [
       "<div>\n",
       "<style scoped>\n",
       "    .dataframe tbody tr th:only-of-type {\n",
       "        vertical-align: middle;\n",
       "    }\n",
       "\n",
       "    .dataframe tbody tr th {\n",
       "        vertical-align: top;\n",
       "    }\n",
       "\n",
       "    .dataframe thead th {\n",
       "        text-align: right;\n",
       "    }\n",
       "</style>\n",
       "<table border=\"1\" class=\"dataframe\">\n",
       "  <thead>\n",
       "    <tr style=\"text-align: right;\">\n",
       "      <th></th>\n",
       "      <th>fid</th>\n",
       "      <th>entry</th>\n",
       "      <th>x</th>\n",
       "      <th>y</th>\n",
       "      <th>valid_L1</th>\n",
       "      <th>valid_L2</th>\n",
       "      <th>valid_L3</th>\n",
       "      <th>lon</th>\n",
       "      <th>lat</th>\n",
       "      <th>label_L1</th>\n",
       "      <th>label_L2</th>\n",
       "      <th>label_L3</th>\n",
       "    </tr>\n",
       "  </thead>\n",
       "  <tbody>\n",
       "    <tr>\n",
       "      <th>0</th>\n",
       "      <td>1</td>\n",
       "      <td>P5000001</td>\n",
       "      <td>4.849642e+06</td>\n",
       "      <td>2.811280e+06</td>\n",
       "      <td>True</td>\n",
       "      <td>True</td>\n",
       "      <td>True</td>\n",
       "      <td>17.118680</td>\n",
       "      <td>48.185489</td>\n",
       "      <td>C</td>\n",
       "      <td>C3</td>\n",
       "      <td>C3.4</td>\n",
       "    </tr>\n",
       "    <tr>\n",
       "      <th>1</th>\n",
       "      <td>2</td>\n",
       "      <td>P5000002</td>\n",
       "      <td>4.851750e+06</td>\n",
       "      <td>2.815627e+06</td>\n",
       "      <td>True</td>\n",
       "      <td>True</td>\n",
       "      <td>True</td>\n",
       "      <td>17.152425</td>\n",
       "      <td>48.222568</td>\n",
       "      <td>C</td>\n",
       "      <td>C3</td>\n",
       "      <td>C3.4</td>\n",
       "    </tr>\n",
       "    <tr>\n",
       "      <th>2</th>\n",
       "      <td>3</td>\n",
       "      <td>P5000003</td>\n",
       "      <td>4.854840e+06</td>\n",
       "      <td>2.816960e+06</td>\n",
       "      <td>True</td>\n",
       "      <td>True</td>\n",
       "      <td>True</td>\n",
       "      <td>17.195542</td>\n",
       "      <td>48.231791</td>\n",
       "      <td>C</td>\n",
       "      <td>C3</td>\n",
       "      <td>C3.4</td>\n",
       "    </tr>\n",
       "    <tr>\n",
       "      <th>3</th>\n",
       "      <td>4</td>\n",
       "      <td>P5000004</td>\n",
       "      <td>4.854535e+06</td>\n",
       "      <td>2.819285e+06</td>\n",
       "      <td>True</td>\n",
       "      <td>True</td>\n",
       "      <td>True</td>\n",
       "      <td>17.194425</td>\n",
       "      <td>48.252869</td>\n",
       "      <td>C</td>\n",
       "      <td>C3</td>\n",
       "      <td>C3.4</td>\n",
       "    </tr>\n",
       "    <tr>\n",
       "      <th>4</th>\n",
       "      <td>5</td>\n",
       "      <td>P5000005</td>\n",
       "      <td>4.855180e+06</td>\n",
       "      <td>2.819730e+06</td>\n",
       "      <td>True</td>\n",
       "      <td>True</td>\n",
       "      <td>True</td>\n",
       "      <td>17.203641</td>\n",
       "      <td>48.256284</td>\n",
       "      <td>C</td>\n",
       "      <td>C3</td>\n",
       "      <td>C3.4</td>\n",
       "    </tr>\n",
       "  </tbody>\n",
       "</table>\n",
       "</div>"
      ]
     },
     "execution_count": 5,
     "metadata": {},
     "output_type": "execute_result"
    }
   ],
   "execution_count": 5
  },
  {
   "metadata": {},
   "cell_type": "code",
   "outputs": [],
   "execution_count": null,
   "source": "",
   "id": "8ff984bdde817c07"
  },
  {
   "metadata": {},
   "cell_type": "code",
   "outputs": [],
   "execution_count": null,
   "source": "",
   "id": "229e78f7cf1ee8ea"
  }
 ],
 "metadata": {
  "kernelspec": {
   "display_name": "weed",
   "language": "python",
   "name": "weed"
  },
  "language_info": {
   "codemirror_mode": {
    "name": "ipython",
    "version": 2
   },
   "file_extension": ".py",
   "mimetype": "text/x-python",
   "name": "python",
   "nbconvert_exporter": "python",
   "pygments_lexer": "ipython2",
   "version": "2.7.6"
  }
 },
 "nbformat": 4,
 "nbformat_minor": 5
}
