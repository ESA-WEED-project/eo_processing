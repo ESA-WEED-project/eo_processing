{
 "cells": [
  {
   "metadata": {},
   "cell_type": "markdown",
   "source": "# Using the Google Drive in Python and openEO environment",
   "id": "ed30f45ec0b3dea4"
  },
  {
   "metadata": {},
   "cell_type": "markdown",
   "source": [
    "In WEED we want to use files from the GoogleDrive for the processing - mainly in the benchmarking part of the project. MOreover, some of the results of the benchmarking should be directly uploaded to the GDrive and therefore available for all user. The following steps had to be implemented to access the GDrive from Python.\n",
    "\n",
    "1. Sign in to the WEED Google Account and open the Google Cloud Console to create a project. <br>\n",
    "  - go to https://console.cloud.google.com/  <br>\n",
    "  - Create a New Project: Click on “Select a project” at the top and then “New Project”. Give it a name and create. Name is \"WEED-2024\"\n",
    "2. enable the Google Drive API for the WEED project <br>\n",
    "  - Navigate to APIs & Services: In the left sidebar, go to “APIs & Services” > “Dashboard”.\n",
    "  - Enable APIs: Click on “Enable APIs and Services”. Search for “Google Drive API” and enable it for your project.\n",
    "3. create credentials\n",
    "  - Generate Credentials: In the left sidebar, go to “APIs & Services” > “Credentials”.\n",
    "  - Create Credentials: Click “Create Credentials” > “Service Account”. Fill in details, choose a role, and create a JSON key. Save this JSON key securely.\n",
    "    - Name: gdrive_access\n",
    "    - Email: gdrive-access@weed-2024.iam.gserviceaccount.com (automatic generation)\n",
    "    - enable the service account status\n",
    "4. JSON access key\n",
    "  - Download and Use JSON Key: Store the downloaded JSON key securely on your local machine. This key will be used for authenticating your application to access the Drive API. (The service account key can only be retrieved the first time)\n",
    "  - Therefore, if you need a new key just add a new key to the gdrive_access credentials!!!!!\n",
    "  - BEST: store the key in a secure location like the VITO valut and access it from there client-side (https://confluence.vito.be/pages/viewpage.action?spaceKey=EP&title=Vault+user+guide)\n",
    "  - link to the VITO vault which you can access with your TERRASCOPE credentials: https://vault.vgt.vito.be/ui/vault/auth?with=ldap\n",
    "5. make sure that for each file and folder which should be available in Python the servie account email address is added to the \"access\" of these files and folders. Currently only the folder \"openeo_tests\" under WEED/working/WP4_ToolboxDvlpt is granted access in this way.\n",
    "6. install the pydrive2 python package in the WEED environment"
   ],
   "id": "30ee94f8ff2cdab2"
  },
  {
   "metadata": {},
   "cell_type": "code",
   "outputs": [],
   "execution_count": null,
   "source": [
    "from pydrive2.fs import GDriveFileSystem\n",
    "import pandas as pd\n",
    "import hvac\n",
    "from getpass import getpass\n",
    "from eo_processing.utils.storage import WEED_storage"
   ],
   "id": "910da53275c67ed2"
  },
  {
   "metadata": {},
   "cell_type": "code",
   "outputs": [],
   "execution_count": null,
   "source": [
    "def get_WEED_credentials(username: str = 'buchhornm', key: str = 'gdrive-access') -> str:\n",
    "    \"\"\"\n",
    "    Retrieves WEED access credentials from Terrascope VAULT using LDAP authentication.\n",
    "\n",
    "    This method prompts the user to enter their password for Terrascope VAULT, authenticates\n",
    "    with the VAULT using LDAP, and fetches credentials from the WEED KV storage path.\n",
    "\n",
    "    :param username: LDAP username used to authenticate with the VAULT, defaults to 'buchhornm'\n",
    "    :param key: Key in the KV WEED storage to get value from, defaults to 'gdrive-access'\n",
    "    :return: credentials as a string\n",
    "    \"\"\"\n",
    "    password_prompt = 'Please enter your password for the Terrascope VAULT: '\n",
    "    service_account_password = getpass(prompt=password_prompt)\n",
    "\n",
    "    client = hvac.Client(url='https://vault.vgt.vito.be')\n",
    "\n",
    "    client.auth.ldap.login(\n",
    "        username=username,\n",
    "        password=service_account_password,\n",
    "        mount_point='ldap'\n",
    "    )\n",
    "\n",
    "    secret_version_response = client.secrets.kv.v2.read_secret_version(mount_point='kv',\n",
    "                                                                       path='TAP/apps/WEED',\n",
    "                                                                       raise_on_deleted_version=True)\n",
    "\n",
    "    client.logout()\n",
    "\n",
    "    return secret_version_response['data']['data'][key]"
   ],
   "id": "f1e1668457583572"
  },
  {
   "metadata": {},
   "cell_type": "code",
   "outputs": [],
   "execution_count": null,
   "source": [
    "# get the credentials for the GDrive service account access from the VITO TERRASCOPE vault\n",
    "gdrive_credentials = get_WEED_credentials(username='deroob', key='gdrive-access')"
   ],
   "id": "9ab997420e6ebd23"
  },
  {
   "metadata": {},
   "cell_type": "code",
   "outputs": [],
   "execution_count": null,
   "source": [
    "# init the fsspec filesystem to access the files & folders available for the service account credentials\n",
    "# gdrive-access@weed-2024.iam.gserviceaccount.com\n",
    "# \"1k27bitdRp41AtHq1xupyqwKaTLzrMUMu\" is the ID of the only folder currently available for this service account\n",
    "# if more folder should be available then add the email_address to the user of the files and/or folders wished\n",
    "# see: https://filesystem-spec.readthedocs.io/en/latest/usage.html#use-a-file-system for more info to interact with file system\n",
    "\n",
    "gdrive = GDriveFileSystem(\"1k27bitdRp41AtHq1xupyqwKaTLzrMUMu\",\n",
    "                          use_service_account=True,\n",
    "                          client_json=gdrive_credentials,)"
   ],
   "id": "ced4ef2536d05a02"
  },
  {
   "metadata": {},
   "cell_type": "code",
   "outputs": [],
   "execution_count": null,
   "source": [
    "# list files and folders\n",
    "for root, dnames, fnames in gdrive.walk(gdrive.root):\n",
    "    print(root, dnames, fnames)"
   ],
   "id": "df571ce2b8bce11f"
  },
  {
   "metadata": {},
   "cell_type": "code",
   "outputs": [],
   "execution_count": null,
   "source": [
    "# we can interact now quite easy with the data - example for the CSV file read in pandas\n",
    "# Note: you always have to start from the entrance point and then add the sub-folder plus filenames separated by \"/\"\n",
    "with gdrive.open(gdrive.root + \"/\" + 'SK_v5_reference-points_EUNIS2012.csv', 'rb') as f:\n",
    "    df = pd.read_csv(f)\n",
    "df.head()\n"
   ],
   "id": "53ea31f7674d07fb"
  },
  {
   "metadata": {},
   "cell_type": "markdown",
   "source": "Now we're going to try the same things but with the WEED_storage object",
   "id": "ff8ed55e5808349"
  },
  {
   "metadata": {},
   "cell_type": "code",
   "outputs": [],
   "execution_count": null,
   "source": "storage = WEED_storage(username='deroob')",
   "id": "c9654e69efd8721f"
  },
  {
   "metadata": {},
   "cell_type": "code",
   "outputs": [],
   "execution_count": null,
   "source": [
    "import json\n",
    "gdrive = GDriveFileSystem(\"1k27bitdRp41AtHq1xupyqwKaTLzrMUMu\",\n",
    "                          use_service_account=True,\n",
    "                          client_json=json.dumps(storage.gdrive_credentials),)"
   ],
   "id": "93a1d9795fb3fb2"
  },
  {
   "metadata": {},
   "cell_type": "code",
   "outputs": [],
   "execution_count": null,
   "source": [
    "for root, dnames, fnames in gdrive.walk(gdrive.root):\n",
    "    print(root, dnames, fnames)"
   ],
   "id": "390bcf4c3981f702"
  },
  {
   "metadata": {},
   "cell_type": "code",
   "outputs": [],
   "execution_count": null,
   "source": "",
   "id": "3d843e42223f6f7b"
  }
 ],
 "metadata": {
  "kernelspec": {
   "display_name": "weed",
   "language": "python",
   "name": "weed"
  },
  "language_info": {
   "codemirror_mode": {
    "name": "ipython",
    "version": 2
   },
   "file_extension": ".py",
   "mimetype": "text/x-python",
   "name": "python",
   "nbconvert_exporter": "python",
   "pygments_lexer": "ipython2",
   "version": "2.7.6"
  }
 },
 "nbformat": 4,
 "nbformat_minor": 5
}
