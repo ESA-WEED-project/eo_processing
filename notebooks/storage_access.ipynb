{
 "cells": [
  {
   "metadata": {},
   "cell_type": "code",
   "outputs": [],
   "execution_count": null,
   "source": [
    "from eo_processing.utils.storage import WEED_storage\n",
    "from eo_processing.config import generate_storage_options"
   ],
   "id": "7d6499a360e610a5"
  },
  {
   "metadata": {},
   "cell_type": "code",
   "outputs": [],
   "execution_count": null,
   "source": [
    "# define the output folder (make sure you adapt this to your folder structure)\n",
    "#define if S3 workspace is needed\n",
    "workspace_path = f\"tests/Bert/Bert_test_v{str(2)}\"\n",
    "storage = WEED_storage(username='deroob',s3_bucket='test')\n",
    "storage_options = generate_storage_options(workspace_export = True, S3_prefix=workspace_path, local_S3_needed = True, storage=storage)\n"
   ],
   "id": "75033be000cc7f05"
  },
  {
   "metadata": {},
   "cell_type": "code",
   "outputs": [],
   "execution_count": null,
   "source": "sonata_storage = WEED_storage(username='deroob',s3_bucket='blabla',project='sonata')",
   "id": "b40ad56024036845"
  },
  {
   "metadata": {},
   "cell_type": "code",
   "outputs": [],
   "execution_count": null,
   "source": "",
   "id": "4eae5b169c64aa00"
  }
 ],
 "metadata": {},
 "nbformat": 4,
 "nbformat_minor": 5
}
